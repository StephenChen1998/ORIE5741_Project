{
 "cells": [
  {
   "cell_type": "code",
   "execution_count": 37,
   "id": "5e430234",
   "metadata": {},
   "outputs": [],
   "source": [
    "import pandas as pd\n",
    "import numpy as np"
   ]
  },
  {
   "cell_type": "code",
   "execution_count": 38,
   "id": "ca7e8d0e",
   "metadata": {},
   "outputs": [
    {
     "data": {
      "text/html": [
       "<div>\n",
       "<style scoped>\n",
       "    .dataframe tbody tr th:only-of-type {\n",
       "        vertical-align: middle;\n",
       "    }\n",
       "\n",
       "    .dataframe tbody tr th {\n",
       "        vertical-align: top;\n",
       "    }\n",
       "\n",
       "    .dataframe thead th {\n",
       "        text-align: right;\n",
       "    }\n",
       "</style>\n",
       "<table border=\"1\" class=\"dataframe\">\n",
       "  <thead>\n",
       "    <tr style=\"text-align: right;\">\n",
       "      <th></th>\n",
       "      <th>activity_year</th>\n",
       "      <th>lei</th>\n",
       "      <th>derived_msa-md</th>\n",
       "      <th>county_code</th>\n",
       "      <th>census_tract</th>\n",
       "      <th>conforming_loan_limit</th>\n",
       "      <th>derived_loan_product_type</th>\n",
       "      <th>derived_dwelling_category</th>\n",
       "      <th>derived_ethnicity</th>\n",
       "      <th>derived_race</th>\n",
       "      <th>...</th>\n",
       "      <th>tract_to_msa_income_percentage</th>\n",
       "      <th>tract_owner_occupied_units</th>\n",
       "      <th>tract_one_to_four_family_homes</th>\n",
       "      <th>tract_median_age_of_housing_units</th>\n",
       "      <th>county code</th>\n",
       "      <th>county name</th>\n",
       "      <th>median_housing_price</th>\n",
       "      <th>year</th>\n",
       "      <th>covid_year</th>\n",
       "      <th>ratio</th>\n",
       "    </tr>\n",
       "  </thead>\n",
       "  <tbody>\n",
       "    <tr>\n",
       "      <th>0</th>\n",
       "      <td>2018.0</td>\n",
       "      <td>TR24TWEY5RVRQV65HD49</td>\n",
       "      <td>35614.0</td>\n",
       "      <td>36081.0</td>\n",
       "      <td>3.608106e+10</td>\n",
       "      <td>C</td>\n",
       "      <td>Conventional:Subordinate Lien</td>\n",
       "      <td>Single Family (1-4 Units):Site-Built</td>\n",
       "      <td>Ethnicity Not Available</td>\n",
       "      <td>Race Not Available</td>\n",
       "      <td>...</td>\n",
       "      <td>-0.349833</td>\n",
       "      <td>-1.408698</td>\n",
       "      <td>-1.417558</td>\n",
       "      <td>1.213856</td>\n",
       "      <td>36081.0</td>\n",
       "      <td>Queens</td>\n",
       "      <td>0.931181</td>\n",
       "      <td>2018.0</td>\n",
       "      <td>0.0</td>\n",
       "      <td>-1.189306</td>\n",
       "    </tr>\n",
       "    <tr>\n",
       "      <th>1</th>\n",
       "      <td>2018.0</td>\n",
       "      <td>TR24TWEY5RVRQV65HD49</td>\n",
       "      <td>35614.0</td>\n",
       "      <td>36081.0</td>\n",
       "      <td>3.608108e+10</td>\n",
       "      <td>C</td>\n",
       "      <td>Conventional:Subordinate Lien</td>\n",
       "      <td>Single Family (1-4 Units):Site-Built</td>\n",
       "      <td>Ethnicity Not Available</td>\n",
       "      <td>Race Not Available</td>\n",
       "      <td>...</td>\n",
       "      <td>-0.618709</td>\n",
       "      <td>-0.749130</td>\n",
       "      <td>-0.686969</td>\n",
       "      <td>1.147630</td>\n",
       "      <td>36081.0</td>\n",
       "      <td>Queens</td>\n",
       "      <td>0.931181</td>\n",
       "      <td>2018.0</td>\n",
       "      <td>0.0</td>\n",
       "      <td>-1.869257</td>\n",
       "    </tr>\n",
       "    <tr>\n",
       "      <th>2</th>\n",
       "      <td>2018.0</td>\n",
       "      <td>TR24TWEY5RVRQV65HD49</td>\n",
       "      <td>35614.0</td>\n",
       "      <td>36081.0</td>\n",
       "      <td>3.608111e+10</td>\n",
       "      <td>C</td>\n",
       "      <td>Conventional:Subordinate Lien</td>\n",
       "      <td>Single Family (1-4 Units):Site-Built</td>\n",
       "      <td>Ethnicity Not Available</td>\n",
       "      <td>Race Not Available</td>\n",
       "      <td>...</td>\n",
       "      <td>0.389575</td>\n",
       "      <td>-0.165793</td>\n",
       "      <td>-0.320337</td>\n",
       "      <td>0.419148</td>\n",
       "      <td>36081.0</td>\n",
       "      <td>Queens</td>\n",
       "      <td>0.931181</td>\n",
       "      <td>2018.0</td>\n",
       "      <td>0.0</td>\n",
       "      <td>-0.141505</td>\n",
       "    </tr>\n",
       "    <tr>\n",
       "      <th>3</th>\n",
       "      <td>2018.0</td>\n",
       "      <td>TR24TWEY5RVRQV65HD49</td>\n",
       "      <td>35614.0</td>\n",
       "      <td>36085.0</td>\n",
       "      <td>3.608503e+10</td>\n",
       "      <td>C</td>\n",
       "      <td>Conventional:First Lien</td>\n",
       "      <td>Single Family (1-4 Units):Site-Built</td>\n",
       "      <td>Not Hispanic or Latino</td>\n",
       "      <td>White</td>\n",
       "      <td>...</td>\n",
       "      <td>-0.080958</td>\n",
       "      <td>1.408554</td>\n",
       "      <td>1.511486</td>\n",
       "      <td>-0.839140</td>\n",
       "      <td>36085.0</td>\n",
       "      <td>Richmond</td>\n",
       "      <td>0.824365</td>\n",
       "      <td>2018.0</td>\n",
       "      <td>0.0</td>\n",
       "      <td>0.610376</td>\n",
       "    </tr>\n",
       "    <tr>\n",
       "      <th>4</th>\n",
       "      <td>2018.0</td>\n",
       "      <td>TR24TWEY5RVRQV65HD49</td>\n",
       "      <td>35614.0</td>\n",
       "      <td>36047.0</td>\n",
       "      <td>3.604705e+10</td>\n",
       "      <td>C</td>\n",
       "      <td>Conventional:Subordinate Lien</td>\n",
       "      <td>Single Family (1-4 Units):Site-Built</td>\n",
       "      <td>Not Hispanic or Latino</td>\n",
       "      <td>White</td>\n",
       "      <td>...</td>\n",
       "      <td>-1.111648</td>\n",
       "      <td>-1.489902</td>\n",
       "      <td>-1.388120</td>\n",
       "      <td>0.021794</td>\n",
       "      <td>36047.0</td>\n",
       "      <td>Kings</td>\n",
       "      <td>0.957885</td>\n",
       "      <td>2018.0</td>\n",
       "      <td>0.0</td>\n",
       "      <td>-0.909507</td>\n",
       "    </tr>\n",
       "    <tr>\n",
       "      <th>...</th>\n",
       "      <td>...</td>\n",
       "      <td>...</td>\n",
       "      <td>...</td>\n",
       "      <td>...</td>\n",
       "      <td>...</td>\n",
       "      <td>...</td>\n",
       "      <td>...</td>\n",
       "      <td>...</td>\n",
       "      <td>...</td>\n",
       "      <td>...</td>\n",
       "      <td>...</td>\n",
       "      <td>...</td>\n",
       "      <td>...</td>\n",
       "      <td>...</td>\n",
       "      <td>...</td>\n",
       "      <td>...</td>\n",
       "      <td>...</td>\n",
       "      <td>...</td>\n",
       "      <td>...</td>\n",
       "      <td>...</td>\n",
       "      <td>...</td>\n",
       "    </tr>\n",
       "    <tr>\n",
       "      <th>435441</th>\n",
       "      <td>2020.0</td>\n",
       "      <td>549300VZVN841I2ILS84</td>\n",
       "      <td>99999.0</td>\n",
       "      <td>36031.0</td>\n",
       "      <td>3.603196e+10</td>\n",
       "      <td>C</td>\n",
       "      <td>FHA:First Lien</td>\n",
       "      <td>Single Family (1-4 Units):Site-Built</td>\n",
       "      <td>Not Hispanic or Latino</td>\n",
       "      <td>White</td>\n",
       "      <td>...</td>\n",
       "      <td>-0.058551</td>\n",
       "      <td>-0.783931</td>\n",
       "      <td>0.047633</td>\n",
       "      <td>0.286697</td>\n",
       "      <td>36031.0</td>\n",
       "      <td>Essex</td>\n",
       "      <td>-0.884684</td>\n",
       "      <td>2020.0</td>\n",
       "      <td>1.0</td>\n",
       "      <td>0.747230</td>\n",
       "    </tr>\n",
       "    <tr>\n",
       "      <th>435442</th>\n",
       "      <td>2020.0</td>\n",
       "      <td>549300VZVN841I2ILS84</td>\n",
       "      <td>35614.0</td>\n",
       "      <td>36081.0</td>\n",
       "      <td>3.608103e+10</td>\n",
       "      <td>C</td>\n",
       "      <td>Conventional:First Lien</td>\n",
       "      <td>Single Family (1-4 Units):Site-Built</td>\n",
       "      <td>Hispanic or Latino</td>\n",
       "      <td>White</td>\n",
       "      <td>...</td>\n",
       "      <td>-0.887585</td>\n",
       "      <td>-1.428585</td>\n",
       "      <td>-1.788204</td>\n",
       "      <td>0.816502</td>\n",
       "      <td>36081.0</td>\n",
       "      <td>Queens</td>\n",
       "      <td>1.168846</td>\n",
       "      <td>2020.0</td>\n",
       "      <td>1.0</td>\n",
       "      <td>0.476063</td>\n",
       "    </tr>\n",
       "    <tr>\n",
       "      <th>435443</th>\n",
       "      <td>2020.0</td>\n",
       "      <td>549300VZVN841I2ILS84</td>\n",
       "      <td>35614.0</td>\n",
       "      <td>36087.0</td>\n",
       "      <td>3.608701e+10</td>\n",
       "      <td>C</td>\n",
       "      <td>Conventional:First Lien</td>\n",
       "      <td>Single Family (1-4 Units):Site-Built</td>\n",
       "      <td>Ethnicity Not Available</td>\n",
       "      <td>Race Not Available</td>\n",
       "      <td>...</td>\n",
       "      <td>1.263421</td>\n",
       "      <td>0.742357</td>\n",
       "      <td>0.097142</td>\n",
       "      <td>-0.706689</td>\n",
       "      <td>36087.0</td>\n",
       "      <td>Rockland</td>\n",
       "      <td>0.530622</td>\n",
       "      <td>2020.0</td>\n",
       "      <td>1.0</td>\n",
       "      <td>0.520753</td>\n",
       "    </tr>\n",
       "    <tr>\n",
       "      <th>435444</th>\n",
       "      <td>2020.0</td>\n",
       "      <td>549300VZVN841I2ILS84</td>\n",
       "      <td>35614.0</td>\n",
       "      <td>36047.0</td>\n",
       "      <td>3.604709e+10</td>\n",
       "      <td>C</td>\n",
       "      <td>Conventional:First Lien</td>\n",
       "      <td>Single Family (1-4 Units):Site-Built</td>\n",
       "      <td>Not Hispanic or Latino</td>\n",
       "      <td>Black or African American</td>\n",
       "      <td>...</td>\n",
       "      <td>-0.797960</td>\n",
       "      <td>-1.420299</td>\n",
       "      <td>-1.218185</td>\n",
       "      <td>1.412533</td>\n",
       "      <td>36047.0</td>\n",
       "      <td>Kings</td>\n",
       "      <td>1.240946</td>\n",
       "      <td>2020.0</td>\n",
       "      <td>1.0</td>\n",
       "      <td>0.505644</td>\n",
       "    </tr>\n",
       "    <tr>\n",
       "      <th>435445</th>\n",
       "      <td>2020.0</td>\n",
       "      <td>549300VZVN841I2ILS84</td>\n",
       "      <td>99999.0</td>\n",
       "      <td>36019.0</td>\n",
       "      <td>3.601910e+10</td>\n",
       "      <td>C</td>\n",
       "      <td>FSA/RHS:First Lien</td>\n",
       "      <td>Single Family (1-4 Units):Site-Built</td>\n",
       "      <td>Not Hispanic or Latino</td>\n",
       "      <td>White</td>\n",
       "      <td>...</td>\n",
       "      <td>-0.237802</td>\n",
       "      <td>0.197136</td>\n",
       "      <td>1.114078</td>\n",
       "      <td>-0.309334</td>\n",
       "      <td>36019.0</td>\n",
       "      <td>Clinton</td>\n",
       "      <td>-1.259073</td>\n",
       "      <td>2020.0</td>\n",
       "      <td>1.0</td>\n",
       "      <td>0.578609</td>\n",
       "    </tr>\n",
       "  </tbody>\n",
       "</table>\n",
       "<p>435446 rows × 68 columns</p>\n",
       "</div>"
      ],
      "text/plain": [
       "        activity_year                   lei  derived_msa-md  county_code  \\\n",
       "0              2018.0  TR24TWEY5RVRQV65HD49         35614.0      36081.0   \n",
       "1              2018.0  TR24TWEY5RVRQV65HD49         35614.0      36081.0   \n",
       "2              2018.0  TR24TWEY5RVRQV65HD49         35614.0      36081.0   \n",
       "3              2018.0  TR24TWEY5RVRQV65HD49         35614.0      36085.0   \n",
       "4              2018.0  TR24TWEY5RVRQV65HD49         35614.0      36047.0   \n",
       "...               ...                   ...             ...          ...   \n",
       "435441         2020.0  549300VZVN841I2ILS84         99999.0      36031.0   \n",
       "435442         2020.0  549300VZVN841I2ILS84         35614.0      36081.0   \n",
       "435443         2020.0  549300VZVN841I2ILS84         35614.0      36087.0   \n",
       "435444         2020.0  549300VZVN841I2ILS84         35614.0      36047.0   \n",
       "435445         2020.0  549300VZVN841I2ILS84         99999.0      36019.0   \n",
       "\n",
       "        census_tract conforming_loan_limit      derived_loan_product_type  \\\n",
       "0       3.608106e+10                     C  Conventional:Subordinate Lien   \n",
       "1       3.608108e+10                     C  Conventional:Subordinate Lien   \n",
       "2       3.608111e+10                     C  Conventional:Subordinate Lien   \n",
       "3       3.608503e+10                     C        Conventional:First Lien   \n",
       "4       3.604705e+10                     C  Conventional:Subordinate Lien   \n",
       "...              ...                   ...                            ...   \n",
       "435441  3.603196e+10                     C                 FHA:First Lien   \n",
       "435442  3.608103e+10                     C        Conventional:First Lien   \n",
       "435443  3.608701e+10                     C        Conventional:First Lien   \n",
       "435444  3.604709e+10                     C        Conventional:First Lien   \n",
       "435445  3.601910e+10                     C             FSA/RHS:First Lien   \n",
       "\n",
       "                   derived_dwelling_category        derived_ethnicity  \\\n",
       "0       Single Family (1-4 Units):Site-Built  Ethnicity Not Available   \n",
       "1       Single Family (1-4 Units):Site-Built  Ethnicity Not Available   \n",
       "2       Single Family (1-4 Units):Site-Built  Ethnicity Not Available   \n",
       "3       Single Family (1-4 Units):Site-Built   Not Hispanic or Latino   \n",
       "4       Single Family (1-4 Units):Site-Built   Not Hispanic or Latino   \n",
       "...                                      ...                      ...   \n",
       "435441  Single Family (1-4 Units):Site-Built   Not Hispanic or Latino   \n",
       "435442  Single Family (1-4 Units):Site-Built       Hispanic or Latino   \n",
       "435443  Single Family (1-4 Units):Site-Built  Ethnicity Not Available   \n",
       "435444  Single Family (1-4 Units):Site-Built   Not Hispanic or Latino   \n",
       "435445  Single Family (1-4 Units):Site-Built   Not Hispanic or Latino   \n",
       "\n",
       "                     derived_race  ... tract_to_msa_income_percentage  \\\n",
       "0              Race Not Available  ...                      -0.349833   \n",
       "1              Race Not Available  ...                      -0.618709   \n",
       "2              Race Not Available  ...                       0.389575   \n",
       "3                           White  ...                      -0.080958   \n",
       "4                           White  ...                      -1.111648   \n",
       "...                           ...  ...                            ...   \n",
       "435441                      White  ...                      -0.058551   \n",
       "435442                      White  ...                      -0.887585   \n",
       "435443         Race Not Available  ...                       1.263421   \n",
       "435444  Black or African American  ...                      -0.797960   \n",
       "435445                      White  ...                      -0.237802   \n",
       "\n",
       "        tract_owner_occupied_units  tract_one_to_four_family_homes  \\\n",
       "0                        -1.408698                       -1.417558   \n",
       "1                        -0.749130                       -0.686969   \n",
       "2                        -0.165793                       -0.320337   \n",
       "3                         1.408554                        1.511486   \n",
       "4                        -1.489902                       -1.388120   \n",
       "...                            ...                             ...   \n",
       "435441                   -0.783931                        0.047633   \n",
       "435442                   -1.428585                       -1.788204   \n",
       "435443                    0.742357                        0.097142   \n",
       "435444                   -1.420299                       -1.218185   \n",
       "435445                    0.197136                        1.114078   \n",
       "\n",
       "        tract_median_age_of_housing_units  county code  county name  \\\n",
       "0                                1.213856      36081.0       Queens   \n",
       "1                                1.147630      36081.0       Queens   \n",
       "2                                0.419148      36081.0       Queens   \n",
       "3                               -0.839140      36085.0     Richmond   \n",
       "4                                0.021794      36047.0        Kings   \n",
       "...                                   ...          ...          ...   \n",
       "435441                           0.286697      36031.0        Essex   \n",
       "435442                           0.816502      36081.0       Queens   \n",
       "435443                          -0.706689      36087.0     Rockland   \n",
       "435444                           1.412533      36047.0        Kings   \n",
       "435445                          -0.309334      36019.0      Clinton   \n",
       "\n",
       "        median_housing_price    year  covid_year     ratio  \n",
       "0                   0.931181  2018.0         0.0 -1.189306  \n",
       "1                   0.931181  2018.0         0.0 -1.869257  \n",
       "2                   0.931181  2018.0         0.0 -0.141505  \n",
       "3                   0.824365  2018.0         0.0  0.610376  \n",
       "4                   0.957885  2018.0         0.0 -0.909507  \n",
       "...                      ...     ...         ...       ...  \n",
       "435441             -0.884684  2020.0         1.0  0.747230  \n",
       "435442              1.168846  2020.0         1.0  0.476063  \n",
       "435443              0.530622  2020.0         1.0  0.520753  \n",
       "435444              1.240946  2020.0         1.0  0.505644  \n",
       "435445             -1.259073  2020.0         1.0  0.578609  \n",
       "\n",
       "[435446 rows x 68 columns]"
      ]
     },
     "execution_count": 38,
     "metadata": {},
     "output_type": "execute_result"
    }
   ],
   "source": [
    "credit_without_outlier = pd.read_csv('After_Outlier_Scaling.csv')\n",
    "credit_without_outlier = credit_without_outlier.drop(['Unnamed: 0','Unnamed: 0.1'],axis=1)\n",
    "credit_without_outlier"
   ]
  },
  {
   "cell_type": "code",
   "execution_count": 39,
   "id": "2a6fe024",
   "metadata": {},
   "outputs": [],
   "source": [
    "df_cate = credit_without_outlier[['activity_year','conforming_loan_limit','derived_loan_product_type',\n",
    "              'derived_dwelling_category','derived_ethnicity','derived_race',\n",
    "              'derived_sex','purchaser_type','preapproval','loan_type','loan_purpose',\n",
    "              'lien_status','reverse_mortgage','open-end_line_of_credit','business_or_commercial_purpose',\n",
    "              'hoepa_status','negative_amortization','interest_only_payment','balloon_payment',\n",
    "              'other_nonamortizing_features','construction_method','occupancy_type',\n",
    "              'manufactured_home_secured_property_type','manufactured_home_land_property_interest',\n",
    "              'total_units','debt_to_income_ratio','applicant_credit_score_type',\n",
    "              'co-applicant_credit_score_type','applicant_ethnicity-1','co-applicant_ethnicity-1',\n",
    "              'applicant_ethnicity_observed','co-applicant_ethnicity_observed','applicant_race-1',\n",
    "              'co-applicant_race-1','applicant_race_observed','co-applicant_race_observed',\n",
    "              'applicant_sex','co-applicant_sex','applicant_sex_observed','co-applicant_sex_observed',\n",
    "              'applicant_age','co-applicant_age',\n",
    "              'initially_payable_to_institution','aus-1','denial_reason-1','covid_year']]\n",
    "#categorical data"
   ]
  },
  {
   "cell_type": "code",
   "execution_count": 40,
   "id": "c873067b",
   "metadata": {},
   "outputs": [
    {
     "name": "stderr",
     "output_type": "stream",
     "text": [
      "/var/folders/qx/k05b35rd7jqfpm9_5pm2rt_w0000gn/T/ipykernel_55988/3992983749.py:3: SettingWithCopyWarning: \n",
      "A value is trying to be set on a copy of a slice from a DataFrame.\n",
      "Try using .loc[row_indexer,col_indexer] = value instead\n",
      "\n",
      "See the caveats in the documentation: https://pandas.pydata.org/pandas-docs/stable/user_guide/indexing.html#returning-a-view-versus-a-copy\n",
      "  df_cate[i] = df_cate[i].apply(lambda x: str(x))\n"
     ]
    }
   ],
   "source": [
    "for i in df_cate.columns:\n",
    "    try:\n",
    "        df_cate[i] = df_cate[i].apply(lambda x: str(x))\n",
    "    except:\n",
    "        df_cate[i] = df_cate[i]\n",
    "#categorical data transformed to string"
   ]
  },
  {
   "cell_type": "code",
   "execution_count": 41,
   "id": "04ab20d2",
   "metadata": {},
   "outputs": [],
   "source": [
    "df_dummies = pd.get_dummies(df_cate)#categorical to dummies"
   ]
  },
  {
   "cell_type": "code",
   "execution_count": 42,
   "id": "f3ab0992",
   "metadata": {},
   "outputs": [],
   "source": [
    "df_dummies['action_taken'] = credit_without_outlier['action_taken'] "
   ]
  },
  {
   "cell_type": "code",
   "execution_count": 43,
   "id": "6741bd36",
   "metadata": {},
   "outputs": [],
   "source": [
    "df_dummies_x = df_dummies.drop(['action_taken'], axis=1)"
   ]
  },
  {
   "cell_type": "code",
   "execution_count": 44,
   "id": "e64c6c7f",
   "metadata": {},
   "outputs": [],
   "source": [
    "dummyval_corr = df_dummies.corr()"
   ]
  },
  {
   "cell_type": "code",
   "execution_count": null,
   "id": "ab897ae6",
   "metadata": {},
   "outputs": [],
   "source": []
  },
  {
   "cell_type": "code",
   "execution_count": 45,
   "id": "ac9e6f1b",
   "metadata": {},
   "outputs": [],
   "source": [
    "df_num = credit_without_outlier[['loan_amount',\n",
    " 'loan_term',\n",
    " 'property_value',\n",
    " 'income',\n",
    " 'tract_population',\n",
    " 'tract_minority_population_percent',\n",
    " 'ffiec_msa_md_median_family_income',\n",
    " 'tract_to_msa_income_percentage',\n",
    " 'tract_owner_occupied_units',\n",
    " 'tract_one_to_four_family_homes',\n",
    " 'tract_median_age_of_housing_units',\n",
    " 'median_housing_price',\n",
    " 'ratio','action_taken']]\n",
    "df_num_x = credit_without_outlier[['loan_amount',\n",
    " 'loan_term',\n",
    " 'property_value',\n",
    " 'income',\n",
    " 'tract_population',\n",
    " 'tract_minority_population_percent',\n",
    " 'ffiec_msa_md_median_family_income',\n",
    " 'tract_to_msa_income_percentage',\n",
    " 'tract_owner_occupied_units',\n",
    " 'tract_one_to_four_family_homes',\n",
    " 'tract_median_age_of_housing_units',\n",
    " 'median_housing_price',\n",
    " 'ratio']]"
   ]
  },
  {
   "cell_type": "markdown",
   "id": "0bfc8d7b",
   "metadata": {},
   "source": [
    "\n",
    "## 1. correlation approach\n",
    "（1）选出15-20个feature，run一下random forest/logistic regression\n"
   ]
  },
  {
   "cell_type": "code",
   "execution_count": 46,
   "id": "212bb8cb",
   "metadata": {},
   "outputs": [
    {
     "data": {
      "text/plain": [
       "3"
      ]
     },
     "execution_count": 46,
     "metadata": {},
     "output_type": "execute_result"
    }
   ],
   "source": [
    "numerical_corr = df_num.corr()\n",
    "\n",
    "\n",
    "pos_d = dummyval_corr.loc[dummyval_corr['action_taken']>0.52].index[:-1]\n",
    "neg_d = dummyval_corr.loc[dummyval_corr['action_taken']<-0.52].index\n",
    "total_d = neg_d.tolist()+ pos_d.tolist()#selected dummy features\n",
    "dummy_features = df_dummies[total_d].columns\n",
    "\n",
    "neg_n = numerical_corr.loc[numerical_corr['action_taken']<-0.05].index\n",
    "pos_n = numerical_corr.loc[numerical_corr['action_taken']>0.05].index[:-1]\n",
    "total_n = neg_n.tolist()+ pos_n.tolist()#selected numerical features\n",
    "numerical_features = df_num[total_n].columns\n",
    "len(dummy_features)\n",
    "len(numerical_features)"
   ]
  },
  {
   "cell_type": "code",
   "execution_count": 47,
   "id": "68dc2a72",
   "metadata": {
    "scrolled": true
   },
   "outputs": [
    {
     "data": {
      "text/plain": [
       "Index(['purchaser_type_0.0', 'hoepa_status_3.0',\n",
       "       'initially_payable_to_institution_1.0', 'hoepa_status_2.0',\n",
       "       'debt_to_income_ratio_-1', 'applicant_credit_score_type_9.0',\n",
       "       'co-applicant_credit_score_type_9.0', 'applicant_ethnicity-1_4.0',\n",
       "       'co-applicant_ethnicity-1_4.0', 'applicant_ethnicity_observed_3.0',\n",
       "       'applicant_race-1_7.0', 'co-applicant_race-1_7.0', 'applicant_sex_4.0',\n",
       "       'co-applicant_sex_4.0', 'applicant_age_8888', 'co-applicant_age_8888',\n",
       "       'initially_payable_to_institution_3.0'],\n",
       "      dtype='object')"
      ]
     },
     "execution_count": 47,
     "metadata": {},
     "output_type": "execute_result"
    }
   ],
   "source": [
    "dummy_features"
   ]
  },
  {
   "cell_type": "code",
   "execution_count": 48,
   "id": "052cc736",
   "metadata": {},
   "outputs": [
    {
     "data": {
      "text/plain": [
       "StandardScaler()"
      ]
     },
     "execution_count": 48,
     "metadata": {},
     "output_type": "execute_result"
    }
   ],
   "source": [
    "df_dummies_x = df_dummies_x[dummy_features]\n",
    "df_num_x = df_num_x[numerical_features]\n",
    "\n",
    "from sklearn.preprocessing import MinMaxScaler\n",
    "from sklearn.preprocessing import StandardScaler\n",
    "scaler = StandardScaler()\n",
    "scaler.fit(df_num_x)"
   ]
  },
  {
   "cell_type": "code",
   "execution_count": 49,
   "id": "fe121ca0",
   "metadata": {},
   "outputs": [
    {
     "data": {
      "text/plain": [
       "(435446, 17)"
      ]
     },
     "execution_count": 49,
     "metadata": {},
     "output_type": "execute_result"
    }
   ],
   "source": [
    "array_cate = np.asarray(df_dummies_x)\n",
    "array_cate.shape"
   ]
  },
  {
   "cell_type": "code",
   "execution_count": 50,
   "id": "2d8624a2",
   "metadata": {},
   "outputs": [],
   "source": [
    "scaled_data_num = scaler.transform(df_num_x)\n",
    "scaled_data = np.concatenate((scaled_data_num, array_cate),axis = 1) "
   ]
  },
  {
   "cell_type": "code",
   "execution_count": 51,
   "id": "25f66fdf",
   "metadata": {},
   "outputs": [],
   "source": [
    "features = df_num_x.columns.tolist()+df_dummies_x.columns.tolist()"
   ]
  },
  {
   "cell_type": "code",
   "execution_count": 52,
   "id": "d66ce99b",
   "metadata": {},
   "outputs": [
    {
     "data": {
      "text/plain": [
       "(435446, 20)"
      ]
     },
     "execution_count": 52,
     "metadata": {},
     "output_type": "execute_result"
    }
   ],
   "source": [
    "scaled_data.shape"
   ]
  },
  {
   "cell_type": "code",
   "execution_count": 53,
   "id": "d39d07d0",
   "metadata": {},
   "outputs": [],
   "source": [
    "from sklearn.ensemble import RandomForestClassifier\n",
    "from sklearn.model_selection import train_test_split\n",
    "from sklearn.preprocessing import StandardScaler\n",
    "y = np.asarray(credit_without_outlier['action_taken'])\n",
    "X = scaled_data"
   ]
  },
  {
   "cell_type": "code",
   "execution_count": 54,
   "id": "39764ae2",
   "metadata": {},
   "outputs": [
    {
     "name": "stdout",
     "output_type": "stream",
     "text": [
      "Cross-validated scores: [0.88462201 0.86281683 0.87620222]\n"
     ]
    }
   ],
   "source": [
    "X_train, X_test, y_train, y_test = train_test_split(X, y, test_size=0.3)\n",
    "base_rfc1 = RandomForestClassifier(random_state=0, n_estimators=100, n_jobs=-1)\n",
    "base_rfc1.fit(X, y)\n",
    "\n",
    "from sklearn.model_selection import cross_val_score, cross_val_predict\n",
    "from sklearn import metrics\n",
    "base_ps_scores = cross_val_score(base_rfc1, X, y, cv=3)\n",
    "print(\"Cross-validated scores:\", base_ps_scores)"
   ]
  },
  {
   "cell_type": "markdown",
   "id": "d4ac7247",
   "metadata": {},
   "source": [
    "### Random Forest after corr selection"
   ]
  },
  {
   "cell_type": "code",
   "execution_count": 55,
   "id": "7e364524",
   "metadata": {},
   "outputs": [],
   "source": [
    "from sklearn import tree\n",
    "from matplotlib import pyplot as plt"
   ]
  },
  {
   "cell_type": "code",
   "execution_count": 56,
   "id": "963ac8a9",
   "metadata": {},
   "outputs": [
    {
     "name": "stdout",
     "output_type": "stream",
     "text": [
      "Fitting 3 folds for each of 12 candidates, totalling 36 fits\n"
     ]
    },
    {
     "data": {
      "text/plain": [
       "{'max_depth': 6}"
      ]
     },
     "execution_count": 56,
     "metadata": {},
     "output_type": "execute_result"
    }
   ],
   "source": [
    "from sklearn.model_selection import GridSearchCV\n",
    "# Create the parameter grid based on the results of random search \n",
    "max_depth = [int(x) for x in np.linspace(1, 60, num = 11)]\n",
    "max_depth.append(None)\n",
    "#n_estimators = [int(x) for x in np.linspace(start = 50, stop = 1000, num = 20)]\n",
    "param_grid = {\n",
    "    'max_depth': max_depth,\n",
    "  #  'n_estimators': n_estimators\n",
    "}\n",
    "# Create a based model\n",
    "rfc1 = RandomForestClassifier()\n",
    "# Instantiate the grid search model\n",
    "grid_search1 = GridSearchCV(estimator = rfc1, param_grid = param_grid, \n",
    "                          cv = 3, n_jobs = -1, verbose = 2)\n",
    "grid_search1.fit(X, y)\n",
    "grid_search1.best_params_\n"
   ]
  },
  {
   "cell_type": "code",
   "execution_count": 57,
   "id": "d29c55d7",
   "metadata": {},
   "outputs": [
    {
     "name": "stdout",
     "output_type": "stream",
     "text": [
      "Cross-validated scores after tuning hyperparameter: [0.91176653 0.88179733 0.93470113]\n"
     ]
    }
   ],
   "source": [
    "best_grid_rfc1 = grid_search1.best_estimator_\n",
    "grid_ps_scores = cross_val_score(best_grid_rfc1, X, y, cv=3)\n",
    "print (\"Cross-validated scores after tuning hyperparameter:\", grid_ps_scores)"
   ]
  },
  {
   "cell_type": "code",
   "execution_count": 58,
   "id": "6981d470",
   "metadata": {},
   "outputs": [
    {
     "name": "stdout",
     "output_type": "stream",
     "text": [
      "Improvement of 3.89%.\n"
     ]
    }
   ],
   "source": [
    "base_ps_scores = np.mean(base_ps_scores)\n",
    "base_ps_scores\n",
    "print('Improvement of {:0.2f}%.'.format( 100 * (np.mean(grid_ps_scores) - 0.8753691625069774) / 0.8753691625069774))"
   ]
  },
  {
   "cell_type": "code",
   "execution_count": 59,
   "id": "9667b069",
   "metadata": {},
   "outputs": [
    {
     "data": {
      "text/plain": [
       "0.9094216625700318"
      ]
     },
     "execution_count": 59,
     "metadata": {},
     "output_type": "execute_result"
    },
    {
     "name": "stdout",
     "output_type": "stream",
     "text": [
      "[CV] END ........................................max_depth=1; total time=   9.0s\n",
      "[CV] END ........................................max_depth=6; total time=  25.4s\n",
      "[CV] END .......................................max_depth=12; total time=  37.4s\n",
      "[CV] END .......................................max_depth=24; total time= 1.0min\n",
      "[CV] END .......................................max_depth=30; total time= 1.1min\n",
      "[CV] END .......................................max_depth=36; total time= 1.0min\n",
      "[CV] END .......................................max_depth=48; total time= 1.2min\n",
      "[CV] END .......................................max_depth=54; total time= 1.2min\n",
      "[CV] END .......................................max_depth=60; total time= 1.2min\n",
      "[CV] END ........................................max_depth=1; total time=   9.3s\n",
      "[CV] END ........................................max_depth=6; total time=  25.7s\n",
      "[CV] END .......................................max_depth=18; total time=  50.5s\n",
      "[CV] END .......................................max_depth=24; total time=  59.4s\n",
      "[CV] END .......................................max_depth=30; total time= 1.1min\n",
      "[CV] END .......................................max_depth=42; total time= 1.0min\n",
      "[CV] END .......................................max_depth=48; total time= 1.3min\n",
      "[CV] END .......................................max_depth=54; total time= 1.2min\n",
      "[CV] END .....................................max_depth=None; total time= 1.1min\n",
      "[CV] END ........................................max_depth=1; total time=   9.5s\n",
      "[CV] END .......................................max_depth=12; total time=  37.4s\n",
      "[CV] END .......................................max_depth=18; total time=  51.5s\n",
      "[CV] END .......................................max_depth=24; total time=  59.5s\n",
      "[CV] END .......................................max_depth=36; total time= 1.1min\n",
      "[CV] END .......................................max_depth=42; total time= 1.0min\n",
      "[CV] END .......................................max_depth=48; total time= 1.3min\n",
      "[CV] END .......................................max_depth=60; total time= 1.2min\n",
      "[CV] END .....................................max_depth=None; total time=  56.4s\n",
      "[CV] END ........................................max_depth=6; total time=  24.0s\n",
      "[CV] END .......................................max_depth=12; total time=  35.8s\n",
      "[CV] END .......................................max_depth=18; total time=  52.4s\n",
      "[CV] END .......................................max_depth=30; total time= 1.1min\n",
      "[CV] END .......................................max_depth=36; total time= 1.0min\n",
      "[CV] END .......................................max_depth=42; total time= 1.1min\n",
      "[CV] END .......................................max_depth=54; total time= 1.3min\n",
      "[CV] END .......................................max_depth=60; total time= 1.2min\n",
      "[CV] END .....................................max_depth=None; total time=  45.2s\n"
     ]
    }
   ],
   "source": [
    "np.mean(grid_ps_scores)"
   ]
  },
  {
   "cell_type": "code",
   "execution_count": 32,
   "id": "91d7a762",
   "metadata": {},
   "outputs": [
    {
     "data": {
      "image/png": "[encoded data removed]",
      "text/plain": [
       "<Figure size 432x288 with 1 Axes>"
      ]
     },
     "metadata": {
      "needs_background": "light"
     },
     "output_type": "display_data"
    }
   ],
   "source": [
    "feat_importances = pd.Series(best_grid_rfc1.feature_importances_, index=features)\n",
    "feat_importances.nlargest(15).plot(kind='barh')\n",
    "plt.title(\"Top 15 important features in random forest model with Pierson feature selection\")\n",
    "plt.show()"
   ]
  },
  {
   "cell_type": "markdown",
   "id": "a741b430",
   "metadata": {},
   "source": [
    "# 王子殿下帮我跑到这里就可以 感恩"
   ]
  },
  {
   "cell_type": "code",
   "execution_count": 31,
   "id": "493b98ca",
   "metadata": {},
   "outputs": [
    {
     "data": {
      "text/plain": [
       "{'mean_fit_time': array([  4.29088434,   8.63975509,  12.58049965,  17.75433715,\n",
       "         25.86671368,  32.32036543,  36.57918   ,  36.36569452,\n",
       "         39.41008369,  43.469788  ,  64.09765267,  65.61262194,\n",
       "         61.32558854,  62.15747635,  66.45668125,  72.90688411,\n",
       "         90.49432309,  90.76669939,  89.83966645,  92.71579003,\n",
       "          9.44498165,  19.09358915,  32.16868194,  46.62100228,\n",
       "         53.43640478,  61.52294056,  74.38363457,  91.02396766,\n",
       "        112.58281525, 119.06826901, 135.87506557, 135.41378848,\n",
       "        154.44048397, 158.7051963 , 153.57809838, 168.60105332,\n",
       "        192.95162662, 203.84101439, 196.04866322, 223.06514883,\n",
       "         17.15887332,  37.27738531,  56.04001101,  75.54217005,\n",
       "         96.9569873 , 113.51480293, 132.61735209, 140.10122808,\n",
       "        144.37707575, 148.6080126 , 157.5957013 , 167.82336497,\n",
       "        184.63648232, 205.31043069, 224.23680814, 229.69173622,\n",
       "        241.74332436, 267.02046728, 284.76750064, 292.7974263 ,\n",
       "         18.89963269,  37.19431798,  82.44051695,  89.69583305,\n",
       "        103.05208619, 114.60564597, 130.296935  , 147.37762864,\n",
       "        176.75752521, 180.58087858, 200.06521773, 225.08678333,\n",
       "        256.16582354, 250.4388233 , 257.64163438, 430.70608075,\n",
       "        775.93782735, 314.69205054, 329.44480968, 358.29774253,\n",
       "         20.71804269,  41.12245989,  60.98145803,  81.06980499,\n",
       "        108.12242977, 138.04111258, 149.17314037, 165.74715233,\n",
       "        189.54431828, 219.91843971, 224.20806011, 241.30982979,\n",
       "        294.24152565, 367.59328675, 321.66658847, 363.45490869,\n",
       "        432.22256478, 405.58918444, 405.371665  , 428.86269768,\n",
       "         24.43029141,  45.75285141,  85.54959512,  94.74628671,\n",
       "        118.62312531, 151.36566432, 188.78999305, 224.80528863,\n",
       "        211.9334809 , 228.8352495 , 248.59385578, 294.35463667,\n",
       "        388.19264372, 357.17081491, 404.67833161, 507.60719395,\n",
       "        651.07023136, 530.91054805, 512.04135227, 544.44616874,\n",
       "         25.42369239,  51.33341106,  86.3820943 , 106.94095763,\n",
       "        137.54795671, 169.24705887, 188.23522997, 237.30693603,\n",
       "        270.28223197, 245.38813305, 268.69748966, 342.81258957,\n",
       "        486.65825264, 540.25865372, 581.62016439, 512.74386525,\n",
       "        463.23130592, 558.19845804, 585.04361153, 520.28992534,\n",
       "         26.76900903,  50.19384638,  74.13541873, 103.34159962,\n",
       "        144.0981017 , 181.44460169, 227.38538726, 265.62624764,\n",
       "        291.38139772, 273.77629534, 302.31776595, 346.63184706,\n",
       "        377.49733694, 380.70339839, 407.44904462, 459.81948328,\n",
       "        464.23019457, 632.27795863, 626.22627481, 593.42172448,\n",
       "         36.01948373,  56.2131199 ,  78.76046968, 106.78091041,\n",
       "        134.29574831, 160.01172463, 189.33252446, 214.70097772,\n",
       "        218.89284285, 250.45105235, 314.29065768, 328.91461102,\n",
       "        333.20533593, 397.87553358, 448.32511298, 589.06217408,\n",
       "        484.37444782, 486.51303132, 507.7687254 , 525.09119701,\n",
       "         29.19313947,  51.674366  ,  74.68569867, 101.10035173,\n",
       "        125.56273119, 149.44675795, 174.62721888, 202.05864779,\n",
       "        224.48520803, 249.58031885, 277.15393464, 301.18087157,\n",
       "        326.59550794, 352.8691864 , 377.38523293, 405.31539408,\n",
       "        434.64091063, 444.39927292, 466.44001865, 496.41113853,\n",
       "         24.52816057,  51.61131342,  75.47260443, 102.27062329,\n",
       "        125.36221878, 151.42239332, 174.85671433, 204.77745136,\n",
       "        227.18056552, 251.51234198, 276.42536457, 299.99543285,\n",
       "        325.61419479, 347.32782801, 366.85640287, 388.76736108,\n",
       "        425.93878897, 462.50117437, 489.7090896 , 513.37335404,\n",
       "         26.02572799,  49.75352414,  76.5196747 , 100.95236866,\n",
       "        127.17407743, 152.56326564, 180.5468688 , 202.26316428,\n",
       "        227.74627932, 252.49660842, 273.50030828, 290.78661505,\n",
       "        314.99198866, 340.99855701, 379.8267262 , 414.46016566,\n",
       "        439.81875515, 453.4553806 , 472.60963575, 453.96389691]),\n",
       " 'std_fit_time': array([2.69898308e-01, 2.36610318e-01, 1.58382207e-01, 4.41448022e-01,\n",
       "        8.31514743e-01, 1.49754527e+00, 1.40362023e+00, 1.36464631e+00,\n",
       "        6.71717850e-01, 3.93366927e-01, 4.42151635e+00, 6.22599308e+00,\n",
       "        2.68381244e+00, 1.78966305e-01, 1.55358540e+00, 3.88343389e+00,\n",
       "        9.77616776e-01, 5.74253314e-01, 1.64561027e+00, 2.98825252e+00,\n",
       "        4.55794896e-01, 6.67329176e-01, 1.49394514e+00, 1.72945794e-01,\n",
       "        1.09799247e+00, 7.87246051e-01, 9.94161104e-01, 1.90735968e+00,\n",
       "        8.69406531e-01, 2.67263172e+00, 1.14551951e+00, 3.93534584e+00,\n",
       "        3.92132137e+00, 6.89215412e+00, 3.20066032e+00, 5.38432906e+00,\n",
       "        4.21959573e+00, 3.82198088e+00, 1.87070767e+00, 6.51017577e+00,\n",
       "        8.38475626e-01, 1.19492067e+00, 5.31781346e-01, 1.07537529e+00,\n",
       "        2.29798194e+00, 2.60430121e+00, 3.50855881e+00, 3.81507883e+00,\n",
       "        2.55971861e+00, 5.56562838e+00, 2.40230340e+00, 1.84695075e+00,\n",
       "        1.12692176e+00, 5.27061821e+00, 2.59549393e+00, 2.22303852e+00,\n",
       "        2.79038251e+00, 1.16747482e+01, 3.88596690e+00, 1.91219956e+01,\n",
       "        6.66550473e-01, 1.04702488e+00, 3.05779371e+00, 2.86366263e+00,\n",
       "        2.92443781e+00, 2.49149559e+00, 2.66130213e+00, 1.94982755e+00,\n",
       "        1.23806665e+00, 7.08598862e+00, 3.29675694e+00, 1.65340812e+00,\n",
       "        2.16356857e+00, 1.13278931e+01, 3.57817757e+00, 2.12250443e+02,\n",
       "        4.96075178e+00, 1.11147631e+01, 1.13195889e+01, 3.71894028e+00,\n",
       "        1.71328710e-01, 7.60592734e-01, 9.70569598e-01, 5.70435850e-01,\n",
       "        4.36978672e+00, 1.71309778e+00, 4.58838389e+00, 2.30313886e+00,\n",
       "        6.64494817e+00, 3.26636973e+00, 4.50314230e+00, 3.12237370e+00,\n",
       "        3.46317377e+01, 6.13625704e+00, 1.14123886e+01, 1.21105047e+01,\n",
       "        3.60779151e+00, 1.69270655e+01, 4.56214044e+00, 1.17733562e+01,\n",
       "        1.29928610e+00, 8.61276437e-01, 1.48842525e+00, 9.30241742e-01,\n",
       "        2.77222120e+00, 5.41377071e+00, 7.73416450e+00, 1.72215674e+00,\n",
       "        4.75492890e+00, 4.70726103e+00, 8.38863664e+00, 1.44575696e+01,\n",
       "        1.69036580e+00, 1.60703573e+01, 3.23081742e+00, 6.88842977e+01,\n",
       "        1.11540376e+01, 3.57743703e+01, 2.20007325e+01, 8.56778423e+00,\n",
       "        2.50605413e-01, 2.77365479e+00, 4.88249473e+00, 7.11932897e+00,\n",
       "        4.57881900e+00, 2.59871213e+00, 3.22881911e+00, 1.89753263e+01,\n",
       "        1.15977415e+01, 3.53075661e+00, 7.20074330e+00, 2.54026914e+01,\n",
       "        3.62597126e+01, 2.61185530e+01, 1.22411041e+01, 5.89706521e+01,\n",
       "        1.52433039e+01, 2.33846549e+01, 3.09455667e+01, 2.38437932e+01,\n",
       "        1.20820416e+00, 1.12449568e+00, 1.35863244e+00, 5.39777449e+00,\n",
       "        4.55086505e+00, 7.99198321e+00, 2.58450471e+00, 3.23443824e+00,\n",
       "        1.62393484e+00, 2.04349385e+01, 1.32031405e+01, 1.03466275e+01,\n",
       "        1.45321655e+00, 1.02026412e+01, 6.20292918e+00, 2.11255806e+01,\n",
       "        2.45774336e+01, 5.21857584e+01, 6.92906222e+01, 6.36166055e+00,\n",
       "        2.04676628e+00, 2.46669084e+00, 1.34439539e+00, 1.25845413e+00,\n",
       "        3.36193892e+00, 3.16318773e+00, 7.22641336e+00, 5.28682816e+00,\n",
       "        2.37188620e+00, 7.92048165e+00, 1.83112480e+00, 1.34008993e+01,\n",
       "        1.05043981e+01, 1.03858887e+01, 5.26179462e+01, 7.93051737e+00,\n",
       "        1.19612011e+01, 1.08997162e+01, 5.83439421e+00, 5.39841066e+00,\n",
       "        4.97908756e+00, 1.72509639e+00, 1.29113189e+00, 2.09190316e+00,\n",
       "        1.67032642e+00, 2.71846480e+00, 2.61079834e+00, 1.62785153e+00,\n",
       "        3.74496792e+00, 3.78475484e+00, 4.05104559e+00, 4.77783973e+00,\n",
       "        4.29787535e+00, 5.71230240e+00, 6.01230958e+00, 6.29734647e+00,\n",
       "        6.57184170e+00, 7.20879884e+00, 4.76157344e+00, 8.36229693e+00,\n",
       "        7.78718490e-02, 1.46401672e+00, 1.02637004e+00, 1.30186928e+00,\n",
       "        2.25188583e+00, 2.59566858e+00, 5.19851147e+00, 3.13382634e+00,\n",
       "        2.67561993e+00, 5.38294178e+00, 3.24513417e+00, 3.72979899e+00,\n",
       "        3.99337527e+00, 5.92187328e+00, 6.52838549e+00, 6.20125610e+00,\n",
       "        5.63145862e+00, 8.34096480e+00, 8.74975216e+00, 7.36651607e+00,\n",
       "        1.23945974e+00, 1.26329400e+00, 1.25401071e+00, 2.55687094e+00,\n",
       "        1.92273484e+00, 2.17743910e+00, 7.92619469e-01, 3.25090249e+00,\n",
       "        3.00348493e+00, 4.67288822e+00, 3.77943411e+00, 6.04034946e+00,\n",
       "        4.89302640e+00, 6.13093299e+00, 7.92189392e+00, 6.33714452e+00,\n",
       "        7.42170294e+00, 1.10332197e+01, 7.83290921e+00, 3.06415462e+01]),\n",
       " 'mean_score_time': array([ 0.51477114,  0.96785792,  1.40261928,  2.04631058,  3.39155229,\n",
       "         3.62724757,  3.5665528 ,  3.97741342,  4.58774225,  4.93704732,\n",
       "         7.5770669 ,  6.53268067,  6.54657483,  7.09507887,  6.97589095,\n",
       "        10.00402721,  9.18844597,  9.89913909, 10.06931289,  9.16445931,\n",
       "         0.59434009,  1.12000521,  1.84781639,  2.63781977,  2.95181028,\n",
       "         3.62781056,  4.22464569,  5.56796734,  5.97366611,  6.98044491,\n",
       "         7.68384393,  7.69146252,  9.36685522,  9.58214172,  8.64099463,\n",
       "        10.47230387, 11.65761447,  9.40294258, 12.00341034, 13.96510379,\n",
       "         0.85532737,  1.7298824 ,  2.9796466 ,  3.74662828,  4.79601789,\n",
       "         5.36270634,  6.02849857,  6.82470727,  7.47472763,  7.14227994,\n",
       "         7.87762904,  8.87350702,  9.35703405, 10.46488889, 10.86609046,\n",
       "        11.77975798, 12.10146205, 13.68766443, 13.46064138, 19.45011743,\n",
       "         1.04297471,  2.08265416,  5.14962538,  4.68087935,  5.77705232,\n",
       "         6.20519956,  7.85160096,  8.39202801,  9.89308389, 10.80626575,\n",
       "        12.33467595, 13.08725754, 14.68309379, 13.8696243 , 14.8494037 ,\n",
       "        21.31653094, 17.71884624, 18.19627206, 19.4566927 , 19.76836284,\n",
       "         1.30117257,  2.80722833,  4.05221232,  5.21754988,  8.75698797,\n",
       "         8.86375181,  9.92940036, 11.17361601, 13.98022628, 14.47520534,\n",
       "        15.02705598, 16.77958592, 21.23710632, 20.59472497, 25.9059635 ,\n",
       "        27.64707883, 31.13335236, 28.10599987, 28.24007972, 31.99894698,\n",
       "         1.62663627,  4.06699657,  5.79661004,  6.63584797,  8.44626498,\n",
       "        13.11834105, 18.3977623 , 16.27347302, 18.20403091, 17.94535367,\n",
       "        21.44385966, 30.37840533, 30.08337069, 31.97718167, 37.72850259,\n",
       "        53.24763362, 50.70908769, 42.01818204, 48.07220085, 44.22282926,\n",
       "         2.18315705,  4.31616163,  7.43224676,  9.04321877, 13.51883856,\n",
       "        14.26954516, 15.994567  , 25.89506324, 20.66947126, 22.46219341,\n",
       "        27.97992134, 36.71565803, 58.40148171, 49.8814551 , 58.832733  ,\n",
       "        42.85476033, 54.12681945, 58.90068793, 53.83398628, 49.5773437 ,\n",
       "         2.13368885,  4.19190057,  6.25593694,  9.54917924, 13.00912166,\n",
       "        20.12044565, 26.05645728, 26.24570107, 31.36219835, 25.72211599,\n",
       "        31.908964  , 34.65567732, 38.40506172, 41.44181506, 41.27593573,\n",
       "        52.8374327 , 47.28593127, 71.24438167, 59.20629501, 61.36871362,\n",
       "         3.26464836,  4.86619711,  6.89686799, 10.62785339, 13.09566633,\n",
       "        15.04020476, 19.63348889, 19.21853328, 21.00618362, 27.4471279 ,\n",
       "        32.139781  , 34.65858213, 37.78760767, 39.79980095, 56.7026097 ,\n",
       "        50.45067239, 53.47215247, 52.94550737, 55.22840571, 57.81647428,\n",
       "         2.32808844,  5.00496928,  6.24827472,  9.73398431, 11.16677666,\n",
       "        12.98034867, 16.14631208, 19.06260649, 21.82998363, 24.32885472,\n",
       "        26.63513001, 29.70243104, 32.52642663, 37.19356696, 39.52383296,\n",
       "        43.9144206 , 45.51724339, 47.89673241, 51.12903508, 54.07351081,\n",
       "         1.99159773,  4.39436809,  6.15597582,  9.42508435, 10.59392945,\n",
       "        13.86340928, 16.7280674 , 18.98059503, 21.79768038, 24.29806773,\n",
       "        27.01019772, 29.94871004, 33.13507128, 36.2771047 , 40.16619047,\n",
       "        42.18799416, 45.64738727, 49.26174291, 51.53943491, 53.80505792,\n",
       "         2.06734729,  4.39701033,  6.61237367, 10.67413561, 11.29503973,\n",
       "        13.46572542, 16.50634281, 18.73924327, 22.28930298, 25.5786407 ,\n",
       "        26.95710762, 29.50798217, 33.13962571, 37.103549  , 40.54622412,\n",
       "        44.07431038, 46.60736426, 48.40189743, 52.29607813, 44.21824598]),\n",
       " 'std_score_time': array([4.95342195e-02, 1.05511602e-01, 1.10383882e-01, 3.79086055e-01,\n",
       "        4.81843922e-01, 3.00877244e-01, 2.02658648e-01, 5.33721268e-02,\n",
       "        1.99418110e-01, 3.15153176e-01, 2.07284857e+00, 4.59030850e-02,\n",
       "        5.41886204e-01, 1.76588915e-01, 2.29635749e-01, 1.24492902e+00,\n",
       "        8.87131730e-01, 1.20834520e+00, 1.15112491e+00, 2.52245656e-01,\n",
       "        7.13250565e-02, 2.97524259e-02, 1.03540000e-02, 2.42866449e-01,\n",
       "        1.91945274e-01, 8.35053454e-02, 2.32032368e-01, 5.14730490e-01,\n",
       "        1.26658065e-01, 6.23564281e-01, 1.23819242e+00, 4.80445015e-01,\n",
       "        8.52550133e-01, 6.79830300e-01, 1.07243707e+00, 2.11589012e-01,\n",
       "        8.79861876e-01, 1.45412651e-01, 6.10016709e-01, 2.57202372e-01,\n",
       "        3.90503614e-02, 1.49195662e-01, 1.52374705e-01, 2.51704075e-01,\n",
       "        4.62305121e-01, 2.60408941e-01, 6.49441766e-01, 7.74152638e-01,\n",
       "        9.61684867e-01, 1.81681325e-01, 3.93747020e-02, 1.12915981e-01,\n",
       "        6.75905964e-02, 3.85235709e-01, 2.34583263e-02, 2.30890627e-01,\n",
       "        6.66002183e-02, 8.40988973e-01, 2.92503662e-02, 3.48465637e+00,\n",
       "        5.36046239e-02, 2.96270828e-02, 1.07488078e+00, 3.09987149e-01,\n",
       "        5.06746096e-01, 2.22899339e-01, 5.84148650e-01, 7.12069421e-02,\n",
       "        1.12768309e+00, 6.58601015e-01, 7.53244201e-01, 5.03219751e-01,\n",
       "        2.14310493e+00, 3.26055574e-01, 1.86306825e-01, 7.11008797e+00,\n",
       "        6.65243145e-01, 5.68823315e-01, 8.47647053e-01, 3.81993660e-01,\n",
       "        1.47139990e-02, 1.20929239e-01, 7.85681434e-02, 7.60720467e-02,\n",
       "        7.16596672e-01, 1.51460851e-01, 2.10370117e-01, 6.10641618e-02,\n",
       "        6.66721203e-01, 5.66307230e-01, 2.90671216e-01, 2.85871857e-01,\n",
       "        2.07941231e+00, 6.55318257e-01, 2.15819140e+00, 2.88566113e+00,\n",
       "        1.74412945e+00, 3.89664657e-01, 6.60932514e-01, 2.36635972e+00,\n",
       "        1.18288063e-02, 6.00877687e-01, 7.34757040e-01, 1.62547972e-01,\n",
       "        1.22530484e-01, 1.63304089e+00, 3.12531368e+00, 2.06779374e+00,\n",
       "        1.85315332e+00, 4.73595463e-01, 1.08430544e+00, 8.44872453e+00,\n",
       "        1.71834535e+00, 2.80904515e+00, 8.97162916e+00, 1.08314391e+01,\n",
       "        5.49710948e+00, 3.04011770e-01, 4.75758987e+00, 7.35476593e-01,\n",
       "        3.36556874e-01, 7.54863636e-01, 7.32207025e-01, 6.08498404e-01,\n",
       "        1.65994436e+00, 2.89903249e-01, 4.87144752e-01, 6.63095714e-01,\n",
       "        4.41394489e-01, 7.39007384e-01, 4.97106051e+00, 2.46347449e+00,\n",
       "        5.93620982e+00, 2.49767740e+00, 1.54099509e+01, 3.02217099e+00,\n",
       "        8.16624649e+00, 1.72004301e+00, 2.69078183e+00, 1.63629234e+00,\n",
       "        6.63635317e-02, 2.97674088e-01, 3.36230074e-01, 4.77017697e-01,\n",
       "        4.86108574e-01, 1.05602864e+00, 4.05222922e+00, 1.43938138e+00,\n",
       "        7.81628464e+00, 5.21278935e-01, 1.34760502e+00, 1.37316847e+00,\n",
       "        3.50598836e+00, 3.12840203e+00, 6.21640466e-01, 4.96725331e+00,\n",
       "        2.26286409e+00, 1.20739194e+01, 2.05592552e+00, 4.26235907e+00,\n",
       "        5.47436896e-01, 3.25893961e-01, 3.91723300e-01, 7.26064041e-01,\n",
       "        6.99990639e-01, 7.00625779e-01, 2.20483805e+00, 1.79957599e-01,\n",
       "        8.85944555e-01, 2.03436984e+00, 2.61570576e+00, 4.33900876e+00,\n",
       "        5.94010380e+00, 1.48986367e+00, 1.31089432e+01, 1.05099526e+00,\n",
       "        3.46089934e+00, 2.66160104e+00, 1.09174730e+00, 5.44114736e+00,\n",
       "        4.04100300e-01, 7.03954750e-01, 2.40590386e-01, 6.71611325e-01,\n",
       "        4.92681116e-01, 1.02169152e+00, 1.36816221e-01, 6.32722978e-01,\n",
       "        3.30678757e-01, 9.14229863e-01, 6.34647175e-01, 6.21109831e-01,\n",
       "        8.00103222e-01, 1.13846181e+00, 1.03047556e+00, 3.31554645e+00,\n",
       "        1.40856742e+00, 5.32615346e-01, 1.45394560e+00, 1.39208903e+00,\n",
       "        7.50730715e-02, 5.13493221e-01, 6.31370984e-02, 6.59420618e-01,\n",
       "        1.43230536e-01, 3.59883271e-01, 1.20534742e+00, 1.52785672e-01,\n",
       "        5.59618047e-01, 1.07045581e+00, 5.91438826e-01, 8.69804832e-01,\n",
       "        8.98453149e-01, 7.21576177e-01, 8.42803798e-01, 1.12347078e+00,\n",
       "        1.00621993e+00, 5.67471855e-01, 6.37058705e-01, 3.11081133e-01,\n",
       "        5.07328305e-02, 4.95326452e-01, 8.10264184e-01, 2.49062867e-01,\n",
       "        9.42175496e-01, 1.17824643e+00, 9.53817401e-01, 1.03345395e+00,\n",
       "        1.54098010e+00, 6.96397701e-01, 9.44724829e-01, 8.23854725e-01,\n",
       "        8.97419637e-01, 1.93656983e+00, 2.45028688e+00, 4.03732786e-01,\n",
       "        1.46850964e-01, 5.05994309e-01, 2.99626821e+00, 2.75627924e+00]),\n",
       " 'param_max_depth': masked_array(data=[1, 1, 1, 1, 1, 1, 1, 1, 1, 1, 1, 1, 1, 1, 1, 1, 1, 1,\n",
       "                    1, 1, 6, 6, 6, 6, 6, 6, 6, 6, 6, 6, 6, 6, 6, 6, 6, 6,\n",
       "                    6, 6, 6, 6, 12, 12, 12, 12, 12, 12, 12, 12, 12, 12, 12,\n",
       "                    12, 12, 12, 12, 12, 12, 12, 12, 12, 18, 18, 18, 18, 18,\n",
       "                    18, 18, 18, 18, 18, 18, 18, 18, 18, 18, 18, 18, 18, 18,\n",
       "                    18, 24, 24, 24, 24, 24, 24, 24, 24, 24, 24, 24, 24, 24,\n",
       "                    24, 24, 24, 24, 24, 24, 24, 30, 30, 30, 30, 30, 30, 30,\n",
       "                    30, 30, 30, 30, 30, 30, 30, 30, 30, 30, 30, 30, 30, 36,\n",
       "                    36, 36, 36, 36, 36, 36, 36, 36, 36, 36, 36, 36, 36, 36,\n",
       "                    36, 36, 36, 36, 36, 42, 42, 42, 42, 42, 42, 42, 42, 42,\n",
       "                    42, 42, 42, 42, 42, 42, 42, 42, 42, 42, 42, 48, 48, 48,\n",
       "                    48, 48, 48, 48, 48, 48, 48, 48, 48, 48, 48, 48, 48, 48,\n",
       "                    48, 48, 48, 54, 54, 54, 54, 54, 54, 54, 54, 54, 54, 54,\n",
       "                    54, 54, 54, 54, 54, 54, 54, 54, 54, 60, 60, 60, 60, 60,\n",
       "                    60, 60, 60, 60, 60, 60, 60, 60, 60, 60, 60, 60, 60, 60,\n",
       "                    60, None, None, None, None, None, None, None, None,\n",
       "                    None, None, None, None, None, None, None, None, None,\n",
       "                    None, None, None],\n",
       "              mask=[False, False, False, False, False, False, False, False,\n",
       "                    False, False, False, False, False, False, False, False,\n",
       "                    False, False, False, False, False, False, False, False,\n",
       "                    False, False, False, False, False, False, False, False,\n",
       "                    False, False, False, False, False, False, False, False,\n",
       "                    False, False, False, False, False, False, False, False,\n",
       "                    False, False, False, False, False, False, False, False,\n",
       "                    False, False, False, False, False, False, False, False,\n",
       "                    False, False, False, False, False, False, False, False,\n",
       "                    False, False, False, False, False, False, False, False,\n",
       "                    False, False, False, False, False, False, False, False,\n",
       "                    False, False, False, False, False, False, False, False,\n",
       "                    False, False, False, False, False, False, False, False,\n",
       "                    False, False, False, False, False, False, False, False,\n",
       "                    False, False, False, False, False, False, False, False,\n",
       "                    False, False, False, False, False, False, False, False,\n",
       "                    False, False, False, False, False, False, False, False,\n",
       "                    False, False, False, False, False, False, False, False,\n",
       "                    False, False, False, False, False, False, False, False,\n",
       "                    False, False, False, False, False, False, False, False,\n",
       "                    False, False, False, False, False, False, False, False,\n",
       "                    False, False, False, False, False, False, False, False,\n",
       "                    False, False, False, False, False, False, False, False,\n",
       "                    False, False, False, False, False, False, False, False,\n",
       "                    False, False, False, False, False, False, False, False,\n",
       "                    False, False, False, False, False, False, False, False,\n",
       "                    False, False, False, False, False, False, False, False,\n",
       "                    False, False, False, False, False, False, False, False,\n",
       "                    False, False, False, False, False, False, False, False,\n",
       "                    False, False, False, False, False, False, False, False],\n",
       "        fill_value='?',\n",
       "             dtype=object),\n",
       " 'param_n_estimators': masked_array(data=[50, 100, 150, 200, 250, 300, 350, 400, 450, 500, 550,\n",
       "                    600, 650, 700, 750, 800, 850, 900, 950, 1000, 50, 100,\n",
       "                    150, 200, 250, 300, 350, 400, 450, 500, 550, 600, 650,\n",
       "                    700, 750, 800, 850, 900, 950, 1000, 50, 100, 150, 200,\n",
       "                    250, 300, 350, 400, 450, 500, 550, 600, 650, 700, 750,\n",
       "                    800, 850, 900, 950, 1000, 50, 100, 150, 200, 250, 300,\n",
       "                    350, 400, 450, 500, 550, 600, 650, 700, 750, 800, 850,\n",
       "                    900, 950, 1000, 50, 100, 150, 200, 250, 300, 350, 400,\n",
       "                    450, 500, 550, 600, 650, 700, 750, 800, 850, 900, 950,\n",
       "                    1000, 50, 100, 150, 200, 250, 300, 350, 400, 450, 500,\n",
       "                    550, 600, 650, 700, 750, 800, 850, 900, 950, 1000, 50,\n",
       "                    100, 150, 200, 250, 300, 350, 400, 450, 500, 550, 600,\n",
       "                    650, 700, 750, 800, 850, 900, 950, 1000, 50, 100, 150,\n",
       "                    200, 250, 300, 350, 400, 450, 500, 550, 600, 650, 700,\n",
       "                    750, 800, 850, 900, 950, 1000, 50, 100, 150, 200, 250,\n",
       "                    300, 350, 400, 450, 500, 550, 600, 650, 700, 750, 800,\n",
       "                    850, 900, 950, 1000, 50, 100, 150, 200, 250, 300, 350,\n",
       "                    400, 450, 500, 550, 600, 650, 700, 750, 800, 850, 900,\n",
       "                    950, 1000, 50, 100, 150, 200, 250, 300, 350, 400, 450,\n",
       "                    500, 550, 600, 650, 700, 750, 800, 850, 900, 950, 1000,\n",
       "                    50, 100, 150, 200, 250, 300, 350, 400, 450, 500, 550,\n",
       "                    600, 650, 700, 750, 800, 850, 900, 950, 1000],\n",
       "              mask=[False, False, False, False, False, False, False, False,\n",
       "                    False, False, False, False, False, False, False, False,\n",
       "                    False, False, False, False, False, False, False, False,\n",
       "                    False, False, False, False, False, False, False, False,\n",
       "                    False, False, False, False, False, False, False, False,\n",
       "                    False, False, False, False, False, False, False, False,\n",
       "                    False, False, False, False, False, False, False, False,\n",
       "                    False, False, False, False, False, False, False, False,\n",
       "                    False, False, False, False, False, False, False, False,\n",
       "                    False, False, False, False, False, False, False, False,\n",
       "                    False, False, False, False, False, False, False, False,\n",
       "                    False, False, False, False, False, False, False, False,\n",
       "                    False, False, False, False, False, False, False, False,\n",
       "                    False, False, False, False, False, False, False, False,\n",
       "                    False, False, False, False, False, False, False, False,\n",
       "                    False, False, False, False, False, False, False, False,\n",
       "                    False, False, False, False, False, False, False, False,\n",
       "                    False, False, False, False, False, False, False, False,\n",
       "                    False, False, False, False, False, False, False, False,\n",
       "                    False, False, False, False, False, False, False, False,\n",
       "                    False, False, False, False, False, False, False, False,\n",
       "                    False, False, False, False, False, False, False, False,\n",
       "                    False, False, False, False, False, False, False, False,\n",
       "                    False, False, False, False, False, False, False, False,\n",
       "                    False, False, False, False, False, False, False, False,\n",
       "                    False, False, False, False, False, False, False, False,\n",
       "                    False, False, False, False, False, False, False, False,\n",
       "                    False, False, False, False, False, False, False, False,\n",
       "                    False, False, False, False, False, False, False, False,\n",
       "                    False, False, False, False, False, False, False, False],\n",
       "        fill_value='?',\n",
       "             dtype=object),\n",
       " 'params': [{'max_depth': 1, 'n_estimators': 50},\n",
       "  {'max_depth': 1, 'n_estimators': 100},\n",
       "  {'max_depth': 1, 'n_estimators': 150},\n",
       "  {'max_depth': 1, 'n_estimators': 200},\n",
       "  {'max_depth': 1, 'n_estimators': 250},\n",
       "  {'max_depth': 1, 'n_estimators': 300},\n",
       "  {'max_depth': 1, 'n_estimators': 350},\n",
       "  {'max_depth': 1, 'n_estimators': 400},\n",
       "  {'max_depth': 1, 'n_estimators': 450},\n",
       "  {'max_depth': 1, 'n_estimators': 500},\n",
       "  {'max_depth': 1, 'n_estimators': 550},\n",
       "  {'max_depth': 1, 'n_estimators': 600},\n",
       "  {'max_depth': 1, 'n_estimators': 650},\n",
       "  {'max_depth': 1, 'n_estimators': 700},\n",
       "  {'max_depth': 1, 'n_estimators': 750},\n",
       "  {'max_depth': 1, 'n_estimators': 800},\n",
       "  {'max_depth': 1, 'n_estimators': 850},\n",
       "  {'max_depth': 1, 'n_estimators': 900},\n",
       "  {'max_depth': 1, 'n_estimators': 950},\n",
       "  {'max_depth': 1, 'n_estimators': 1000},\n",
       "  {'max_depth': 6, 'n_estimators': 50},\n",
       "  {'max_depth': 6, 'n_estimators': 100},\n",
       "  {'max_depth': 6, 'n_estimators': 150},\n",
       "  {'max_depth': 6, 'n_estimators': 200},\n",
       "  {'max_depth': 6, 'n_estimators': 250},\n",
       "  {'max_depth': 6, 'n_estimators': 300},\n",
       "  {'max_depth': 6, 'n_estimators': 350},\n",
       "  {'max_depth': 6, 'n_estimators': 400},\n",
       "  {'max_depth': 6, 'n_estimators': 450},\n",
       "  {'max_depth': 6, 'n_estimators': 500},\n",
       "  {'max_depth': 6, 'n_estimators': 550},\n",
       "  {'max_depth': 6, 'n_estimators': 600},\n",
       "  {'max_depth': 6, 'n_estimators': 650},\n",
       "  {'max_depth': 6, 'n_estimators': 700},\n",
       "  {'max_depth': 6, 'n_estimators': 750},\n",
       "  {'max_depth': 6, 'n_estimators': 800},\n",
       "  {'max_depth': 6, 'n_estimators': 850},\n",
       "  {'max_depth': 6, 'n_estimators': 900},\n",
       "  {'max_depth': 6, 'n_estimators': 950},\n",
       "  {'max_depth': 6, 'n_estimators': 1000},\n",
       "  {'max_depth': 12, 'n_estimators': 50},\n",
       "  {'max_depth': 12, 'n_estimators': 100},\n",
       "  {'max_depth': 12, 'n_estimators': 150},\n",
       "  {'max_depth': 12, 'n_estimators': 200},\n",
       "  {'max_depth': 12, 'n_estimators': 250},\n",
       "  {'max_depth': 12, 'n_estimators': 300},\n",
       "  {'max_depth': 12, 'n_estimators': 350},\n",
       "  {'max_depth': 12, 'n_estimators': 400},\n",
       "  {'max_depth': 12, 'n_estimators': 450},\n",
       "  {'max_depth': 12, 'n_estimators': 500},\n",
       "  {'max_depth': 12, 'n_estimators': 550},\n",
       "  {'max_depth': 12, 'n_estimators': 600},\n",
       "  {'max_depth': 12, 'n_estimators': 650},\n",
       "  {'max_depth': 12, 'n_estimators': 700},\n",
       "  {'max_depth': 12, 'n_estimators': 750},\n",
       "  {'max_depth': 12, 'n_estimators': 800},\n",
       "  {'max_depth': 12, 'n_estimators': 850},\n",
       "  {'max_depth': 12, 'n_estimators': 900},\n",
       "  {'max_depth': 12, 'n_estimators': 950},\n",
       "  {'max_depth': 12, 'n_estimators': 1000},\n",
       "  {'max_depth': 18, 'n_estimators': 50},\n",
       "  {'max_depth': 18, 'n_estimators': 100},\n",
       "  {'max_depth': 18, 'n_estimators': 150},\n",
       "  {'max_depth': 18, 'n_estimators': 200},\n",
       "  {'max_depth': 18, 'n_estimators': 250},\n",
       "  {'max_depth': 18, 'n_estimators': 300},\n",
       "  {'max_depth': 18, 'n_estimators': 350},\n",
       "  {'max_depth': 18, 'n_estimators': 400},\n",
       "  {'max_depth': 18, 'n_estimators': 450},\n",
       "  {'max_depth': 18, 'n_estimators': 500},\n",
       "  {'max_depth': 18, 'n_estimators': 550},\n",
       "  {'max_depth': 18, 'n_estimators': 600},\n",
       "  {'max_depth': 18, 'n_estimators': 650},\n",
       "  {'max_depth': 18, 'n_estimators': 700},\n",
       "  {'max_depth': 18, 'n_estimators': 750},\n",
       "  {'max_depth': 18, 'n_estimators': 800},\n",
       "  {'max_depth': 18, 'n_estimators': 850},\n",
       "  {'max_depth': 18, 'n_estimators': 900},\n",
       "  {'max_depth': 18, 'n_estimators': 950},\n",
       "  {'max_depth': 18, 'n_estimators': 1000},\n",
       "  {'max_depth': 24, 'n_estimators': 50},\n",
       "  {'max_depth': 24, 'n_estimators': 100},\n",
       "  {'max_depth': 24, 'n_estimators': 150},\n",
       "  {'max_depth': 24, 'n_estimators': 200},\n",
       "  {'max_depth': 24, 'n_estimators': 250},\n",
       "  {'max_depth': 24, 'n_estimators': 300},\n",
       "  {'max_depth': 24, 'n_estimators': 350},\n",
       "  {'max_depth': 24, 'n_estimators': 400},\n",
       "  {'max_depth': 24, 'n_estimators': 450},\n",
       "  {'max_depth': 24, 'n_estimators': 500},\n",
       "  {'max_depth': 24, 'n_estimators': 550},\n",
       "  {'max_depth': 24, 'n_estimators': 600},\n",
       "  {'max_depth': 24, 'n_estimators': 650},\n",
       "  {'max_depth': 24, 'n_estimators': 700},\n",
       "  {'max_depth': 24, 'n_estimators': 750},\n",
       "  {'max_depth': 24, 'n_estimators': 800},\n",
       "  {'max_depth': 24, 'n_estimators': 850},\n",
       "  {'max_depth': 24, 'n_estimators': 900},\n",
       "  {'max_depth': 24, 'n_estimators': 950},\n",
       "  {'max_depth': 24, 'n_estimators': 1000},\n",
       "  {'max_depth': 30, 'n_estimators': 50},\n",
       "  {'max_depth': 30, 'n_estimators': 100},\n",
       "  {'max_depth': 30, 'n_estimators': 150},\n",
       "  {'max_depth': 30, 'n_estimators': 200},\n",
       "  {'max_depth': 30, 'n_estimators': 250},\n",
       "  {'max_depth': 30, 'n_estimators': 300},\n",
       "  {'max_depth': 30, 'n_estimators': 350},\n",
       "  {'max_depth': 30, 'n_estimators': 400},\n",
       "  {'max_depth': 30, 'n_estimators': 450},\n",
       "  {'max_depth': 30, 'n_estimators': 500},\n",
       "  {'max_depth': 30, 'n_estimators': 550},\n",
       "  {'max_depth': 30, 'n_estimators': 600},\n",
       "  {'max_depth': 30, 'n_estimators': 650},\n",
       "  {'max_depth': 30, 'n_estimators': 700},\n",
       "  {'max_depth': 30, 'n_estimators': 750},\n",
       "  {'max_depth': 30, 'n_estimators': 800},\n",
       "  {'max_depth': 30, 'n_estimators': 850},\n",
       "  {'max_depth': 30, 'n_estimators': 900},\n",
       "  {'max_depth': 30, 'n_estimators': 950},\n",
       "  {'max_depth': 30, 'n_estimators': 1000},\n",
       "  {'max_depth': 36, 'n_estimators': 50},\n",
       "  {'max_depth': 36, 'n_estimators': 100},\n",
       "  {'max_depth': 36, 'n_estimators': 150},\n",
       "  {'max_depth': 36, 'n_estimators': 200},\n",
       "  {'max_depth': 36, 'n_estimators': 250},\n",
       "  {'max_depth': 36, 'n_estimators': 300},\n",
       "  {'max_depth': 36, 'n_estimators': 350},\n",
       "  {'max_depth': 36, 'n_estimators': 400},\n",
       "  {'max_depth': 36, 'n_estimators': 450},\n",
       "  {'max_depth': 36, 'n_estimators': 500},\n",
       "  {'max_depth': 36, 'n_estimators': 550},\n",
       "  {'max_depth': 36, 'n_estimators': 600},\n",
       "  {'max_depth': 36, 'n_estimators': 650},\n",
       "  {'max_depth': 36, 'n_estimators': 700},\n",
       "  {'max_depth': 36, 'n_estimators': 750},\n",
       "  {'max_depth': 36, 'n_estimators': 800},\n",
       "  {'max_depth': 36, 'n_estimators': 850},\n",
       "  {'max_depth': 36, 'n_estimators': 900},\n",
       "  {'max_depth': 36, 'n_estimators': 950},\n",
       "  {'max_depth': 36, 'n_estimators': 1000},\n",
       "  {'max_depth': 42, 'n_estimators': 50},\n",
       "  {'max_depth': 42, 'n_estimators': 100},\n",
       "  {'max_depth': 42, 'n_estimators': 150},\n",
       "  {'max_depth': 42, 'n_estimators': 200},\n",
       "  {'max_depth': 42, 'n_estimators': 250},\n",
       "  {'max_depth': 42, 'n_estimators': 300},\n",
       "  {'max_depth': 42, 'n_estimators': 350},\n",
       "  {'max_depth': 42, 'n_estimators': 400},\n",
       "  {'max_depth': 42, 'n_estimators': 450},\n",
       "  {'max_depth': 42, 'n_estimators': 500},\n",
       "  {'max_depth': 42, 'n_estimators': 550},\n",
       "  {'max_depth': 42, 'n_estimators': 600},\n",
       "  {'max_depth': 42, 'n_estimators': 650},\n",
       "  {'max_depth': 42, 'n_estimators': 700},\n",
       "  {'max_depth': 42, 'n_estimators': 750},\n",
       "  {'max_depth': 42, 'n_estimators': 800},\n",
       "  {'max_depth': 42, 'n_estimators': 850},\n",
       "  {'max_depth': 42, 'n_estimators': 900},\n",
       "  {'max_depth': 42, 'n_estimators': 950},\n",
       "  {'max_depth': 42, 'n_estimators': 1000},\n",
       "  {'max_depth': 48, 'n_estimators': 50},\n",
       "  {'max_depth': 48, 'n_estimators': 100},\n",
       "  {'max_depth': 48, 'n_estimators': 150},\n",
       "  {'max_depth': 48, 'n_estimators': 200},\n",
       "  {'max_depth': 48, 'n_estimators': 250},\n",
       "  {'max_depth': 48, 'n_estimators': 300},\n",
       "  {'max_depth': 48, 'n_estimators': 350},\n",
       "  {'max_depth': 48, 'n_estimators': 400},\n",
       "  {'max_depth': 48, 'n_estimators': 450},\n",
       "  {'max_depth': 48, 'n_estimators': 500},\n",
       "  {'max_depth': 48, 'n_estimators': 550},\n",
       "  {'max_depth': 48, 'n_estimators': 600},\n",
       "  {'max_depth': 48, 'n_estimators': 650},\n",
       "  {'max_depth': 48, 'n_estimators': 700},\n",
       "  {'max_depth': 48, 'n_estimators': 750},\n",
       "  {'max_depth': 48, 'n_estimators': 800},\n",
       "  {'max_depth': 48, 'n_estimators': 850},\n",
       "  {'max_depth': 48, 'n_estimators': 900},\n",
       "  {'max_depth': 48, 'n_estimators': 950},\n",
       "  {'max_depth': 48, 'n_estimators': 1000},\n",
       "  {'max_depth': 54, 'n_estimators': 50},\n",
       "  {'max_depth': 54, 'n_estimators': 100},\n",
       "  {'max_depth': 54, 'n_estimators': 150},\n",
       "  {'max_depth': 54, 'n_estimators': 200},\n",
       "  {'max_depth': 54, 'n_estimators': 250},\n",
       "  {'max_depth': 54, 'n_estimators': 300},\n",
       "  {'max_depth': 54, 'n_estimators': 350},\n",
       "  {'max_depth': 54, 'n_estimators': 400},\n",
       "  {'max_depth': 54, 'n_estimators': 450},\n",
       "  {'max_depth': 54, 'n_estimators': 500},\n",
       "  {'max_depth': 54, 'n_estimators': 550},\n",
       "  {'max_depth': 54, 'n_estimators': 600},\n",
       "  {'max_depth': 54, 'n_estimators': 650},\n",
       "  {'max_depth': 54, 'n_estimators': 700},\n",
       "  {'max_depth': 54, 'n_estimators': 750},\n",
       "  {'max_depth': 54, 'n_estimators': 800},\n",
       "  {'max_depth': 54, 'n_estimators': 850},\n",
       "  {'max_depth': 54, 'n_estimators': 900},\n",
       "  {'max_depth': 54, 'n_estimators': 950},\n",
       "  {'max_depth': 54, 'n_estimators': 1000},\n",
       "  {'max_depth': 60, 'n_estimators': 50},\n",
       "  {'max_depth': 60, 'n_estimators': 100},\n",
       "  {'max_depth': 60, 'n_estimators': 150},\n",
       "  {'max_depth': 60, 'n_estimators': 200},\n",
       "  {'max_depth': 60, 'n_estimators': 250},\n",
       "  {'max_depth': 60, 'n_estimators': 300},\n",
       "  {'max_depth': 60, 'n_estimators': 350},\n",
       "  {'max_depth': 60, 'n_estimators': 400},\n",
       "  {'max_depth': 60, 'n_estimators': 450},\n",
       "  {'max_depth': 60, 'n_estimators': 500},\n",
       "  {'max_depth': 60, 'n_estimators': 550},\n",
       "  {'max_depth': 60, 'n_estimators': 600},\n",
       "  {'max_depth': 60, 'n_estimators': 650},\n",
       "  {'max_depth': 60, 'n_estimators': 700},\n",
       "  {'max_depth': 60, 'n_estimators': 750},\n",
       "  {'max_depth': 60, 'n_estimators': 800},\n",
       "  {'max_depth': 60, 'n_estimators': 850},\n",
       "  {'max_depth': 60, 'n_estimators': 900},\n",
       "  {'max_depth': 60, 'n_estimators': 950},\n",
       "  {'max_depth': 60, 'n_estimators': 1000},\n",
       "  {'max_depth': None, 'n_estimators': 50},\n",
       "  {'max_depth': None, 'n_estimators': 100},\n",
       "  {'max_depth': None, 'n_estimators': 150},\n",
       "  {'max_depth': None, 'n_estimators': 200},\n",
       "  {'max_depth': None, 'n_estimators': 250},\n",
       "  {'max_depth': None, 'n_estimators': 300},\n",
       "  {'max_depth': None, 'n_estimators': 350},\n",
       "  {'max_depth': None, 'n_estimators': 400},\n",
       "  {'max_depth': None, 'n_estimators': 450},\n",
       "  {'max_depth': None, 'n_estimators': 500},\n",
       "  {'max_depth': None, 'n_estimators': 550},\n",
       "  {'max_depth': None, 'n_estimators': 600},\n",
       "  {'max_depth': None, 'n_estimators': 650},\n",
       "  {'max_depth': None, 'n_estimators': 700},\n",
       "  {'max_depth': None, 'n_estimators': 750},\n",
       "  {'max_depth': None, 'n_estimators': 800},\n",
       "  {'max_depth': None, 'n_estimators': 850},\n",
       "  {'max_depth': None, 'n_estimators': 900},\n",
       "  {'max_depth': None, 'n_estimators': 950},\n",
       "  {'max_depth': None, 'n_estimators': 1000}],\n",
       " 'split0_test_score': array([0.91172519, 0.91142895, 0.91131871, 0.91178031, 0.9117183 ,\n",
       "        0.91172519, 0.91128427, 0.91133938, 0.91143583, 0.91176653,\n",
       "        0.91177342, 0.91140139, 0.91176653, 0.91141517, 0.91176653,\n",
       "        0.91176653, 0.91176653, 0.91176653, 0.91170452, 0.91176653,\n",
       "        0.91179409, 0.91178031, 0.91178031, 0.91178031, 0.91178031,\n",
       "        0.91178031, 0.91178031, 0.91178031, 0.91178031, 0.91178031,\n",
       "        0.91178031, 0.91178031, 0.91178031, 0.91178031, 0.91178031,\n",
       "        0.91178031, 0.91178031, 0.91178031, 0.91178031, 0.91178031,\n",
       "        0.91173897, 0.9119801 , 0.91208345, 0.91202144, 0.91201455,\n",
       "        0.91209033, 0.91198699, 0.91206967, 0.912049  , 0.91194566,\n",
       "        0.91210411, 0.91202144, 0.91203522, 0.91209722, 0.91210411,\n",
       "        0.91203522, 0.91211789, 0.91201455, 0.91201455, 0.91200766,\n",
       "        0.91282751, 0.91275861, 0.91285507, 0.91286885, 0.91290329,\n",
       "        0.91292396, 0.91301352, 0.9128964 , 0.91291707, 0.91286885,\n",
       "        0.91297908, 0.91295841, 0.91288951, 0.91297219, 0.91293085,\n",
       "        0.91290329, 0.91295152, 0.91297908, 0.91288262, 0.9128344 ,\n",
       "        0.91062977, 0.9104782 , 0.91051265, 0.91062977, 0.91072622,\n",
       "        0.91069177, 0.91083645, 0.91065732, 0.91082267, 0.91062288,\n",
       "        0.91079511, 0.91062977, 0.91061599, 0.91071933, 0.91055398,\n",
       "        0.91066421, 0.91069866, 0.9106091 , 0.91062977, 0.91054709,\n",
       "        0.90323047, 0.90295489, 0.90321669, 0.9031478 , 0.90332004,\n",
       "        0.90347161, 0.90336137, 0.90347161, 0.90319603, 0.90342338,\n",
       "        0.90374718, 0.90376785, 0.90345783, 0.90337515, 0.90347161,\n",
       "        0.90360251, 0.9035405 , 0.90358184, 0.90354739, 0.90371963,\n",
       "        0.89271025, 0.89269647, 0.89286871, 0.89292382, 0.89322696,\n",
       "        0.8933303 , 0.8933303 , 0.8929376 , 0.89291693, 0.89301339,\n",
       "        0.89344053, 0.8930065 , 0.89320629, 0.89291693, 0.89325452,\n",
       "        0.89310984, 0.89323385, 0.89299272, 0.8928067 , 0.89317184,\n",
       "        0.88870058, 0.88838366, 0.88843189, 0.88843878, 0.88836299,\n",
       "        0.8882941 , 0.88825965, 0.88807363, 0.88805986, 0.88795651,\n",
       "        0.88779117, 0.88812186, 0.88830788, 0.88801852, 0.88813564,\n",
       "        0.88803919, 0.88805986, 0.88805297, 0.88834232, 0.88799785,\n",
       "        0.88729512, 0.8875087 , 0.88660618, 0.88668885, 0.88668196,\n",
       "        0.88644772, 0.88697132, 0.88653039, 0.88659929, 0.88655106,\n",
       "        0.88673019, 0.88677152, 0.8864615 , 0.88657173, 0.88655106,\n",
       "        0.88679908, 0.88668885, 0.8863926 , 0.88659929, 0.88646839,\n",
       "        0.88734335, 0.8868542 , 0.88654417, 0.88624792, 0.88617903,\n",
       "        0.88606191, 0.88632371, 0.88624104, 0.88627548, 0.88606191,\n",
       "        0.88635816, 0.88648906, 0.88629615, 0.8865235 , 0.88614458,\n",
       "        0.88624104, 0.88636505, 0.88622726, 0.88614458, 0.88643394,\n",
       "        0.88729512, 0.88634438, 0.88673019, 0.88624792, 0.88646839,\n",
       "        0.88615147, 0.88630304, 0.88621348, 0.88655106, 0.88648217,\n",
       "        0.8862617 , 0.88630993, 0.88620659, 0.88645461, 0.8863306 ,\n",
       "        0.88637194, 0.8862617 , 0.88618592, 0.8861997 , 0.8862617 ,\n",
       "        0.88699199, 0.88668885, 0.88661307, 0.88645461, 0.88621348,\n",
       "        0.88651661, 0.88633749, 0.88642705, 0.88655106, 0.88628926,\n",
       "        0.88659929, 0.88626859, 0.88642016, 0.88646839, 0.88617903,\n",
       "        0.88629615, 0.88621348, 0.88608258, 0.88620659, 0.88606191]),\n",
       " 'split1_test_score': array([0.88184555, 0.88184555, 0.88162509, 0.88183866, 0.88183866,\n",
       "        0.88103948, 0.88103948, 0.88183177, 0.88126684, 0.88183177,\n",
       "        0.88104637, 0.88104637, 0.88162509, 0.88183177, 0.88183177,\n",
       "        0.88183866, 0.88126684, 0.88183177, 0.88150108, 0.88183177,\n",
       "        0.88184555, 0.88184555, 0.88184555, 0.88184555, 0.88184555,\n",
       "        0.88184555, 0.88184555, 0.88184555, 0.88184555, 0.88184555,\n",
       "        0.88184555, 0.88184555, 0.88184555, 0.88184555, 0.88184555,\n",
       "        0.88184555, 0.88184555, 0.88184555, 0.88184555, 0.88184555,\n",
       "        0.8822038 , 0.88224514, 0.88261717, 0.88245183, 0.88236915,\n",
       "        0.88300298, 0.88234159, 0.88234159, 0.88228648, 0.88230715,\n",
       "        0.88229337, 0.88238293, 0.8823347 , 0.88247938, 0.88231404,\n",
       "        0.88237604, 0.88236226, 0.88239671, 0.88234848, 0.88261717,\n",
       "        0.88430509, 0.8844291 , 0.88431198, 0.88440155, 0.88421553,\n",
       "        0.88451867, 0.88437399, 0.88427065, 0.88433265, 0.88434643,\n",
       "        0.88430509, 0.88438088, 0.88438088, 0.88431887, 0.88424309,\n",
       "        0.88442221, 0.88433954, 0.88440844, 0.88433265, 0.88439466,\n",
       "        0.88379527, 0.88380905, 0.88375394, 0.88389861, 0.88373327,\n",
       "        0.88400885, 0.88393306, 0.8839055 , 0.88380216, 0.88389861,\n",
       "        0.88405707, 0.88387795, 0.88396062, 0.88398129, 0.88398129,\n",
       "        0.88400196, 0.88400885, 0.88405018, 0.88408463, 0.88394684,\n",
       "        0.87824236, 0.87879352, 0.87889686, 0.87891064, 0.87895886,\n",
       "        0.87888997, 0.87849038, 0.8787384 , 0.87911043, 0.87855927,\n",
       "        0.8791311 , 0.87891064, 0.87871773, 0.87886241, 0.87894508,\n",
       "        0.87892442, 0.87898642, 0.87891064, 0.87903465, 0.87895197,\n",
       "        0.87116687, 0.87131844, 0.87050548, 0.87098085, 0.87096708,\n",
       "        0.87064327, 0.87071905, 0.87048481, 0.87090507, 0.87057438,\n",
       "        0.87079484, 0.8708224 , 0.87103597, 0.87084306, 0.87097396,\n",
       "        0.87112553, 0.8708844 , 0.87112553, 0.87099463, 0.8707535 ,\n",
       "        0.86672316, 0.86675761, 0.86642002, 0.86664049, 0.86649581,\n",
       "        0.8664338 , 0.86599977, 0.8662409 , 0.86584131, 0.86609622,\n",
       "        0.86605488, 0.86611   , 0.86608933, 0.86593087, 0.86635113,\n",
       "        0.86622023, 0.8659791 , 0.86603421, 0.86596532, 0.8663029 ,\n",
       "        0.86560018, 0.86462876, 0.86509036, 0.86475277, 0.86479411,\n",
       "        0.86451853, 0.86430496, 0.86463565, 0.8644703 , 0.86454609,\n",
       "        0.8646012 , 0.86452542, 0.86451853, 0.86435318, 0.86473899,\n",
       "        0.86462187, 0.8646701 , 0.86442208, 0.8644703 , 0.86467699,\n",
       "        0.86452542, 0.86406382, 0.86422917, 0.86436696, 0.86444963,\n",
       "        0.86402938, 0.86409827, 0.8644703 , 0.86417406, 0.86386403,\n",
       "        0.86412583, 0.86417406, 0.86438763, 0.86416028, 0.86435318,\n",
       "        0.8644083 , 0.86435318, 0.86429118, 0.86427051, 0.86433251,\n",
       "        0.86489056, 0.86453231, 0.86397426, 0.86437385, 0.86407071,\n",
       "        0.86428429, 0.86447719, 0.8642774 , 0.86430496, 0.86409138,\n",
       "        0.86424295, 0.86418783, 0.86424295, 0.86406382, 0.86411894,\n",
       "        0.86422917, 0.86413961, 0.86415339, 0.86413961, 0.86413272,\n",
       "        0.86500079, 0.86402249, 0.86406382, 0.86427051, 0.8643394 ,\n",
       "        0.86416028, 0.86441519, 0.86429118, 0.86410516, 0.86399493,\n",
       "        0.86416717, 0.8638847 , 0.86420161, 0.8642085 , 0.86421539,\n",
       "        0.86396048, 0.86418095, 0.86398115, 0.86421539, 0.86413961]),\n",
       " 'split2_test_score': array([0.9347907 , 0.93468735, 0.93462535, 0.93455645, 0.93469424,\n",
       "        0.93463913, 0.93430843, 0.93462535, 0.93430843, 0.93469424,\n",
       "        0.93457023, 0.93455645, 0.93430843, 0.93468735, 0.93463913,\n",
       "        0.93430843, 0.93462535, 0.93462535, 0.93455645, 0.93455645,\n",
       "        0.93477692, 0.9347218 , 0.93478381, 0.93478381, 0.93477692,\n",
       "        0.93478381, 0.93478381, 0.93477692, 0.93477692, 0.9347907 ,\n",
       "        0.93478381, 0.93477692, 0.93478381, 0.93477692, 0.9347907 ,\n",
       "        0.93478381, 0.93478381, 0.93478381, 0.93477692, 0.93478381,\n",
       "        0.93091879, 0.9311737 , 0.93115303, 0.93166974, 0.93109791,\n",
       "        0.93137349, 0.93145617, 0.9314355 , 0.93141483, 0.93136661,\n",
       "        0.93145617, 0.93129771, 0.93125637, 0.93155951, 0.93126326,\n",
       "        0.93129771, 0.93127015, 0.93144928, 0.93131838, 0.93134594,\n",
       "        0.92912062, 0.92912062, 0.92914818, 0.92919641, 0.92898283,\n",
       "        0.92918263, 0.92925841, 0.92923774, 0.92918263, 0.92921019,\n",
       "        0.92905862, 0.92912062, 0.92916885, 0.92916196, 0.92934109,\n",
       "        0.92924463, 0.92923774, 0.92916196, 0.92916196, 0.92923085,\n",
       "        0.92225866, 0.92252735, 0.92254113, 0.9230854 , 0.92293383,\n",
       "        0.92274093, 0.92274782, 0.92330587, 0.92322319, 0.92285116,\n",
       "        0.92285116, 0.92311296, 0.92300273, 0.92299584, 0.92303718,\n",
       "        0.9230854 , 0.92300962, 0.92298895, 0.92300962, 0.92298206,\n",
       "        0.90623364, 0.90683992, 0.90748064, 0.90686747, 0.90692259,\n",
       "        0.90772177, 0.90734974, 0.90726707, 0.9072464 , 0.90761843,\n",
       "        0.90719128, 0.90706727, 0.90693637, 0.90716372, 0.90723262,\n",
       "        0.90739797, 0.90706727, 0.90741863, 0.90771488, 0.90780445,\n",
       "        0.88734257, 0.88888583, 0.88884449, 0.88800397, 0.88725301,\n",
       "        0.88721856, 0.88716345, 0.8876526 , 0.88709455, 0.88803842,\n",
       "        0.88746659, 0.88743903, 0.88779039, 0.88781795, 0.88743214,\n",
       "        0.88739769, 0.88738391, 0.88775595, 0.88743903, 0.88714278,\n",
       "        0.87946096, 0.87751812, 0.87837931, 0.87764902, 0.87773858,\n",
       "        0.87781437, 0.87768347, 0.87815884, 0.87784882, 0.87782126,\n",
       "        0.87793149, 0.87752501, 0.87786948, 0.87784193, 0.87739411,\n",
       "        0.87743545, 0.87761457, 0.8776628 , 0.87754568, 0.87783504,\n",
       "        0.87627801, 0.87560283, 0.87665004, 0.87532725, 0.87645713,\n",
       "        0.87556839, 0.87573373, 0.8758853 , 0.87577507, 0.87604376,\n",
       "        0.87570618, 0.87624356, 0.87611266, 0.87607821, 0.87611266,\n",
       "        0.87583019, 0.87583708, 0.87609199, 0.87577507, 0.87610577,\n",
       "        0.87636757, 0.8757544 , 0.8758853 , 0.87521702, 0.87513435,\n",
       "        0.87544437, 0.87526525, 0.87558216, 0.87544437, 0.87565795,\n",
       "        0.87554083, 0.87538237, 0.8752308 , 0.87591975, 0.87535481,\n",
       "        0.87597487, 0.87539615, 0.87565795, 0.87594042, 0.87548571,\n",
       "        0.87631934, 0.87589219, 0.87538237, 0.87583708, 0.87563039,\n",
       "        0.87566484, 0.87569929, 0.87548571, 0.87548571, 0.87558905,\n",
       "        0.8755615 , 0.87556839, 0.87539615, 0.87526525, 0.87558216,\n",
       "        0.87513435, 0.87547193, 0.87569929, 0.87535481, 0.87537548,\n",
       "        0.87633312, 0.87578196, 0.87592664, 0.87537548, 0.87561661,\n",
       "        0.87493455, 0.87525836, 0.87565106, 0.87585775, 0.87556839,\n",
       "        0.87563039, 0.87538926, 0.87529969, 0.87557527, 0.87554083,\n",
       "        0.87553394, 0.87551327, 0.87567862, 0.87537548, 0.87538237]),\n",
       " 'mean_test_score': array([0.90945381, 0.90932062, 0.90918972, 0.90939181, 0.90941707,\n",
       "        0.9091346 , 0.90887739, 0.9092655 , 0.9090037 , 0.90943085,\n",
       "        0.90913001, 0.9090014 , 0.90923335, 0.90931143, 0.90941248,\n",
       "        0.90930454, 0.90921957, 0.90940788, 0.90925402, 0.90938492,\n",
       "        0.90947219, 0.90944922, 0.90946989, 0.90946989, 0.90946759,\n",
       "        0.90946989, 0.90946989, 0.90946759, 0.90946759, 0.90947219,\n",
       "        0.90946989, 0.90946759, 0.90946989, 0.90946759, 0.90947219,\n",
       "        0.90946989, 0.90946989, 0.90946989, 0.90946759, 0.90946989,\n",
       "        0.90828719, 0.90846631, 0.90861788, 0.90871434, 0.90849387,\n",
       "        0.90882227, 0.90859492, 0.90861559, 0.90858344, 0.9085398 ,\n",
       "        0.90861788, 0.90856736, 0.9085421 , 0.90871204, 0.90856047,\n",
       "        0.90856966, 0.90858344, 0.90862018, 0.90856047, 0.90865692,\n",
       "        0.90875107, 0.90876945, 0.90877174, 0.90882227, 0.90870055,\n",
       "        0.90887509, 0.90888197, 0.9088016 , 0.90881078, 0.90880849,\n",
       "        0.90878093, 0.90881997, 0.90881308, 0.90881767, 0.90883834,\n",
       "        0.90885671, 0.90884293, 0.90884982, 0.90879241, 0.90881997,\n",
       "        0.90556123, 0.90560487, 0.90560257, 0.90587126, 0.90579777,\n",
       "        0.90581385, 0.90583911, 0.90595623, 0.90594934, 0.90579088,\n",
       "        0.90590112, 0.90587356, 0.90585978, 0.90589882, 0.90585748,\n",
       "        0.90591719, 0.90590571, 0.90588274, 0.905908  , 0.90582533,\n",
       "        0.89590216, 0.89619611, 0.8965314 , 0.89630864, 0.8964005 ,\n",
       "        0.89669445, 0.8964005 , 0.89649236, 0.89651762, 0.89653369,\n",
       "        0.89668985, 0.89658192, 0.89637064, 0.8964671 , 0.89654977,\n",
       "        0.89664163, 0.8965314 , 0.89663704, 0.89676564, 0.89682535,\n",
       "        0.8837399 , 0.88430025, 0.88407289, 0.88396955, 0.88381568,\n",
       "        0.88373071, 0.8837376 , 0.88369167, 0.88363885, 0.88387539,\n",
       "        0.88390065, 0.88375597, 0.88401088, 0.88385932, 0.88388687,\n",
       "        0.88387769, 0.88383405, 0.88395807, 0.88374679, 0.88368937,\n",
       "        0.8782949 , 0.87755313, 0.87774374, 0.87757609, 0.87753246,\n",
       "        0.87751409, 0.87731429, 0.87749113, 0.87724999, 0.87729133,\n",
       "        0.87725918, 0.87725229, 0.87742223, 0.87726377, 0.87729363,\n",
       "        0.87723162, 0.87721784, 0.87724999, 0.87728444, 0.8773786 ,\n",
       "        0.8763911 , 0.87591343, 0.87611552, 0.87558962, 0.87597773,\n",
       "        0.87551154, 0.87567   , 0.87568378, 0.87561489, 0.87571364,\n",
       "        0.87567919, 0.87584683, 0.87569756, 0.87566771, 0.8758009 ,\n",
       "        0.87575038, 0.87573201, 0.87563556, 0.87561489, 0.87575038,\n",
       "        0.87607878, 0.87555747, 0.87555288, 0.8752773 , 0.87525434,\n",
       "        0.87517855, 0.87522908, 0.87543117, 0.87529797, 0.87519463,\n",
       "        0.8753416 , 0.87534849, 0.87530486, 0.87553451, 0.87528419,\n",
       "        0.8755414 , 0.87537146, 0.87539213, 0.87545184, 0.87541739,\n",
       "        0.87616834, 0.87558963, 0.87536227, 0.87548628, 0.87538983,\n",
       "        0.87536687, 0.87549317, 0.87532553, 0.87544724, 0.87538753,\n",
       "        0.87535538, 0.87535538, 0.8752819 , 0.87526123, 0.8753439 ,\n",
       "        0.87524515, 0.87529108, 0.8753462 , 0.87523137, 0.87525663,\n",
       "        0.87610863, 0.87549777, 0.87553451, 0.87536687, 0.87538983,\n",
       "        0.87520381, 0.87533701, 0.87545643, 0.87550466, 0.87528419,\n",
       "        0.87546561, 0.87518085, 0.87530716, 0.87541739, 0.87531175,\n",
       "        0.87526352, 0.87530256, 0.87524745, 0.87526582, 0.87519463]),\n",
       " 'std_test_score': array([0.02167435, 0.02162403, 0.02168957, 0.02158811, 0.02163947,\n",
       "        0.0219585 , 0.02181345, 0.02160272, 0.02172233, 0.02164412,\n",
       "        0.02193082, 0.02191122, 0.02158234, 0.02162941, 0.02162268,\n",
       "        0.02149132, 0.02185784, 0.02161732, 0.02172897, 0.02159054,\n",
       "        0.02167142, 0.02164948, 0.02167361, 0.02167361, 0.02167093,\n",
       "        0.02167361, 0.02167361, 0.02167093, 0.02167093, 0.0216763 ,\n",
       "        0.02167361, 0.02167093, 0.02167361, 0.02167093, 0.0216763 ,\n",
       "        0.02167361, 0.02167361, 0.02167361, 0.02167093, 0.02167361,\n",
       "        0.02003702, 0.02012893, 0.01996564, 0.02022875, 0.0200486 ,\n",
       "        0.01988193, 0.02019389, 0.02019077, 0.02020571, 0.02017271,\n",
       "        0.02022145, 0.02011818, 0.02012434, 0.02017935, 0.02013992,\n",
       "        0.02012196, 0.02012237, 0.02016895, 0.02014052, 0.02003403,\n",
       "        0.01852153, 0.018462  , 0.01853063, 0.01850992, 0.01851621,\n",
       "        0.01845738, 0.01855542, 0.01858468, 0.01853872, 0.01853922,\n",
       "        0.01851014, 0.01849786, 0.01851042, 0.01854132, 0.01863722,\n",
       "        0.01852104, 0.01855842, 0.01850239, 0.01852861, 0.0185231 ,\n",
       "        0.01610643, 0.01617794, 0.01621097, 0.01634796, 0.01637861,\n",
       "        0.01618413, 0.01623528, 0.01642503, 0.01645836, 0.01626522,\n",
       "        0.01621129, 0.01636689, 0.01628983, 0.01628827, 0.01628667,\n",
       "        0.016305  , 0.0162787 , 0.01624419, 0.01623802, 0.01628206,\n",
       "        0.01254741, 0.01240728, 0.01259042, 0.01239561, 0.01242048,\n",
       "        0.01270868, 0.01276861, 0.01264921, 0.01241931, 0.0128247 ,\n",
       "        0.01249528, 0.01256787, 0.01256301, 0.01254411, 0.01254273,\n",
       "        0.01262342, 0.01248944, 0.01263195, 0.01265262, 0.01274793,\n",
       "        0.00915656, 0.00931041, 0.00973326, 0.00940145, 0.00940698,\n",
       "        0.00958468, 0.00954356, 0.00958466, 0.00931261, 0.00962204,\n",
       "        0.00958275, 0.00942363, 0.00943731, 0.00943635, 0.00943513,\n",
       "        0.0093138 , 0.00946311, 0.00932242, 0.00927959, 0.00947242,\n",
       "        0.00901005, 0.00882883, 0.00899754, 0.00889926, 0.00892843,\n",
       "        0.00892695, 0.00909131, 0.00892567, 0.00908056, 0.00893229,\n",
       "        0.00888653, 0.00898837, 0.0090762 , 0.00902651, 0.00889377,\n",
       "        0.00890872, 0.0090188 , 0.00899386, 0.00913724, 0.0088628 ,\n",
       "        0.00885729, 0.00934328, 0.00879193, 0.00895729, 0.00894211,\n",
       "        0.00895264, 0.00925361, 0.00893963, 0.00903483, 0.00898653,\n",
       "        0.00903414, 0.00908627, 0.00896299, 0.00907533, 0.00890747,\n",
       "        0.00905398, 0.00898943, 0.00897523, 0.00903483, 0.00889985,\n",
       "        0.00931762, 0.00930517, 0.00911309, 0.00893297, 0.00887139,\n",
       "        0.00899671, 0.00907353, 0.00888851, 0.00902346, 0.00906817,\n",
       "        0.0090774 , 0.00911009, 0.00894427, 0.00913381, 0.00889644,\n",
       "        0.00891845, 0.00898632, 0.00895734, 0.00893673, 0.009023  ,\n",
       "        0.00914725, 0.00890731, 0.00929008, 0.0089335 , 0.00914539,\n",
       "        0.00892973, 0.00891156, 0.00895608, 0.00908198, 0.00914211,\n",
       "        0.0089903 , 0.00903256, 0.00896698, 0.009141  , 0.00906944,\n",
       "        0.00904008, 0.00903221, 0.00899821, 0.00900642, 0.00903451,\n",
       "        0.00897927, 0.00925569, 0.00920986, 0.00905662, 0.00893149,\n",
       "        0.00912892, 0.00894991, 0.00903798, 0.0091669 , 0.00910384,\n",
       "        0.00915862, 0.00913938, 0.00907069, 0.00908825, 0.00896808,\n",
       "        0.0091205 , 0.00899598, 0.00902802, 0.0089782 , 0.00895073]),\n",
       " 'rank_test_score': array([ 20,  28,  35,  26,  23,  36,  41,  31,  38,  22,  37,  39,  33,\n",
       "         29,  24,  30,  34,  25,  32,  27,   3,  21,   4,   4,  14,   4,\n",
       "          4,  14,  14,   1,   4,  14,   4,  14,   1,   4,   4,   4,  14,\n",
       "          4,  80,  79,  67,  61,  78,  47,  69,  68,  70,  77,  66,  73,\n",
       "         76,  62,  75,  72,  71,  65,  74,  64,  60,  59,  58,  48,  63,\n",
       "         42,  40,  55,  53,  54,  57,  50,  52,  51,  46,  43,  45,  44,\n",
       "         56,  49, 100,  98,  99,  90,  96,  95,  93,  81,  82,  97,  86,\n",
       "         89,  91,  87,  92,  83,  85,  88,  84,  94, 120, 119, 110, 118,\n",
       "        116, 103, 115, 113, 112, 109, 104, 107, 117, 114, 108, 105, 111,\n",
       "        106, 102, 101, 135, 121, 122, 124, 132, 137, 136, 138, 140, 129,\n",
       "        126, 133, 123, 130, 127, 128, 131, 125, 134, 139, 141, 144, 142,\n",
       "        143, 145, 146, 150, 147, 157, 152, 155, 156, 148, 154, 151, 159,\n",
       "        160, 158, 153, 149, 161, 167, 163, 183, 166, 189, 177, 175, 180,\n",
       "        173, 176, 168, 174, 178, 169, 171, 172, 179, 180, 170, 165, 184,\n",
       "        185, 226, 231, 240, 235, 198, 221, 237, 214, 211, 219, 188, 224,\n",
       "        186, 205, 201, 196, 200, 162, 182, 208, 193, 202, 206, 192, 216,\n",
       "        197, 204, 210, 209, 225, 229, 213, 233, 222, 212, 234, 230, 164,\n",
       "        191, 187, 207, 203, 236, 215, 195, 190, 223, 194, 239, 218, 199,\n",
       "        217, 228, 220, 232, 227, 238], dtype=int32)}"
      ]
     },
     "execution_count": 31,
     "metadata": {},
     "output_type": "execute_result"
    }
   ],
   "source": [
    "grid_search1.cv_results_"
   ]
  },
  {
   "cell_type": "code",
   "execution_count": 36,
   "id": "14d729cf",
   "metadata": {},
   "outputs": [
    {
     "data": {
      "text/plain": [
       "['loan_amount',\n",
       " 'loan_term',\n",
       " 'ratio',\n",
       " 'purchaser_type_0.0',\n",
       " 'hoepa_status_3.0',\n",
       " 'submission_of_application_1.0',\n",
       " 'initially_payable_to_institution_1.0',\n",
       " 'hoepa_status_2.0',\n",
       " 'debt_to_income_ratio_-1',\n",
       " 'applicant_credit_score_type_9.0',\n",
       " 'co-applicant_credit_score_type_9.0',\n",
       " 'applicant_ethnicity-1_4.0',\n",
       " 'co-applicant_ethnicity-1_4.0',\n",
       " 'applicant_ethnicity_observed_3.0',\n",
       " 'applicant_race-1_7.0',\n",
       " 'co-applicant_race-1_7.0',\n",
       " 'applicant_sex_4.0',\n",
       " 'co-applicant_sex_4.0',\n",
       " 'applicant_age_8888',\n",
       " 'co-applicant_age_8888',\n",
       " 'submission_of_application_3.0',\n",
       " 'initially_payable_to_institution_3.0']"
      ]
     },
     "execution_count": 36,
     "metadata": {},
     "output_type": "execute_result"
    }
   ],
   "source": [
    "features"
   ]
  },
  {
   "cell_type": "code",
   "execution_count": null,
   "id": "0549f507",
   "metadata": {},
   "outputs": [],
   "source": []
  },
  {
   "cell_type": "code",
   "execution_count": null,
   "id": "f2560df2",
   "metadata": {},
   "outputs": [],
   "source": []
  },
  {
   "cell_type": "code",
   "execution_count": null,
   "id": "6b23372a",
   "metadata": {},
   "outputs": [],
   "source": []
  },
  {
   "cell_type": "code",
   "execution_count": null,
   "id": "3dd83849",
   "metadata": {},
   "outputs": [],
   "source": []
  },
  {
   "cell_type": "code",
   "execution_count": null,
   "id": "4374c256",
   "metadata": {},
   "outputs": [],
   "source": []
  },
  {
   "cell_type": "code",
   "execution_count": 300,
   "id": "b1ef9c13",
   "metadata": {},
   "outputs": [
    {
     "data": {
      "text/plain": [
       "(304812, 276)"
      ]
     },
     "execution_count": 300,
     "metadata": {},
     "output_type": "execute_result"
    }
   ],
   "source": [
    "from sklearn.preprocessing import PolynomialFeatures\n",
    "poly = PolynomialFeatures(2)\n",
    "interaction = poly.fit_transform(X_train)\n",
    "interaction.shape"
   ]
  },
  {
   "cell_type": "code",
   "execution_count": 303,
   "id": "eae0ef97",
   "metadata": {},
   "outputs": [
    {
     "data": {
      "text/plain": [
       "(435446,)"
      ]
     },
     "execution_count": 303,
     "metadata": {},
     "output_type": "execute_result"
    }
   ],
   "source": [
    "y.shape"
   ]
  },
  {
   "cell_type": "code",
   "execution_count": 301,
   "id": "9722a98c",
   "metadata": {},
   "outputs": [
    {
     "data": {
      "text/plain": [
       "(304812, 10)"
      ]
     },
     "execution_count": 301,
     "metadata": {},
     "output_type": "execute_result"
    }
   ],
   "source": [
    "pca = PCA(n_components = 10)\n",
    "pca_m = pca.fit(interaction)\n",
    "interaction_pca = pca.transform(interaction)\n",
    "interaction_pca.shape"
   ]
  },
  {
   "cell_type": "code",
   "execution_count": 304,
   "id": "3c7eac50",
   "metadata": {},
   "outputs": [
    {
     "name": "stdout",
     "output_type": "stream",
     "text": [
      "Fitting 3 folds for each of 132 candidates, totalling 396 fits\n"
     ]
    },
    {
     "name": "stderr",
     "output_type": "stream",
     "text": [
      "/Users/amyliu/opt/anaconda3/lib/python3.8/site-packages/joblib/externals/loky/process_executor.py:688: UserWarning: A worker stopped while some jobs were given to the executor. This can be caused by a too short worker timeout or by a memory leak.\n",
      "  warnings.warn(\n"
     ]
    },
    {
     "ename": "KeyboardInterrupt",
     "evalue": "",
     "output_type": "error",
     "traceback": [
      "\u001b[0;31m---------------------------------------------------------------------------\u001b[0m",
      "\u001b[0;31mKeyboardInterrupt\u001b[0m                         Traceback (most recent call last)",
      "\u001b[0;32m<ipython-input-304-47e6c3bf3c71>\u001b[0m in \u001b[0;36m<module>\u001b[0;34m\u001b[0m\n\u001b[1;32m     12\u001b[0m grid_search3 = GridSearchCV(estimator = rfc3, param_grid = param_grid, \n\u001b[1;32m     13\u001b[0m                           cv = 3, n_jobs = -1, verbose = 2)\n\u001b[0;32m---> 14\u001b[0;31m \u001b[0mgrid_search3\u001b[0m\u001b[0;34m.\u001b[0m\u001b[0mfit\u001b[0m\u001b[0;34m(\u001b[0m\u001b[0minteraction_pca\u001b[0m\u001b[0;34m,\u001b[0m \u001b[0my_train\u001b[0m\u001b[0;34m)\u001b[0m\u001b[0;34m\u001b[0m\u001b[0;34m\u001b[0m\u001b[0m\n\u001b[0m\u001b[1;32m     15\u001b[0m \u001b[0mgrid_search3\u001b[0m\u001b[0;34m.\u001b[0m\u001b[0mbest_params_\u001b[0m\u001b[0;34m\u001b[0m\u001b[0;34m\u001b[0m\u001b[0m\n",
      "\u001b[0;32m~/opt/anaconda3/lib/python3.8/site-packages/sklearn/model_selection/_search.py\u001b[0m in \u001b[0;36mfit\u001b[0;34m(self, X, y, groups, **fit_params)\u001b[0m\n\u001b[1;32m    889\u001b[0m                 \u001b[0;32mreturn\u001b[0m \u001b[0mresults\u001b[0m\u001b[0;34m\u001b[0m\u001b[0;34m\u001b[0m\u001b[0m\n\u001b[1;32m    890\u001b[0m \u001b[0;34m\u001b[0m\u001b[0m\n\u001b[0;32m--> 891\u001b[0;31m             \u001b[0mself\u001b[0m\u001b[0;34m.\u001b[0m\u001b[0m_run_search\u001b[0m\u001b[0;34m(\u001b[0m\u001b[0mevaluate_candidates\u001b[0m\u001b[0;34m)\u001b[0m\u001b[0;34m\u001b[0m\u001b[0;34m\u001b[0m\u001b[0m\n\u001b[0m\u001b[1;32m    892\u001b[0m \u001b[0;34m\u001b[0m\u001b[0m\n\u001b[1;32m    893\u001b[0m             \u001b[0;31m# multimetric is determined here because in the case of a callable\u001b[0m\u001b[0;34m\u001b[0m\u001b[0;34m\u001b[0m\u001b[0;34m\u001b[0m\u001b[0m\n",
      "\u001b[0;32m~/opt/anaconda3/lib/python3.8/site-packages/sklearn/model_selection/_search.py\u001b[0m in \u001b[0;36m_run_search\u001b[0;34m(self, evaluate_candidates)\u001b[0m\n\u001b[1;32m   1390\u001b[0m     \u001b[0;32mdef\u001b[0m \u001b[0m_run_search\u001b[0m\u001b[0;34m(\u001b[0m\u001b[0mself\u001b[0m\u001b[0;34m,\u001b[0m \u001b[0mevaluate_candidates\u001b[0m\u001b[0;34m)\u001b[0m\u001b[0;34m:\u001b[0m\u001b[0;34m\u001b[0m\u001b[0;34m\u001b[0m\u001b[0m\n\u001b[1;32m   1391\u001b[0m         \u001b[0;34m\"\"\"Search all candidates in param_grid\"\"\"\u001b[0m\u001b[0;34m\u001b[0m\u001b[0;34m\u001b[0m\u001b[0m\n\u001b[0;32m-> 1392\u001b[0;31m         \u001b[0mevaluate_candidates\u001b[0m\u001b[0;34m(\u001b[0m\u001b[0mParameterGrid\u001b[0m\u001b[0;34m(\u001b[0m\u001b[0mself\u001b[0m\u001b[0;34m.\u001b[0m\u001b[0mparam_grid\u001b[0m\u001b[0;34m)\u001b[0m\u001b[0;34m)\u001b[0m\u001b[0;34m\u001b[0m\u001b[0;34m\u001b[0m\u001b[0m\n\u001b[0m\u001b[1;32m   1393\u001b[0m \u001b[0;34m\u001b[0m\u001b[0m\n\u001b[1;32m   1394\u001b[0m \u001b[0;34m\u001b[0m\u001b[0m\n",
      "\u001b[0;32m~/opt/anaconda3/lib/python3.8/site-packages/sklearn/model_selection/_search.py\u001b[0m in \u001b[0;36mevaluate_candidates\u001b[0;34m(candidate_params, cv, more_results)\u001b[0m\n\u001b[1;32m    836\u001b[0m                     )\n\u001b[1;32m    837\u001b[0m \u001b[0;34m\u001b[0m\u001b[0m\n\u001b[0;32m--> 838\u001b[0;31m                 out = parallel(\n\u001b[0m\u001b[1;32m    839\u001b[0m                     delayed(_fit_and_score)(\n\u001b[1;32m    840\u001b[0m                         \u001b[0mclone\u001b[0m\u001b[0;34m(\u001b[0m\u001b[0mbase_estimator\u001b[0m\u001b[0;34m)\u001b[0m\u001b[0;34m,\u001b[0m\u001b[0;34m\u001b[0m\u001b[0;34m\u001b[0m\u001b[0m\n",
      "\u001b[0;32m~/opt/anaconda3/lib/python3.8/site-packages/joblib/parallel.py\u001b[0m in \u001b[0;36m__call__\u001b[0;34m(self, iterable)\u001b[0m\n\u001b[1;32m   1052\u001b[0m \u001b[0;34m\u001b[0m\u001b[0m\n\u001b[1;32m   1053\u001b[0m             \u001b[0;32mwith\u001b[0m \u001b[0mself\u001b[0m\u001b[0;34m.\u001b[0m\u001b[0m_backend\u001b[0m\u001b[0;34m.\u001b[0m\u001b[0mretrieval_context\u001b[0m\u001b[0;34m(\u001b[0m\u001b[0;34m)\u001b[0m\u001b[0;34m:\u001b[0m\u001b[0;34m\u001b[0m\u001b[0;34m\u001b[0m\u001b[0m\n\u001b[0;32m-> 1054\u001b[0;31m                 \u001b[0mself\u001b[0m\u001b[0;34m.\u001b[0m\u001b[0mretrieve\u001b[0m\u001b[0;34m(\u001b[0m\u001b[0;34m)\u001b[0m\u001b[0;34m\u001b[0m\u001b[0;34m\u001b[0m\u001b[0m\n\u001b[0m\u001b[1;32m   1055\u001b[0m             \u001b[0;31m# Make sure that we get a last message telling us we are done\u001b[0m\u001b[0;34m\u001b[0m\u001b[0;34m\u001b[0m\u001b[0;34m\u001b[0m\u001b[0m\n\u001b[1;32m   1056\u001b[0m             \u001b[0melapsed_time\u001b[0m \u001b[0;34m=\u001b[0m \u001b[0mtime\u001b[0m\u001b[0;34m.\u001b[0m\u001b[0mtime\u001b[0m\u001b[0;34m(\u001b[0m\u001b[0;34m)\u001b[0m \u001b[0;34m-\u001b[0m \u001b[0mself\u001b[0m\u001b[0;34m.\u001b[0m\u001b[0m_start_time\u001b[0m\u001b[0;34m\u001b[0m\u001b[0;34m\u001b[0m\u001b[0m\n",
      "\u001b[0;32m~/opt/anaconda3/lib/python3.8/site-packages/joblib/parallel.py\u001b[0m in \u001b[0;36mretrieve\u001b[0;34m(self)\u001b[0m\n\u001b[1;32m    931\u001b[0m             \u001b[0;32mtry\u001b[0m\u001b[0;34m:\u001b[0m\u001b[0;34m\u001b[0m\u001b[0;34m\u001b[0m\u001b[0m\n\u001b[1;32m    932\u001b[0m                 \u001b[0;32mif\u001b[0m \u001b[0mgetattr\u001b[0m\u001b[0;34m(\u001b[0m\u001b[0mself\u001b[0m\u001b[0;34m.\u001b[0m\u001b[0m_backend\u001b[0m\u001b[0;34m,\u001b[0m \u001b[0;34m'supports_timeout'\u001b[0m\u001b[0;34m,\u001b[0m \u001b[0;32mFalse\u001b[0m\u001b[0;34m)\u001b[0m\u001b[0;34m:\u001b[0m\u001b[0;34m\u001b[0m\u001b[0;34m\u001b[0m\u001b[0m\n\u001b[0;32m--> 933\u001b[0;31m                     \u001b[0mself\u001b[0m\u001b[0;34m.\u001b[0m\u001b[0m_output\u001b[0m\u001b[0;34m.\u001b[0m\u001b[0mextend\u001b[0m\u001b[0;34m(\u001b[0m\u001b[0mjob\u001b[0m\u001b[0;34m.\u001b[0m\u001b[0mget\u001b[0m\u001b[0;34m(\u001b[0m\u001b[0mtimeout\u001b[0m\u001b[0;34m=\u001b[0m\u001b[0mself\u001b[0m\u001b[0;34m.\u001b[0m\u001b[0mtimeout\u001b[0m\u001b[0;34m)\u001b[0m\u001b[0;34m)\u001b[0m\u001b[0;34m\u001b[0m\u001b[0;34m\u001b[0m\u001b[0m\n\u001b[0m\u001b[1;32m    934\u001b[0m                 \u001b[0;32melse\u001b[0m\u001b[0;34m:\u001b[0m\u001b[0;34m\u001b[0m\u001b[0;34m\u001b[0m\u001b[0m\n\u001b[1;32m    935\u001b[0m                     \u001b[0mself\u001b[0m\u001b[0;34m.\u001b[0m\u001b[0m_output\u001b[0m\u001b[0;34m.\u001b[0m\u001b[0mextend\u001b[0m\u001b[0;34m(\u001b[0m\u001b[0mjob\u001b[0m\u001b[0;34m.\u001b[0m\u001b[0mget\u001b[0m\u001b[0;34m(\u001b[0m\u001b[0;34m)\u001b[0m\u001b[0;34m)\u001b[0m\u001b[0;34m\u001b[0m\u001b[0;34m\u001b[0m\u001b[0m\n",
      "\u001b[0;32m~/opt/anaconda3/lib/python3.8/site-packages/joblib/_parallel_backends.py\u001b[0m in \u001b[0;36mwrap_future_result\u001b[0;34m(future, timeout)\u001b[0m\n\u001b[1;32m    540\u001b[0m         AsyncResults.get from multiprocessing.\"\"\"\n\u001b[1;32m    541\u001b[0m         \u001b[0;32mtry\u001b[0m\u001b[0;34m:\u001b[0m\u001b[0;34m\u001b[0m\u001b[0;34m\u001b[0m\u001b[0m\n\u001b[0;32m--> 542\u001b[0;31m             \u001b[0;32mreturn\u001b[0m \u001b[0mfuture\u001b[0m\u001b[0;34m.\u001b[0m\u001b[0mresult\u001b[0m\u001b[0;34m(\u001b[0m\u001b[0mtimeout\u001b[0m\u001b[0;34m=\u001b[0m\u001b[0mtimeout\u001b[0m\u001b[0;34m)\u001b[0m\u001b[0;34m\u001b[0m\u001b[0;34m\u001b[0m\u001b[0m\n\u001b[0m\u001b[1;32m    543\u001b[0m         \u001b[0;32mexcept\u001b[0m \u001b[0mCfTimeoutError\u001b[0m \u001b[0;32mas\u001b[0m \u001b[0me\u001b[0m\u001b[0;34m:\u001b[0m\u001b[0;34m\u001b[0m\u001b[0;34m\u001b[0m\u001b[0m\n\u001b[1;32m    544\u001b[0m             \u001b[0;32mraise\u001b[0m \u001b[0mTimeoutError\u001b[0m \u001b[0;32mfrom\u001b[0m \u001b[0me\u001b[0m\u001b[0;34m\u001b[0m\u001b[0;34m\u001b[0m\u001b[0m\n",
      "\u001b[0;32m~/opt/anaconda3/lib/python3.8/concurrent/futures/_base.py\u001b[0m in \u001b[0;36mresult\u001b[0;34m(self, timeout)\u001b[0m\n\u001b[1;32m    432\u001b[0m                 \u001b[0;32mreturn\u001b[0m \u001b[0mself\u001b[0m\u001b[0;34m.\u001b[0m\u001b[0m__get_result\u001b[0m\u001b[0;34m(\u001b[0m\u001b[0;34m)\u001b[0m\u001b[0;34m\u001b[0m\u001b[0;34m\u001b[0m\u001b[0m\n\u001b[1;32m    433\u001b[0m \u001b[0;34m\u001b[0m\u001b[0m\n\u001b[0;32m--> 434\u001b[0;31m             \u001b[0mself\u001b[0m\u001b[0;34m.\u001b[0m\u001b[0m_condition\u001b[0m\u001b[0;34m.\u001b[0m\u001b[0mwait\u001b[0m\u001b[0;34m(\u001b[0m\u001b[0mtimeout\u001b[0m\u001b[0;34m)\u001b[0m\u001b[0;34m\u001b[0m\u001b[0;34m\u001b[0m\u001b[0m\n\u001b[0m\u001b[1;32m    435\u001b[0m \u001b[0;34m\u001b[0m\u001b[0m\n\u001b[1;32m    436\u001b[0m             \u001b[0;32mif\u001b[0m \u001b[0mself\u001b[0m\u001b[0;34m.\u001b[0m\u001b[0m_state\u001b[0m \u001b[0;32min\u001b[0m \u001b[0;34m[\u001b[0m\u001b[0mCANCELLED\u001b[0m\u001b[0;34m,\u001b[0m \u001b[0mCANCELLED_AND_NOTIFIED\u001b[0m\u001b[0;34m]\u001b[0m\u001b[0;34m:\u001b[0m\u001b[0;34m\u001b[0m\u001b[0;34m\u001b[0m\u001b[0m\n",
      "\u001b[0;32m~/opt/anaconda3/lib/python3.8/threading.py\u001b[0m in \u001b[0;36mwait\u001b[0;34m(self, timeout)\u001b[0m\n\u001b[1;32m    300\u001b[0m         \u001b[0;32mtry\u001b[0m\u001b[0;34m:\u001b[0m    \u001b[0;31m# restore state no matter what (e.g., KeyboardInterrupt)\u001b[0m\u001b[0;34m\u001b[0m\u001b[0;34m\u001b[0m\u001b[0m\n\u001b[1;32m    301\u001b[0m             \u001b[0;32mif\u001b[0m \u001b[0mtimeout\u001b[0m \u001b[0;32mis\u001b[0m \u001b[0;32mNone\u001b[0m\u001b[0;34m:\u001b[0m\u001b[0;34m\u001b[0m\u001b[0;34m\u001b[0m\u001b[0m\n\u001b[0;32m--> 302\u001b[0;31m                 \u001b[0mwaiter\u001b[0m\u001b[0;34m.\u001b[0m\u001b[0macquire\u001b[0m\u001b[0;34m(\u001b[0m\u001b[0;34m)\u001b[0m\u001b[0;34m\u001b[0m\u001b[0;34m\u001b[0m\u001b[0m\n\u001b[0m\u001b[1;32m    303\u001b[0m                 \u001b[0mgotit\u001b[0m \u001b[0;34m=\u001b[0m \u001b[0;32mTrue\u001b[0m\u001b[0;34m\u001b[0m\u001b[0;34m\u001b[0m\u001b[0m\n\u001b[1;32m    304\u001b[0m             \u001b[0;32melse\u001b[0m\u001b[0;34m:\u001b[0m\u001b[0;34m\u001b[0m\u001b[0;34m\u001b[0m\u001b[0m\n",
      "\u001b[0;31mKeyboardInterrupt\u001b[0m: "
     ]
    }
   ],
   "source": [
    "max_depth = [int(x) for x in np.linspace(1, 60, num = 11)]\n",
    "max_depth.append(None)\n",
    "n_estimators = [int(x) for x in np.linspace(start = 500, stop = 1000, num = 11)]\n",
    "param_grid = {\n",
    "    'max_depth': max_depth,\n",
    "    'n_estimators': n_estimators\n",
    "}\n",
    "\n",
    "# Create a based model\n",
    "rfc3 = RandomForestClassifier()\n",
    "# Instantiate the grid search model\n",
    "grid_search3 = GridSearchCV(estimator = rfc3, param_grid = param_grid, \n",
    "                          cv = 3, n_jobs = -1, verbose = 2)\n",
    "grid_search3.fit(interaction_pca, y_train)\n",
    "grid_search3.best_params_"
   ]
  },
  {
   "cell_type": "code",
   "execution_count": null,
   "id": "a1b0d84c",
   "metadata": {},
   "outputs": [],
   "source": []
  },
  {
   "cell_type": "code",
   "execution_count": null,
   "id": "661bbf9c",
   "metadata": {},
   "outputs": [],
   "source": []
  },
  {
   "cell_type": "code",
   "execution_count": null,
   "id": "a6520798",
   "metadata": {},
   "outputs": [],
   "source": []
  },
  {
   "cell_type": "code",
   "execution_count": null,
   "id": "003da61c",
   "metadata": {},
   "outputs": [],
   "source": []
  },
  {
   "cell_type": "code",
   "execution_count": null,
   "id": "1ae2105b",
   "metadata": {},
   "outputs": [],
   "source": []
  },
  {
   "cell_type": "code",
   "execution_count": null,
   "id": "d7fe5ebb",
   "metadata": {},
   "outputs": [],
   "source": []
  },
  {
   "cell_type": "code",
   "execution_count": null,
   "id": "de30bdb1",
   "metadata": {},
   "outputs": [],
   "source": []
  },
  {
   "cell_type": "code",
   "execution_count": null,
   "id": "3e7db7b8",
   "metadata": {},
   "outputs": [],
   "source": []
  },
  {
   "cell_type": "code",
   "execution_count": null,
   "id": "a2cefe13",
   "metadata": {},
   "outputs": [],
   "source": []
  },
  {
   "cell_type": "code",
   "execution_count": null,
   "id": "f683a348",
   "metadata": {},
   "outputs": [],
   "source": []
  },
  {
   "cell_type": "code",
   "execution_count": null,
   "id": "72eb0daf",
   "metadata": {},
   "outputs": [],
   "source": []
  },
  {
   "cell_type": "code",
   "execution_count": null,
   "id": "6082bb91",
   "metadata": {},
   "outputs": [],
   "source": []
  },
  {
   "cell_type": "code",
   "execution_count": null,
   "id": "13d98a01",
   "metadata": {},
   "outputs": [],
   "source": []
  },
  {
   "cell_type": "code",
   "execution_count": null,
   "id": "356a4007",
   "metadata": {},
   "outputs": [],
   "source": []
  },
  {
   "cell_type": "code",
   "execution_count": 305,
   "id": "a3463076",
   "metadata": {},
   "outputs": [
    {
     "ename": "ValueError",
     "evalue": "Found input variables with inconsistent numbers of samples: [304812, 435446]",
     "output_type": "error",
     "traceback": [
      "\u001b[0;31m---------------------------------------------------------------------------\u001b[0m",
      "\u001b[0;31mValueError\u001b[0m                                Traceback (most recent call last)",
      "\u001b[0;32m<ipython-input-305-eb0029f56e73>\u001b[0m in \u001b[0;36m<module>\u001b[0;34m\u001b[0m\n\u001b[1;32m      7\u001b[0m \u001b[0mx_pca\u001b[0m\u001b[0;34m.\u001b[0m\u001b[0mshape\u001b[0m\u001b[0;34m\u001b[0m\u001b[0;34m\u001b[0m\u001b[0m\n\u001b[1;32m      8\u001b[0m \u001b[0mrfc2\u001b[0m \u001b[0;34m=\u001b[0m \u001b[0mRandomForestClassifier\u001b[0m\u001b[0;34m(\u001b[0m\u001b[0mrandom_state\u001b[0m\u001b[0;34m=\u001b[0m\u001b[0;36m0\u001b[0m\u001b[0;34m,\u001b[0m \u001b[0mn_estimators\u001b[0m\u001b[0;34m=\u001b[0m\u001b[0;36m100\u001b[0m\u001b[0;34m,\u001b[0m \u001b[0mn_jobs\u001b[0m\u001b[0;34m=\u001b[0m\u001b[0;34m-\u001b[0m\u001b[0;36m1\u001b[0m\u001b[0;34m)\u001b[0m\u001b[0;34m\u001b[0m\u001b[0;34m\u001b[0m\u001b[0m\n\u001b[0;32m----> 9\u001b[0;31m \u001b[0mrfc2\u001b[0m\u001b[0;34m.\u001b[0m\u001b[0mfit\u001b[0m\u001b[0;34m(\u001b[0m\u001b[0mX\u001b[0m\u001b[0;34m,\u001b[0m \u001b[0my\u001b[0m\u001b[0;34m)\u001b[0m\u001b[0;34m\u001b[0m\u001b[0;34m\u001b[0m\u001b[0m\n\u001b[0m\u001b[1;32m     10\u001b[0m \u001b[0mscaled_data\u001b[0m\u001b[0;34m.\u001b[0m\u001b[0mshape\u001b[0m\u001b[0;34m\u001b[0m\u001b[0;34m\u001b[0m\u001b[0m\n",
      "\u001b[0;32m~/opt/anaconda3/lib/python3.8/site-packages/sklearn/ensemble/_forest.py\u001b[0m in \u001b[0;36mfit\u001b[0;34m(self, X, y, sample_weight)\u001b[0m\n\u001b[1;32m    325\u001b[0m         \u001b[0;32mif\u001b[0m \u001b[0missparse\u001b[0m\u001b[0;34m(\u001b[0m\u001b[0my\u001b[0m\u001b[0;34m)\u001b[0m\u001b[0;34m:\u001b[0m\u001b[0;34m\u001b[0m\u001b[0;34m\u001b[0m\u001b[0m\n\u001b[1;32m    326\u001b[0m             \u001b[0;32mraise\u001b[0m \u001b[0mValueError\u001b[0m\u001b[0;34m(\u001b[0m\u001b[0;34m\"sparse multilabel-indicator for y is not supported.\"\u001b[0m\u001b[0;34m)\u001b[0m\u001b[0;34m\u001b[0m\u001b[0;34m\u001b[0m\u001b[0m\n\u001b[0;32m--> 327\u001b[0;31m         X, y = self._validate_data(\n\u001b[0m\u001b[1;32m    328\u001b[0m             \u001b[0mX\u001b[0m\u001b[0;34m,\u001b[0m \u001b[0my\u001b[0m\u001b[0;34m,\u001b[0m \u001b[0mmulti_output\u001b[0m\u001b[0;34m=\u001b[0m\u001b[0;32mTrue\u001b[0m\u001b[0;34m,\u001b[0m \u001b[0maccept_sparse\u001b[0m\u001b[0;34m=\u001b[0m\u001b[0;34m\"csc\"\u001b[0m\u001b[0;34m,\u001b[0m \u001b[0mdtype\u001b[0m\u001b[0;34m=\u001b[0m\u001b[0mDTYPE\u001b[0m\u001b[0;34m\u001b[0m\u001b[0;34m\u001b[0m\u001b[0m\n\u001b[1;32m    329\u001b[0m         )\n",
      "\u001b[0;32m~/opt/anaconda3/lib/python3.8/site-packages/sklearn/base.py\u001b[0m in \u001b[0;36m_validate_data\u001b[0;34m(self, X, y, reset, validate_separately, **check_params)\u001b[0m\n\u001b[1;32m    574\u001b[0m                 \u001b[0my\u001b[0m \u001b[0;34m=\u001b[0m \u001b[0mcheck_array\u001b[0m\u001b[0;34m(\u001b[0m\u001b[0my\u001b[0m\u001b[0;34m,\u001b[0m \u001b[0;34m**\u001b[0m\u001b[0mcheck_y_params\u001b[0m\u001b[0;34m)\u001b[0m\u001b[0;34m\u001b[0m\u001b[0;34m\u001b[0m\u001b[0m\n\u001b[1;32m    575\u001b[0m             \u001b[0;32melse\u001b[0m\u001b[0;34m:\u001b[0m\u001b[0;34m\u001b[0m\u001b[0;34m\u001b[0m\u001b[0m\n\u001b[0;32m--> 576\u001b[0;31m                 \u001b[0mX\u001b[0m\u001b[0;34m,\u001b[0m \u001b[0my\u001b[0m \u001b[0;34m=\u001b[0m \u001b[0mcheck_X_y\u001b[0m\u001b[0;34m(\u001b[0m\u001b[0mX\u001b[0m\u001b[0;34m,\u001b[0m \u001b[0my\u001b[0m\u001b[0;34m,\u001b[0m \u001b[0;34m**\u001b[0m\u001b[0mcheck_params\u001b[0m\u001b[0;34m)\u001b[0m\u001b[0;34m\u001b[0m\u001b[0;34m\u001b[0m\u001b[0m\n\u001b[0m\u001b[1;32m    577\u001b[0m             \u001b[0mout\u001b[0m \u001b[0;34m=\u001b[0m \u001b[0mX\u001b[0m\u001b[0;34m,\u001b[0m \u001b[0my\u001b[0m\u001b[0;34m\u001b[0m\u001b[0;34m\u001b[0m\u001b[0m\n\u001b[1;32m    578\u001b[0m \u001b[0;34m\u001b[0m\u001b[0m\n",
      "\u001b[0;32m~/opt/anaconda3/lib/python3.8/site-packages/sklearn/utils/validation.py\u001b[0m in \u001b[0;36mcheck_X_y\u001b[0;34m(X, y, accept_sparse, accept_large_sparse, dtype, order, copy, force_all_finite, ensure_2d, allow_nd, multi_output, ensure_min_samples, ensure_min_features, y_numeric, estimator)\u001b[0m\n\u001b[1;32m    971\u001b[0m     \u001b[0my\u001b[0m \u001b[0;34m=\u001b[0m \u001b[0m_check_y\u001b[0m\u001b[0;34m(\u001b[0m\u001b[0my\u001b[0m\u001b[0;34m,\u001b[0m \u001b[0mmulti_output\u001b[0m\u001b[0;34m=\u001b[0m\u001b[0mmulti_output\u001b[0m\u001b[0;34m,\u001b[0m \u001b[0my_numeric\u001b[0m\u001b[0;34m=\u001b[0m\u001b[0my_numeric\u001b[0m\u001b[0;34m)\u001b[0m\u001b[0;34m\u001b[0m\u001b[0;34m\u001b[0m\u001b[0m\n\u001b[1;32m    972\u001b[0m \u001b[0;34m\u001b[0m\u001b[0m\n\u001b[0;32m--> 973\u001b[0;31m     \u001b[0mcheck_consistent_length\u001b[0m\u001b[0;34m(\u001b[0m\u001b[0mX\u001b[0m\u001b[0;34m,\u001b[0m \u001b[0my\u001b[0m\u001b[0;34m)\u001b[0m\u001b[0;34m\u001b[0m\u001b[0;34m\u001b[0m\u001b[0m\n\u001b[0m\u001b[1;32m    974\u001b[0m \u001b[0;34m\u001b[0m\u001b[0m\n\u001b[1;32m    975\u001b[0m     \u001b[0;32mreturn\u001b[0m \u001b[0mX\u001b[0m\u001b[0;34m,\u001b[0m \u001b[0my\u001b[0m\u001b[0;34m\u001b[0m\u001b[0;34m\u001b[0m\u001b[0m\n",
      "\u001b[0;32m~/opt/anaconda3/lib/python3.8/site-packages/sklearn/utils/validation.py\u001b[0m in \u001b[0;36mcheck_consistent_length\u001b[0;34m(*arrays)\u001b[0m\n\u001b[1;32m    329\u001b[0m     \u001b[0muniques\u001b[0m \u001b[0;34m=\u001b[0m \u001b[0mnp\u001b[0m\u001b[0;34m.\u001b[0m\u001b[0munique\u001b[0m\u001b[0;34m(\u001b[0m\u001b[0mlengths\u001b[0m\u001b[0;34m)\u001b[0m\u001b[0;34m\u001b[0m\u001b[0;34m\u001b[0m\u001b[0m\n\u001b[1;32m    330\u001b[0m     \u001b[0;32mif\u001b[0m \u001b[0mlen\u001b[0m\u001b[0;34m(\u001b[0m\u001b[0muniques\u001b[0m\u001b[0;34m)\u001b[0m \u001b[0;34m>\u001b[0m \u001b[0;36m1\u001b[0m\u001b[0;34m:\u001b[0m\u001b[0;34m\u001b[0m\u001b[0;34m\u001b[0m\u001b[0m\n\u001b[0;32m--> 331\u001b[0;31m         raise ValueError(\n\u001b[0m\u001b[1;32m    332\u001b[0m             \u001b[0;34m\"Found input variables with inconsistent numbers of samples: %r\"\u001b[0m\u001b[0;34m\u001b[0m\u001b[0;34m\u001b[0m\u001b[0m\n\u001b[1;32m    333\u001b[0m             \u001b[0;34m%\u001b[0m \u001b[0;34m[\u001b[0m\u001b[0mint\u001b[0m\u001b[0;34m(\u001b[0m\u001b[0ml\u001b[0m\u001b[0;34m)\u001b[0m \u001b[0;32mfor\u001b[0m \u001b[0ml\u001b[0m \u001b[0;32min\u001b[0m \u001b[0mlengths\u001b[0m\u001b[0;34m]\u001b[0m\u001b[0;34m\u001b[0m\u001b[0;34m\u001b[0m\u001b[0m\n",
      "\u001b[0;31mValueError\u001b[0m: Found input variables with inconsistent numbers of samples: [304812, 435446]"
     ]
    }
   ],
   "source": [
    "from sklearn.decomposition import PCA\n",
    "\n",
    "pca = PCA(n_components = 10)\n",
    "pca_m = pca.fit(interaction)\n",
    "x_pca = pca.transform(interaction)\n",
    "\n",
    "x_pca.shape\n",
    "rfc2 = RandomForestClassifier(random_state=0, n_estimators=100, n_jobs=-1)\n",
    "rfc2.fit(X, y)\n",
    "scaled_data.shape"
   ]
  },
  {
   "cell_type": "code",
   "execution_count": null,
   "id": "10a41f89",
   "metadata": {},
   "outputs": [],
   "source": [
    "pca = PCA(n_components = 10)\n",
    "pca_m = pca.fit(interaction)\n",
    "x_pca = pca.transform(interaction)\n",
    "\n",
    "x_pca.shape\n",
    "\n",
    "scaled_data.shapev"
   ]
  },
  {
   "cell_type": "code",
   "execution_count": null,
   "id": "00ce3330",
   "metadata": {},
   "outputs": [],
   "source": []
  },
  {
   "cell_type": "code",
   "execution_count": 255,
   "id": "b8379e23",
   "metadata": {},
   "outputs": [
    {
     "name": "stderr",
     "output_type": "stream",
     "text": [
      "<ipython-input-255-92883d31e367>:10: SettingWithCopyWarning: \n",
      "A value is trying to be set on a copy of a slice from a DataFrame\n",
      "\n",
      "See the caveats in the documentation: https://pandas.pydata.org/pandas-docs/stable/user_guide/indexing.html#returning-a-view-versus-a-copy\n",
      "  X[i] = 0\n"
     ]
    },
    {
     "data": {
      "text/plain": [
       "226     0\n",
       "232     0\n",
       "236     0\n",
       "185    54\n",
       "218    60\n",
       "       ..\n",
       "78     18\n",
       "50     12\n",
       "58     12\n",
       "55     12\n",
       "59     12\n",
       "Name: param_max_depth, Length: 240, dtype: object"
      ]
     },
     "execution_count": 255,
     "metadata": {},
     "output_type": "execute_result"
    }
   ],
   "source": [
    "df_grid_results_1 = pd.DataFrame(grid_search1.cv_results_)[[\"param_max_depth\",'param_n_estimators',\"mean_test_score\"]].sort_values('mean_test_score')\n",
    "#plt.contour()\n",
    "X,Y,Z = df_grid_results_1['param_max_depth'],df_grid_results_1['param_n_estimators'],df_grid_results_1['mean_test_score']\n",
    "#cp1 = plt.contour(X,Y,Z)#levels=[0,0.25,0.5,0.75,1], extend='both')\n",
    "Z_standardized = (Z-np.min(Z))/(np.max(Z)-np.min(Z))\n",
    "Z_standardized\n",
    "\n",
    "\n"
   ]
  },
  {
   "cell_type": "code",
   "execution_count": 262,
   "id": "1b0ec8ff",
   "metadata": {},
   "outputs": [
    {
     "data": {
      "text/plain": [
       "pandas.core.series.Series"
      ]
     },
     "execution_count": 262,
     "metadata": {},
     "output_type": "execute_result"
    }
   ],
   "source": [
    "type(X)"
   ]
  },
  {
   "cell_type": "code",
   "execution_count": 257,
   "id": "68d8a71a",
   "metadata": {},
   "outputs": [
    {
     "data": {
      "text/plain": [
       "226    0.881540\n",
       "232    0.881619\n",
       "236    0.881655\n",
       "185    0.881655\n",
       "218    0.881707\n",
       "         ...   \n",
       "78     0.911450\n",
       "50     0.911516\n",
       "58     0.911539\n",
       "55     0.911559\n",
       "59     0.911565\n",
       "Name: mean_test_score, Length: 240, dtype: float64"
      ]
     },
     "execution_count": 257,
     "metadata": {},
     "output_type": "execute_result"
    }
   ],
   "source": [
    "Z"
   ]
  },
  {
   "cell_type": "code",
   "execution_count": null,
   "id": "d88682f4",
   "metadata": {},
   "outputs": [],
   "source": []
  },
  {
   "cell_type": "code",
   "execution_count": 143,
   "id": "7109f59b",
   "metadata": {},
   "outputs": [
    {
     "data": {
      "text/plain": [
       "array([0., 0., 1., ..., 0., 0., 0.])"
      ]
     },
     "execution_count": 143,
     "metadata": {},
     "output_type": "execute_result"
    }
   ],
   "source": [
    "y_pred1 = best_grid_rfc1.predict(X_test)\n",
    "y_pred1"
   ]
  },
  {
   "cell_type": "code",
   "execution_count": 145,
   "id": "03c8cbc3",
   "metadata": {},
   "outputs": [],
   "source": [
    "from sklearn.metrics import accuracy_score, confusion_matrix, precision_score, recall_score, roc_auc_score, roc_curve, f1_score"
   ]
  },
  {
   "cell_type": "code",
   "execution_count": 146,
   "id": "e0448ad9",
   "metadata": {},
   "outputs": [],
   "source": [
    "# Necessary imports: \n",
    "from sklearn.model_selection import cross_val_score, cross_val_predict\n",
    "from sklearn import metrics"
   ]
  },
  {
   "cell_type": "code",
   "execution_count": 147,
   "id": "9b64f92a",
   "metadata": {},
   "outputs": [
    {
     "name": "stdout",
     "output_type": "stream",
     "text": [
      "Cross-validated scores: [0.87213228 0.89705822 0.87484499 0.84039739 0.87563039 0.89027751]\n"
     ]
    }
   ],
   "source": [
    "scores = cross_val_score(rfc1, X, y, cv=6)\n",
    "print (\"Cross-validated scores:\", scores)"
   ]
  },
  {
   "cell_type": "code",
   "execution_count": 148,
   "id": "45e29742",
   "metadata": {},
   "outputs": [
    {
     "name": "stderr",
     "output_type": "stream",
     "text": [
      "/Users/amyliu/opt/anaconda3/lib/python3.8/site-packages/sklearn/linear_model/_logistic.py:814: ConvergenceWarning: lbfgs failed to converge (status=1):\n",
      "STOP: TOTAL NO. of ITERATIONS REACHED LIMIT.\n",
      "\n",
      "Increase the number of iterations (max_iter) or scale the data as shown in:\n",
      "    https://scikit-learn.org/stable/modules/preprocessing.html\n",
      "Please also refer to the documentation for alternative solver options:\n",
      "    https://scikit-learn.org/stable/modules/linear_model.html#logistic-regression\n",
      "  n_iter_i = _check_optimize_result(\n",
      "/Users/amyliu/opt/anaconda3/lib/python3.8/site-packages/sklearn/linear_model/_logistic.py:814: ConvergenceWarning: lbfgs failed to converge (status=1):\n",
      "STOP: TOTAL NO. of ITERATIONS REACHED LIMIT.\n",
      "\n",
      "Increase the number of iterations (max_iter) or scale the data as shown in:\n",
      "    https://scikit-learn.org/stable/modules/preprocessing.html\n",
      "Please also refer to the documentation for alternative solver options:\n",
      "    https://scikit-learn.org/stable/modules/linear_model.html#logistic-regression\n",
      "  n_iter_i = _check_optimize_result(\n",
      "/Users/amyliu/opt/anaconda3/lib/python3.8/site-packages/sklearn/linear_model/_logistic.py:814: ConvergenceWarning: lbfgs failed to converge (status=1):\n",
      "STOP: TOTAL NO. of ITERATIONS REACHED LIMIT.\n",
      "\n",
      "Increase the number of iterations (max_iter) or scale the data as shown in:\n",
      "    https://scikit-learn.org/stable/modules/preprocessing.html\n",
      "Please also refer to the documentation for alternative solver options:\n",
      "    https://scikit-learn.org/stable/modules/linear_model.html#logistic-regression\n",
      "  n_iter_i = _check_optimize_result(\n",
      "/Users/amyliu/opt/anaconda3/lib/python3.8/site-packages/sklearn/linear_model/_logistic.py:814: ConvergenceWarning: lbfgs failed to converge (status=1):\n",
      "STOP: TOTAL NO. of ITERATIONS REACHED LIMIT.\n",
      "\n",
      "Increase the number of iterations (max_iter) or scale the data as shown in:\n",
      "    https://scikit-learn.org/stable/modules/preprocessing.html\n",
      "Please also refer to the documentation for alternative solver options:\n",
      "    https://scikit-learn.org/stable/modules/linear_model.html#logistic-regression\n",
      "  n_iter_i = _check_optimize_result(\n",
      "/Users/amyliu/opt/anaconda3/lib/python3.8/site-packages/sklearn/linear_model/_logistic.py:814: ConvergenceWarning: lbfgs failed to converge (status=1):\n",
      "STOP: TOTAL NO. of ITERATIONS REACHED LIMIT.\n",
      "\n",
      "Increase the number of iterations (max_iter) or scale the data as shown in:\n",
      "    https://scikit-learn.org/stable/modules/preprocessing.html\n",
      "Please also refer to the documentation for alternative solver options:\n",
      "    https://scikit-learn.org/stable/modules/linear_model.html#logistic-regression\n",
      "  n_iter_i = _check_optimize_result(\n",
      "/Users/amyliu/opt/anaconda3/lib/python3.8/site-packages/sklearn/linear_model/_logistic.py:814: ConvergenceWarning: lbfgs failed to converge (status=1):\n",
      "STOP: TOTAL NO. of ITERATIONS REACHED LIMIT.\n",
      "\n",
      "Increase the number of iterations (max_iter) or scale the data as shown in:\n",
      "    https://scikit-learn.org/stable/modules/preprocessing.html\n",
      "Please also refer to the documentation for alternative solver options:\n",
      "    https://scikit-learn.org/stable/modules/linear_model.html#logistic-regression\n",
      "  n_iter_i = _check_optimize_result(\n"
     ]
    },
    {
     "name": "stdout",
     "output_type": "stream",
     "text": [
      "Cross-validated scores: [0.89631416 0.92664141 0.9067159  0.85631218 0.92912062 0.93822857]\n"
     ]
    },
    {
     "name": "stderr",
     "output_type": "stream",
     "text": [
      "/Users/amyliu/opt/anaconda3/lib/python3.8/site-packages/sklearn/linear_model/_logistic.py:814: ConvergenceWarning: lbfgs failed to converge (status=1):\n",
      "STOP: TOTAL NO. of ITERATIONS REACHED LIMIT.\n",
      "\n",
      "Increase the number of iterations (max_iter) or scale the data as shown in:\n",
      "    https://scikit-learn.org/stable/modules/preprocessing.html\n",
      "Please also refer to the documentation for alternative solver options:\n",
      "    https://scikit-learn.org/stable/modules/linear_model.html#logistic-regression\n",
      "  n_iter_i = _check_optimize_result(\n"
     ]
    }
   ],
   "source": [
    "from sklearn.linear_model import LogisticRegression\n",
    "lr = LogisticRegression()\n",
    "logistic1 = lr.fit(X,y)\n",
    "from sklearn.model_selection import cross_val_score, cross_val_predict\n",
    "from sklearn import metrics\n",
    "scores1 = cross_val_score(logistic1, X, y, cv=6)\n",
    "print (\"Cross-validated scores:\", scores1)"
   ]
  },
  {
   "cell_type": "markdown",
   "id": "ab5c2d7a",
   "metadata": {},
   "source": [
    "## Lasso Selection"
   ]
  },
  {
   "cell_type": "code",
   "execution_count": 149,
   "id": "5fcc7044",
   "metadata": {},
   "outputs": [],
   "source": [
    "df_numerical = credit_without_outlier[['loan_amount',\n",
    " 'loan_term',\n",
    " 'property_value',\n",
    " 'income',\n",
    " 'tract_population',\n",
    " 'tract_minority_population_percent',\n",
    " 'ffiec_msa_md_median_family_income',\n",
    " 'tract_to_msa_income_percentage',\n",
    " 'tract_owner_occupied_units',\n",
    " 'tract_one_to_four_family_homes',\n",
    " 'tract_median_age_of_housing_units',\n",
    " 'median_housing_price',\n",
    " 'ratio']]\n",
    "df_dummy = pd.get_dummies(df_cate)\n",
    "df_dummy_final = np.asarray(df_dummy)"
   ]
  },
  {
   "cell_type": "code",
   "execution_count": 150,
   "id": "396758f3",
   "metadata": {},
   "outputs": [
    {
     "data": {
      "text/plain": [
       "array(['activity_year_2018.0', 'activity_year_2019.0',\n",
       "       'activity_year_2020.0', 'conforming_loan_limit_C',\n",
       "       'conforming_loan_limit_NC',\n",
       "       'derived_loan_product_type_Conventional:First Lien',\n",
       "       'derived_loan_product_type_Conventional:Subordinate Lien',\n",
       "       'derived_loan_product_type_FHA:First Lien',\n",
       "       'derived_loan_product_type_FHA:Subordinate Lien',\n",
       "       'derived_loan_product_type_FSA/RHS:First Lien',\n",
       "       'derived_loan_product_type_VA:First Lien',\n",
       "       'derived_dwelling_category_Single Family (1-4 Units):Manufactured',\n",
       "       'derived_dwelling_category_Single Family (1-4 Units):Site-Built',\n",
       "       'derived_ethnicity_Ethnicity Not Available',\n",
       "       'derived_ethnicity_Hispanic or Latino', 'derived_ethnicity_Joint',\n",
       "       'derived_ethnicity_Not Hispanic or Latino',\n",
       "       'derived_race_2 or more minority races',\n",
       "       'derived_race_American Indian or Alaska Native',\n",
       "       'derived_race_Asian', 'derived_race_Black or African American',\n",
       "       'derived_race_Joint',\n",
       "       'derived_race_Native Hawaiian or Other Pacific Islander',\n",
       "       'derived_race_Race Not Available', 'derived_race_White',\n",
       "       'derived_sex_Female', 'derived_sex_Joint', 'derived_sex_Male',\n",
       "       'derived_sex_Sex Not Available', 'purchaser_type_0.0',\n",
       "       'purchaser_type_1.0', 'purchaser_type_2.0', 'purchaser_type_3.0',\n",
       "       'purchaser_type_5.0', 'purchaser_type_6.0', 'purchaser_type_71.0',\n",
       "       'purchaser_type_72.0', 'purchaser_type_8.0', 'purchaser_type_9.0',\n",
       "       'preapproval_1.0', 'preapproval_2.0', 'loan_type_1.0',\n",
       "       'loan_type_2.0', 'loan_type_3.0', 'loan_type_4.0',\n",
       "       'loan_purpose_1.0', 'loan_purpose_2.0', 'loan_purpose_31.0',\n",
       "       'loan_purpose_32.0', 'loan_purpose_4.0', 'loan_purpose_5.0',\n",
       "       'lien_status_1.0', 'lien_status_2.0', 'reverse_mortgage_2.0',\n",
       "       'open-end_line_of_credit_1.0', 'open-end_line_of_credit_2.0',\n",
       "       'business_or_commercial_purpose_1.0',\n",
       "       'business_or_commercial_purpose_2.0', 'hoepa_status_1.0',\n",
       "       'hoepa_status_2.0', 'hoepa_status_3.0',\n",
       "       'negative_amortization_1.0', 'negative_amortization_2.0',\n",
       "       'interest_only_payment_1.0', 'interest_only_payment_2.0',\n",
       "       'balloon_payment_1.0', 'balloon_payment_2.0',\n",
       "       'other_nonamortizing_features_1.0',\n",
       "       'other_nonamortizing_features_2.0', 'construction_method_1.0',\n",
       "       'construction_method_2.0', 'occupancy_type_1.0',\n",
       "       'occupancy_type_2.0', 'occupancy_type_3.0',\n",
       "       'manufactured_home_secured_property_type_1.0',\n",
       "       'manufactured_home_secured_property_type_2.0',\n",
       "       'manufactured_home_secured_property_type_3.0',\n",
       "       'manufactured_home_land_property_interest_1.0',\n",
       "       'manufactured_home_land_property_interest_2.0',\n",
       "       'manufactured_home_land_property_interest_3.0',\n",
       "       'manufactured_home_land_property_interest_4.0',\n",
       "       'manufactured_home_land_property_interest_5.0', 'total_units_1.0',\n",
       "       'total_units_2.0', 'total_units_3.0', 'total_units_4.0',\n",
       "       'debt_to_income_ratio_-1', 'debt_to_income_ratio_20%-<30%',\n",
       "       'debt_to_income_ratio_30%-<36%', 'debt_to_income_ratio_36',\n",
       "       'debt_to_income_ratio_37', 'debt_to_income_ratio_38',\n",
       "       'debt_to_income_ratio_39', 'debt_to_income_ratio_40',\n",
       "       'debt_to_income_ratio_41', 'debt_to_income_ratio_42',\n",
       "       'debt_to_income_ratio_43', 'debt_to_income_ratio_44',\n",
       "       'debt_to_income_ratio_45', 'debt_to_income_ratio_46',\n",
       "       'debt_to_income_ratio_47', 'debt_to_income_ratio_48',\n",
       "       'debt_to_income_ratio_49', 'debt_to_income_ratio_50%-60%',\n",
       "       'debt_to_income_ratio_<20%', 'debt_to_income_ratio_>60%',\n",
       "       'applicant_credit_score_type_1.0',\n",
       "       'applicant_credit_score_type_2.0',\n",
       "       'applicant_credit_score_type_3.0',\n",
       "       'applicant_credit_score_type_4.0',\n",
       "       'applicant_credit_score_type_5.0',\n",
       "       'applicant_credit_score_type_6.0',\n",
       "       'applicant_credit_score_type_7.0',\n",
       "       'applicant_credit_score_type_8.0',\n",
       "       'applicant_credit_score_type_9.0',\n",
       "       'co-applicant_credit_score_type_1.0',\n",
       "       'co-applicant_credit_score_type_10.0',\n",
       "       'co-applicant_credit_score_type_2.0',\n",
       "       'co-applicant_credit_score_type_3.0',\n",
       "       'co-applicant_credit_score_type_4.0',\n",
       "       'co-applicant_credit_score_type_5.0',\n",
       "       'co-applicant_credit_score_type_6.0',\n",
       "       'co-applicant_credit_score_type_7.0',\n",
       "       'co-applicant_credit_score_type_8.0',\n",
       "       'co-applicant_credit_score_type_9.0', 'applicant_ethnicity-1_1.0',\n",
       "       'applicant_ethnicity-1_11.0', 'applicant_ethnicity-1_12.0',\n",
       "       'applicant_ethnicity-1_13.0', 'applicant_ethnicity-1_14.0',\n",
       "       'applicant_ethnicity-1_2.0', 'applicant_ethnicity-1_3.0',\n",
       "       'applicant_ethnicity-1_4.0', 'applicant_ethnicity-1_5.0',\n",
       "       'co-applicant_ethnicity-1_1.0', 'co-applicant_ethnicity-1_11.0',\n",
       "       'co-applicant_ethnicity-1_12.0', 'co-applicant_ethnicity-1_13.0',\n",
       "       'co-applicant_ethnicity-1_14.0', 'co-applicant_ethnicity-1_2.0',\n",
       "       'co-applicant_ethnicity-1_3.0', 'co-applicant_ethnicity-1_4.0',\n",
       "       'co-applicant_ethnicity-1_5.0', 'applicant_ethnicity_observed_1.0',\n",
       "       'applicant_ethnicity_observed_2.0',\n",
       "       'applicant_ethnicity_observed_3.0',\n",
       "       'co-applicant_ethnicity_observed_1.0',\n",
       "       'co-applicant_ethnicity_observed_2.0',\n",
       "       'co-applicant_ethnicity_observed_3.0',\n",
       "       'co-applicant_ethnicity_observed_4.0', 'applicant_race-1_1.0',\n",
       "       'applicant_race-1_2.0', 'applicant_race-1_21.0',\n",
       "       'applicant_race-1_22.0', 'applicant_race-1_23.0',\n",
       "       'applicant_race-1_24.0', 'applicant_race-1_25.0',\n",
       "       'applicant_race-1_26.0', 'applicant_race-1_27.0',\n",
       "       'applicant_race-1_3.0', 'applicant_race-1_4.0',\n",
       "       'applicant_race-1_41.0', 'applicant_race-1_42.0',\n",
       "       'applicant_race-1_43.0', 'applicant_race-1_44.0',\n",
       "       'applicant_race-1_5.0', 'applicant_race-1_6.0',\n",
       "       'applicant_race-1_7.0', 'co-applicant_race-1_1.0',\n",
       "       'co-applicant_race-1_2.0', 'co-applicant_race-1_21.0',\n",
       "       'co-applicant_race-1_22.0', 'co-applicant_race-1_23.0',\n",
       "       'co-applicant_race-1_24.0', 'co-applicant_race-1_25.0',\n",
       "       'co-applicant_race-1_26.0', 'co-applicant_race-1_27.0',\n",
       "       'co-applicant_race-1_3.0', 'co-applicant_race-1_4.0',\n",
       "       'co-applicant_race-1_41.0', 'co-applicant_race-1_42.0',\n",
       "       'co-applicant_race-1_43.0', 'co-applicant_race-1_44.0',\n",
       "       'co-applicant_race-1_5.0', 'co-applicant_race-1_6.0',\n",
       "       'co-applicant_race-1_7.0', 'co-applicant_race-1_8.0',\n",
       "       'applicant_race_observed_1.0', 'applicant_race_observed_2.0',\n",
       "       'applicant_race_observed_3.0', 'co-applicant_race_observed_1.0',\n",
       "       'co-applicant_race_observed_2.0', 'co-applicant_race_observed_3.0',\n",
       "       'co-applicant_race_observed_4.0', 'applicant_sex_1.0',\n",
       "       'applicant_sex_2.0', 'applicant_sex_3.0', 'applicant_sex_4.0',\n",
       "       'applicant_sex_6.0', 'co-applicant_sex_1.0',\n",
       "       'co-applicant_sex_2.0', 'co-applicant_sex_3.0',\n",
       "       'co-applicant_sex_4.0', 'co-applicant_sex_5.0',\n",
       "       'co-applicant_sex_6.0', 'applicant_sex_observed_1.0',\n",
       "       'applicant_sex_observed_2.0', 'applicant_sex_observed_3.0',\n",
       "       'co-applicant_sex_observed_1.0', 'co-applicant_sex_observed_2.0',\n",
       "       'co-applicant_sex_observed_3.0', 'co-applicant_sex_observed_4.0',\n",
       "       'applicant_age_25-34', 'applicant_age_35-44',\n",
       "       'applicant_age_45-54', 'applicant_age_55-64',\n",
       "       'applicant_age_65-74', 'applicant_age_8888', 'applicant_age_<25',\n",
       "       'applicant_age_>74', 'co-applicant_age_25-34',\n",
       "       'co-applicant_age_35-44', 'co-applicant_age_45-54',\n",
       "       'co-applicant_age_55-64', 'co-applicant_age_65-74',\n",
       "       'co-applicant_age_8888', 'co-applicant_age_9999',\n",
       "       'co-applicant_age_<25', 'co-applicant_age_>74',\n",
       "       'submission_of_application_1.0',\n",
       "       'submission_of_application_1111.0',\n",
       "       'submission_of_application_2.0', 'submission_of_application_3.0',\n",
       "       'initially_payable_to_institution_1.0',\n",
       "       'initially_payable_to_institution_1111.0',\n",
       "       'initially_payable_to_institution_2.0',\n",
       "       'initially_payable_to_institution_3.0', 'aus-1_1.0',\n",
       "       'aus-1_1111.0', 'aus-1_2.0', 'aus-1_3.0', 'aus-1_4.0', 'aus-1_5.0',\n",
       "       'aus-1_6.0', 'denial_reason-1_2018.0', 'denial_reason-1_2019.0',\n",
       "       'denial_reason-1_2020.0', 'denial_reason-1_nan', 'covid_year_0.0',\n",
       "       'covid_year_1.0'], dtype=object)"
      ]
     },
     "execution_count": 150,
     "metadata": {},
     "output_type": "execute_result"
    }
   ],
   "source": [
    "feature_dummy = np.asarray(df_dummy.columns)\n",
    "feature_dummy"
   ]
  },
  {
   "cell_type": "code",
   "execution_count": 151,
   "id": "fa3edec6",
   "metadata": {},
   "outputs": [],
   "source": [
    "y = np.asarray(credit_without_outlier['action_taken'])"
   ]
  },
  {
   "cell_type": "code",
   "execution_count": 152,
   "id": "b8e98371",
   "metadata": {},
   "outputs": [],
   "source": [
    "X = np.concatenate((df_numerical, df_dummy_final),axis = 1) "
   ]
  },
  {
   "cell_type": "code",
   "execution_count": 153,
   "id": "8b81fb80",
   "metadata": {},
   "outputs": [
    {
     "data": {
      "text/plain": [
       "array([[ 0.1640663 ,  0.51184495,  0.02307466, ...,  0.        ,\n",
       "         1.        ,  0.        ],\n",
       "       [-0.5094778 ,  0.51184495,  0.02307466, ...,  0.        ,\n",
       "         1.        ,  0.        ],\n",
       "       [-0.17270575,  0.51184495,  0.16693801, ...,  0.        ,\n",
       "         1.        ,  0.        ],\n",
       "       ...,\n",
       "       [ 0.02935748,  0.51184495, -0.0297731 , ...,  0.        ,\n",
       "         0.        ,  1.        ],\n",
       "       [ 1.5785089 ,  0.51184495,  0.1463861 , ...,  0.        ,\n",
       "         0.        ,  1.        ],\n",
       "       [-0.20638295,  0.51184495, -0.10904474, ...,  0.        ,\n",
       "         0.        ,  1.        ]])"
      ]
     },
     "execution_count": 153,
     "metadata": {},
     "output_type": "execute_result"
    }
   ],
   "source": [
    "X "
   ]
  },
  {
   "cell_type": "code",
   "execution_count": 155,
   "id": "a7baad0f",
   "metadata": {},
   "outputs": [
    {
     "name": "stderr",
     "output_type": "stream",
     "text": [
      "/Users/amyliu/opt/anaconda3/lib/python3.8/site-packages/sklearn/linear_model/_sag.py:352: ConvergenceWarning: The max_iter was reached which means the coef_ did not converge\n",
      "  warnings.warn(\n"
     ]
    }
   ],
   "source": [
    "from sklearn.linear_model import LogisticRegression\n",
    "\n",
    "model = LogisticRegression(\n",
    "    penalty='l1',\n",
    "    solver='saga')\n",
    "logistic = model.fit(X, y)"
   ]
  },
  {
   "cell_type": "code",
   "execution_count": 156,
   "id": "612b70b9",
   "metadata": {},
   "outputs": [],
   "source": [
    "coef = logistic.coef_"
   ]
  },
  {
   "cell_type": "code",
   "execution_count": 157,
   "id": "c4e0ef23",
   "metadata": {},
   "outputs": [],
   "source": [
    "numerical_original = ['loan_amount',\n",
    " 'loan_term',\n",
    " 'property_value',\n",
    " 'income',\n",
    " 'tract_population',\n",
    " 'tract_minority_population_percent',\n",
    " 'ffiec_msa_md_median_family_income',\n",
    " 'tract_to_msa_income_percentage',\n",
    " 'tract_owner_occupied_units',\n",
    " 'tract_one_to_four_family_homes',\n",
    " 'tract_median_age_of_housing_units',\n",
    " 'median_housing_price',\n",
    " 'ratio']"
   ]
  },
  {
   "cell_type": "code",
   "execution_count": 158,
   "id": "63a9e582",
   "metadata": {},
   "outputs": [],
   "source": [
    "feature_numerical = np.asarray(numerical_original)\n"
   ]
  },
  {
   "cell_type": "code",
   "execution_count": 159,
   "id": "90d987fe",
   "metadata": {},
   "outputs": [
    {
     "data": {
      "text/plain": [
       "(250,)"
      ]
     },
     "execution_count": 159,
     "metadata": {},
     "output_type": "execute_result"
    }
   ],
   "source": [
    "feature_dummy.shape"
   ]
  },
  {
   "cell_type": "code",
   "execution_count": 160,
   "id": "81d4601c",
   "metadata": {},
   "outputs": [],
   "source": [
    "variables_array = np.append(feature_numerical,feature_dummy)"
   ]
  },
  {
   "cell_type": "code",
   "execution_count": 161,
   "id": "25fe0378",
   "metadata": {},
   "outputs": [
    {
     "data": {
      "text/plain": [
       "(263,)"
      ]
     },
     "execution_count": 161,
     "metadata": {},
     "output_type": "execute_result"
    }
   ],
   "source": [
    "variables_array.shape"
   ]
  },
  {
   "cell_type": "code",
   "execution_count": 162,
   "id": "836319f5",
   "metadata": {},
   "outputs": [],
   "source": [
    "coef_1 = np.transpose(np.abs(coef))"
   ]
  },
  {
   "cell_type": "code",
   "execution_count": 163,
   "id": "dc11c886",
   "metadata": {},
   "outputs": [],
   "source": [
    "coef1 = coef_1.reshape(-1)"
   ]
  },
  {
   "cell_type": "code",
   "execution_count": 164,
   "id": "4fd42cc0",
   "metadata": {},
   "outputs": [
    {
     "data": {
      "text/plain": [
       "(263,)"
      ]
     },
     "execution_count": 164,
     "metadata": {},
     "output_type": "execute_result"
    }
   ],
   "source": [
    "\n",
    "coef1.shape"
   ]
  },
  {
   "cell_type": "code",
   "execution_count": 165,
   "id": "7e291b9a",
   "metadata": {},
   "outputs": [],
   "source": [
    "total_feature = pd.DataFrame(coef1,variables_array)"
   ]
  },
  {
   "cell_type": "code",
   "execution_count": 166,
   "id": "e3a47a26",
   "metadata": {},
   "outputs": [
    {
     "data": {
      "text/plain": [
       "Index(['n'], dtype='object')"
      ]
     },
     "execution_count": 166,
     "metadata": {},
     "output_type": "execute_result"
    }
   ],
   "source": [
    "total_feature.columns = list('n')\n",
    "total_feature.columns"
   ]
  },
  {
   "cell_type": "code",
   "execution_count": 167,
   "id": "31c001cf",
   "metadata": {},
   "outputs": [],
   "source": [
    "choose = total_feature[total_feature['n']>0.1]"
   ]
  },
  {
   "cell_type": "code",
   "execution_count": 168,
   "id": "8d58eedc",
   "metadata": {},
   "outputs": [],
   "source": [
    "choose = choose.sort_values(by=\"n\",ascending=False)"
   ]
  },
  {
   "cell_type": "code",
   "execution_count": 169,
   "id": "b8b738c5",
   "metadata": {},
   "outputs": [
    {
     "data": {
      "text/html": [
       "<div>\n",
       "<style scoped>\n",
       "    .dataframe tbody tr th:only-of-type {\n",
       "        vertical-align: middle;\n",
       "    }\n",
       "\n",
       "    .dataframe tbody tr th {\n",
       "        vertical-align: top;\n",
       "    }\n",
       "\n",
       "    .dataframe thead th {\n",
       "        text-align: right;\n",
       "    }\n",
       "</style>\n",
       "<table border=\"1\" class=\"dataframe\">\n",
       "  <thead>\n",
       "    <tr style=\"text-align: right;\">\n",
       "      <th></th>\n",
       "      <th>n</th>\n",
       "    </tr>\n",
       "  </thead>\n",
       "  <tbody>\n",
       "    <tr>\n",
       "      <th>debt_to_income_ratio_&gt;60%</th>\n",
       "      <td>1.676478</td>\n",
       "    </tr>\n",
       "    <tr>\n",
       "      <th>submission_of_application_3.0</th>\n",
       "      <td>1.600411</td>\n",
       "    </tr>\n",
       "    <tr>\n",
       "      <th>purchaser_type_0.0</th>\n",
       "      <td>0.987897</td>\n",
       "    </tr>\n",
       "    <tr>\n",
       "      <th>hoepa_status_2.0</th>\n",
       "      <td>0.973447</td>\n",
       "    </tr>\n",
       "    <tr>\n",
       "      <th>hoepa_status_3.0</th>\n",
       "      <td>0.938760</td>\n",
       "    </tr>\n",
       "    <tr>\n",
       "      <th>...</th>\n",
       "      <td>...</td>\n",
       "    </tr>\n",
       "    <tr>\n",
       "      <th>debt_to_income_ratio_36</th>\n",
       "      <td>0.113424</td>\n",
       "    </tr>\n",
       "    <tr>\n",
       "      <th>co-applicant_age_45-54</th>\n",
       "      <td>0.112109</td>\n",
       "    </tr>\n",
       "    <tr>\n",
       "      <th>conforming_loan_limit_NC</th>\n",
       "      <td>0.111107</td>\n",
       "    </tr>\n",
       "    <tr>\n",
       "      <th>derived_ethnicity_Not Hispanic or Latino</th>\n",
       "      <td>0.108362</td>\n",
       "    </tr>\n",
       "    <tr>\n",
       "      <th>applicant_race-1_2.0</th>\n",
       "      <td>0.107356</td>\n",
       "    </tr>\n",
       "  </tbody>\n",
       "</table>\n",
       "<p>62 rows × 1 columns</p>\n",
       "</div>"
      ],
      "text/plain": [
       "                                                 n\n",
       "debt_to_income_ratio_>60%                 1.676478\n",
       "submission_of_application_3.0             1.600411\n",
       "purchaser_type_0.0                        0.987897\n",
       "hoepa_status_2.0                          0.973447\n",
       "hoepa_status_3.0                          0.938760\n",
       "...                                            ...\n",
       "debt_to_income_ratio_36                   0.113424\n",
       "co-applicant_age_45-54                    0.112109\n",
       "conforming_loan_limit_NC                  0.111107\n",
       "derived_ethnicity_Not Hispanic or Latino  0.108362\n",
       "applicant_race-1_2.0                      0.107356\n",
       "\n",
       "[62 rows x 1 columns]"
      ]
     },
     "execution_count": 169,
     "metadata": {},
     "output_type": "execute_result"
    }
   ],
   "source": [
    "choose"
   ]
  },
  {
   "cell_type": "code",
   "execution_count": 170,
   "id": "9b42baac",
   "metadata": {},
   "outputs": [],
   "source": [
    "choose1 = np.asarray(choose)"
   ]
  },
  {
   "cell_type": "code",
   "execution_count": 171,
   "id": "fa1c35d7",
   "metadata": {},
   "outputs": [],
   "source": [
    "choose2 = choose.reset_index()"
   ]
  },
  {
   "cell_type": "code",
   "execution_count": 172,
   "id": "67ea2475",
   "metadata": {},
   "outputs": [],
   "source": [
    "features_choose = choose2['index']"
   ]
  },
  {
   "cell_type": "code",
   "execution_count": 173,
   "id": "c50c863a",
   "metadata": {},
   "outputs": [
    {
     "data": {
      "text/plain": [
       "['debt_to_income_ratio_>60%',\n",
       " 'submission_of_application_3.0',\n",
       " 'purchaser_type_0.0',\n",
       " 'hoepa_status_2.0',\n",
       " 'hoepa_status_3.0',\n",
       " 'submission_of_application_1.0',\n",
       " 'debt_to_income_ratio_50%-60%',\n",
       " 'debt_to_income_ratio_-1',\n",
       " 'aus-1_5.0',\n",
       " 'submission_of_application_2.0',\n",
       " 'aus-1_2.0',\n",
       " 'co-applicant_credit_score_type_10.0',\n",
       " 'purchaser_type_3.0',\n",
       " 'loan_purpose_1.0',\n",
       " 'co-applicant_age_8888',\n",
       " 'initially_payable_to_institution_3.0',\n",
       " 'purchaser_type_1.0',\n",
       " 'debt_to_income_ratio_20%-<30%',\n",
       " 'aus-1_1.0',\n",
       " 'business_or_commercial_purpose_2.0',\n",
       " 'debt_to_income_ratio_30%-<36%',\n",
       " 'loan_purpose_2.0',\n",
       " 'loan_purpose_4.0',\n",
       " 'initially_payable_to_institution_1.0',\n",
       " 'business_or_commercial_purpose_1.0',\n",
       " 'preapproval_1.0',\n",
       " 'co-applicant_race-1_7.0',\n",
       " 'co-applicant_ethnicity-1_4.0',\n",
       " 'co-applicant_sex_4.0',\n",
       " 'open-end_line_of_credit_2.0',\n",
       " 'applicant_credit_score_type_8.0',\n",
       " 'preapproval_2.0',\n",
       " 'other_nonamortizing_features_2.0',\n",
       " 'open-end_line_of_credit_1.0',\n",
       " 'balloon_payment_2.0',\n",
       " 'loan_purpose_5.0',\n",
       " 'applicant_age_8888',\n",
       " 'other_nonamortizing_features_1.0',\n",
       " 'applicant_credit_score_type_6.0',\n",
       " 'income',\n",
       " 'loan_purpose_32.0',\n",
       " 'balloon_payment_1.0',\n",
       " 'initially_payable_to_institution_2.0',\n",
       " 'debt_to_income_ratio_42',\n",
       " 'co-applicant_credit_score_type_2.0',\n",
       " 'co-applicant_credit_score_type_3.0',\n",
       " 'debt_to_income_ratio_41',\n",
       " 'aus-1_3.0',\n",
       " 'conforming_loan_limit_C',\n",
       " 'debt_to_income_ratio_39',\n",
       " 'debt_to_income_ratio_38',\n",
       " 'loan_purpose_31.0',\n",
       " 'co-applicant_sex_1.0',\n",
       " 'debt_to_income_ratio_37',\n",
       " 'co-applicant_credit_score_type_1.0',\n",
       " 'debt_to_income_ratio_40',\n",
       " 'derived_race_White',\n",
       " 'debt_to_income_ratio_36',\n",
       " 'co-applicant_age_45-54',\n",
       " 'conforming_loan_limit_NC',\n",
       " 'derived_ethnicity_Not Hispanic or Latino',\n",
       " 'applicant_race-1_2.0']"
      ]
     },
     "execution_count": 173,
     "metadata": {},
     "output_type": "execute_result"
    }
   ],
   "source": [
    "features_choose = np.asarray(features_choose)\n",
    "features_choose = list(features_choose)\n",
    "features_choose"
   ]
  },
  {
   "cell_type": "code",
   "execution_count": 174,
   "id": "d07ea093",
   "metadata": {},
   "outputs": [
    {
     "data": {
      "text/plain": [
       "(435446, 250)"
      ]
     },
     "execution_count": 174,
     "metadata": {},
     "output_type": "execute_result"
    }
   ],
   "source": [
    "df_dummy.shape"
   ]
  },
  {
   "cell_type": "code",
   "execution_count": 175,
   "id": "74a3042d",
   "metadata": {},
   "outputs": [],
   "source": [
    "df_numerical = credit_without_outlier[['loan_amount',\n",
    " 'loan_term',\n",
    " 'property_value',\n",
    " 'income',\n",
    " 'tract_population',\n",
    " 'tract_minority_population_percent',\n",
    " 'ffiec_msa_md_median_family_income',\n",
    " 'tract_to_msa_income_percentage',\n",
    " 'tract_owner_occupied_units',\n",
    " 'tract_one_to_four_family_homes',\n",
    " 'tract_median_age_of_housing_units',\n",
    " 'median_housing_price',\n",
    " 'ratio']]"
   ]
  },
  {
   "cell_type": "code",
   "execution_count": 176,
   "id": "50bd76b3",
   "metadata": {},
   "outputs": [],
   "source": [
    "df_total = pd.concat([df_numerical,df_dummy],axis=1)"
   ]
  },
  {
   "cell_type": "code",
   "execution_count": 177,
   "id": "6bb3c881",
   "metadata": {},
   "outputs": [
    {
     "data": {
      "text/plain": [
       "(435446, 263)"
      ]
     },
     "execution_count": 177,
     "metadata": {},
     "output_type": "execute_result"
    }
   ],
   "source": [
    "df_total.shape"
   ]
  },
  {
   "cell_type": "code",
   "execution_count": 178,
   "id": "0dd77601",
   "metadata": {},
   "outputs": [],
   "source": [
    "dummy_final_df = df_total[features_choose]"
   ]
  },
  {
   "cell_type": "code",
   "execution_count": 179,
   "id": "c7f97c1b",
   "metadata": {},
   "outputs": [],
   "source": [
    "X1 = np.asarray(dummy_final_df)#Lasso_selection"
   ]
  },
  {
   "cell_type": "markdown",
   "id": "1841972e",
   "metadata": {},
   "source": [
    "## random forest methods"
   ]
  },
  {
   "cell_type": "code",
   "execution_count": 180,
   "id": "7d744377",
   "metadata": {},
   "outputs": [
    {
     "data": {
      "text/plain": [
       "RandomForestClassifier(n_jobs=-1, random_state=0)"
      ]
     },
     "execution_count": 180,
     "metadata": {},
     "output_type": "execute_result"
    }
   ],
   "source": [
    "from sklearn.ensemble import RandomForestClassifier\n",
    "from sklearn.model_selection import train_test_split\n",
    "y1 = np.asarray(credit_without_outlier['action_taken'])\n",
    "X1 = np.asarray(dummy_final_df)\n",
    "X1_train, X1_test, y1_train, y1_test = train_test_split(X1, y1, test_size=0.3)\n",
    "rfc2 = RandomForestClassifier(random_state=0, n_estimators=100, n_jobs=-1)\n",
    "rfc2.fit(X1_train, y1_train)"
   ]
  },
  {
   "cell_type": "code",
   "execution_count": 181,
   "id": "87c3f89c",
   "metadata": {},
   "outputs": [
    {
     "data": {
      "text/plain": [
       "array([1., 1., 0., ..., 0., 1., 0.])"
      ]
     },
     "execution_count": 181,
     "metadata": {},
     "output_type": "execute_result"
    }
   ],
   "source": [
    "y1_pred1 = rfc2.predict(X1_test)\n",
    "y1_pred1"
   ]
  },
  {
   "cell_type": "code",
   "execution_count": 182,
   "id": "c5214314",
   "metadata": {},
   "outputs": [],
   "source": [
    "from sklearn.metrics import accuracy_score, confusion_matrix, precision_score, recall_score, roc_auc_score, roc_curve, f1_score"
   ]
  },
  {
   "cell_type": "code",
   "execution_count": 183,
   "id": "4bb8a2b4",
   "metadata": {},
   "outputs": [
    {
     "name": "stdout",
     "output_type": "stream",
     "text": [
      "The accuracy of the model is 89.4 %\n"
     ]
    }
   ],
   "source": [
    "accuracy_score(y1_test, y1_pred1)\n",
    "print(f\"The accuracy of the model is {round(accuracy_score(y1_test,y1_pred1),3)*100} %\")"
   ]
  },
  {
   "cell_type": "code",
   "execution_count": 184,
   "id": "cf7b8b1d",
   "metadata": {},
   "outputs": [],
   "source": [
    "# Necessary imports: \n",
    "from sklearn.model_selection import cross_val_score, cross_val_predict\n",
    "from sklearn import metrics"
   ]
  },
  {
   "cell_type": "code",
   "execution_count": 185,
   "id": "6fcb55b4",
   "metadata": {},
   "outputs": [
    {
     "name": "stderr",
     "output_type": "stream",
     "text": [
      "/Users/amyliu/opt/anaconda3/lib/python3.8/site-packages/joblib/externals/loky/process_executor.py:688: UserWarning: A worker stopped while some jobs were given to the executor. This can be caused by a too short worker timeout or by a memory leak.\n",
      "  warnings.warn(\n",
      "/Users/amyliu/opt/anaconda3/lib/python3.8/site-packages/joblib/externals/loky/process_executor.py:688: UserWarning: A worker stopped while some jobs were given to the executor. This can be caused by a too short worker timeout or by a memory leak.\n",
      "  warnings.warn(\n",
      "/Users/amyliu/opt/anaconda3/lib/python3.8/site-packages/joblib/externals/loky/process_executor.py:688: UserWarning: A worker stopped while some jobs were given to the executor. This can be caused by a too short worker timeout or by a memory leak.\n",
      "  warnings.warn(\n",
      "/Users/amyliu/opt/anaconda3/lib/python3.8/site-packages/joblib/externals/loky/process_executor.py:688: UserWarning: A worker stopped while some jobs were given to the executor. This can be caused by a too short worker timeout or by a memory leak.\n",
      "  warnings.warn(\n",
      "/Users/amyliu/opt/anaconda3/lib/python3.8/site-packages/joblib/externals/loky/process_executor.py:688: UserWarning: A worker stopped while some jobs were given to the executor. This can be caused by a too short worker timeout or by a memory leak.\n",
      "  warnings.warn(\n",
      "/Users/amyliu/opt/anaconda3/lib/python3.8/site-packages/joblib/externals/loky/process_executor.py:688: UserWarning: A worker stopped while some jobs were given to the executor. This can be caused by a too short worker timeout or by a memory leak.\n",
      "  warnings.warn(\n"
     ]
    },
    {
     "name": "stdout",
     "output_type": "stream",
     "text": [
      "Cross-validated scores: [0.88819842 0.90575267 0.89485215 0.85217847 0.88362223 0.88969879]\n"
     ]
    }
   ],
   "source": [
    "scores2 = cross_val_score(rfc2, X1, y1, cv=6)\n",
    "print (\"Cross-validated scores:\", scores2)"
   ]
  },
  {
   "cell_type": "code",
   "execution_count": 187,
   "id": "ba4395d6",
   "metadata": {},
   "outputs": [
    {
     "name": "stdout",
     "output_type": "stream",
     "text": [
      "Fitting 3 folds for each of 120 candidates, totalling 360 fits\n"
     ]
    },
    {
     "name": "stderr",
     "output_type": "stream",
     "text": [
      "/Users/amyliu/opt/anaconda3/lib/python3.8/site-packages/joblib/externals/loky/process_executor.py:688: UserWarning: A worker stopped while some jobs were given to the executor. This can be caused by a too short worker timeout or by a memory leak.\n",
      "  warnings.warn(\n"
     ]
    },
    {
     "data": {
      "text/plain": [
       "{'max_depth': 19, 'n_estimators': 450}"
      ]
     },
     "execution_count": 187,
     "metadata": {},
     "output_type": "execute_result"
    }
   ],
   "source": [
    "max_depth = [int(x) for x in np.linspace(10, 100, num = 11)]\n",
    "max_depth.append(None)\n",
    "n_estimators = [int(x) for x in np.linspace(start = 50, stop = 500, num = 10)]\n",
    "param_grid = {\n",
    "    'max_depth': max_depth,\n",
    "    'n_estimators': n_estimators\n",
    "}\n",
    "\n",
    "rfc2 = RandomForestClassifier()\n",
    "# Instantiate the grid search model\n",
    "grid_search2 = GridSearchCV(estimator = rfc1, param_grid = param_grid, \n",
    "                          cv = 3, n_jobs = -1, verbose = 2)\n",
    "grid_search2.fit(X1_train,y1_train)\n",
    "grid_search2.best_params_"
   ]
  },
  {
   "cell_type": "code",
   "execution_count": 190,
   "id": "06f76b74",
   "metadata": {},
   "outputs": [],
   "source": [
    "best_grid_rfc2 = grid_search2.best_estimator_\n",
    "grid_accuracy2 = best_grid_rfc2.score(X1_test, y1_test)"
   ]
  },
  {
   "cell_type": "code",
   "execution_count": null,
   "id": "0a828258",
   "metadata": {},
   "outputs": [],
   "source": [
    "# print('Improvement of {:0.2f}%.'.format( 100 * (grid_accuracy2 - base_accuracy) / base_accuracy))"
   ]
  },
  {
   "cell_type": "code",
   "execution_count": 191,
   "id": "307cecd7",
   "metadata": {},
   "outputs": [
    {
     "data": {
      "text/plain": [
       "0.9143944149302632"
      ]
     },
     "execution_count": 191,
     "metadata": {},
     "output_type": "execute_result"
    }
   ],
   "source": [
    "grid_accuracy2"
   ]
  },
  {
   "cell_type": "code",
   "execution_count": 192,
   "id": "543a3104",
   "metadata": {},
   "outputs": [
    {
     "data": {
      "text/plain": [
       "array([0.01792469, 0.17516212, 0.04813907, 0.07079546, 0.09726428,\n",
       "       0.08731832, 0.00658435, 0.12974734, 0.00384959, 0.00590498,\n",
       "       0.00538443, 0.02036979, 0.00698217, 0.0055868 , 0.02372081,\n",
       "       0.05986585, 0.00563194, 0.00180222, 0.00893428, 0.00088149,\n",
       "       0.0014833 , 0.00255502, 0.00190097, 0.04578996, 0.00090676,\n",
       "       0.00236915, 0.01852195, 0.01076199, 0.0145985 , 0.0139316 ,\n",
       "       0.00424127, 0.00232654, 0.00043115, 0.01279966, 0.00034639,\n",
       "       0.00319489, 0.03548951, 0.00045121, 0.00090802, 0.02023981,\n",
       "       0.00157187, 0.00038369, 0.00205584, 0.000592  , 0.00116837,\n",
       "       0.0010202 , 0.00052185, 0.00157481, 0.00071079, 0.00051272,\n",
       "       0.00050988, 0.00169392, 0.00137195, 0.000461  , 0.00103221,\n",
       "       0.00044147, 0.00264203, 0.00038858, 0.0013164 , 0.00071445,\n",
       "       0.00305622, 0.00116215])"
      ]
     },
     "execution_count": 192,
     "metadata": {},
     "output_type": "execute_result"
    }
   ],
   "source": [
    "best_grid_rfc2.feature_importances_"
   ]
  },
  {
   "cell_type": "code",
   "execution_count": 274,
   "id": "215b6241",
   "metadata": {},
   "outputs": [
    {
     "ename": "AttributeError",
     "evalue": "'numpy.ndarray' object has no attribute 'columns'",
     "output_type": "error",
     "traceback": [
      "\u001b[0;31m---------------------------------------------------------------------------\u001b[0m",
      "\u001b[0;31mAttributeError\u001b[0m                            Traceback (most recent call last)",
      "\u001b[0;32m<ipython-input-274-57b6446ee557>\u001b[0m in \u001b[0;36m<module>\u001b[0;34m\u001b[0m\n\u001b[0;32m----> 1\u001b[0;31m \u001b[0mfeat_importances\u001b[0m \u001b[0;34m=\u001b[0m \u001b[0mpd\u001b[0m\u001b[0;34m.\u001b[0m\u001b[0mSeries\u001b[0m\u001b[0;34m(\u001b[0m\u001b[0mbest_grid_rfc2\u001b[0m\u001b[0;34m.\u001b[0m\u001b[0mfeature_importances_\u001b[0m\u001b[0;34m,\u001b[0m \u001b[0mindex\u001b[0m\u001b[0;34m=\u001b[0m\u001b[0mX_train\u001b[0m\u001b[0;34m.\u001b[0m\u001b[0mcolumns\u001b[0m\u001b[0;34m)\u001b[0m\u001b[0;34m\u001b[0m\u001b[0;34m\u001b[0m\u001b[0m\n\u001b[0m\u001b[1;32m      2\u001b[0m \u001b[0mfeat_importances\u001b[0m\u001b[0;34m.\u001b[0m\u001b[0mnlargest\u001b[0m\u001b[0;34m(\u001b[0m\u001b[0;36m15\u001b[0m\u001b[0;34m)\u001b[0m\u001b[0;34m.\u001b[0m\u001b[0mplot\u001b[0m\u001b[0;34m(\u001b[0m\u001b[0mkind\u001b[0m\u001b[0;34m=\u001b[0m\u001b[0;34m'barh'\u001b[0m\u001b[0;34m)\u001b[0m\u001b[0;34m\u001b[0m\u001b[0;34m\u001b[0m\u001b[0m\n\u001b[1;32m      3\u001b[0m \u001b[0mplt\u001b[0m\u001b[0;34m.\u001b[0m\u001b[0mtitle\u001b[0m\u001b[0;34m(\u001b[0m\u001b[0;34m\"Top 15 important features\"\u001b[0m\u001b[0;34m)\u001b[0m\u001b[0;34m\u001b[0m\u001b[0;34m\u001b[0m\u001b[0m\n\u001b[1;32m      4\u001b[0m \u001b[0mplt\u001b[0m\u001b[0;34m.\u001b[0m\u001b[0mshow\u001b[0m\u001b[0;34m(\u001b[0m\u001b[0;34m)\u001b[0m\u001b[0;34m\u001b[0m\u001b[0;34m\u001b[0m\u001b[0m\n",
      "\u001b[0;31mAttributeError\u001b[0m: 'numpy.ndarray' object has no attribute 'columns'"
     ]
    }
   ],
   "source": [
    "feat_importances = pd.Series(best_grid_rfc2.feature_importances_, index=X_train.columns)\n",
    "feat_importances.nlargest(15).plot(kind='barh')\n",
    "plt.title(\"Top 15 important features\")\n",
    "plt.show()\n"
   ]
  },
  {
   "cell_type": "code",
   "execution_count": 268,
   "id": "1e7bbb78",
   "metadata": {},
   "outputs": [
    {
     "ename": "AttributeError",
     "evalue": "'RandomForestClassifier' object has no attribute 'feature_names_in_'",
     "output_type": "error",
     "traceback": [
      "\u001b[0;31m---------------------------------------------------------------------------\u001b[0m",
      "\u001b[0;31mAttributeError\u001b[0m                            Traceback (most recent call last)",
      "\u001b[0;32m<ipython-input-268-ad4bab52b66c>\u001b[0m in \u001b[0;36m<module>\u001b[0;34m\u001b[0m\n\u001b[0;32m----> 1\u001b[0;31m \u001b[0mbest_grid_rfc2\u001b[0m\u001b[0;34m.\u001b[0m\u001b[0mfeature_names_in_\u001b[0m\u001b[0;34m\u001b[0m\u001b[0;34m\u001b[0m\u001b[0m\n\u001b[0m",
      "\u001b[0;31mAttributeError\u001b[0m: 'RandomForestClassifier' object has no attribute 'feature_names_in_'"
     ]
    }
   ],
   "source": [
    "best_grid_rfc2.feature_names_in_"
   ]
  },
  {
   "cell_type": "code",
   "execution_count": null,
   "id": "f31d8185",
   "metadata": {},
   "outputs": [],
   "source": []
  },
  {
   "cell_type": "code",
   "execution_count": null,
   "id": "5f289ce9",
   "metadata": {},
   "outputs": [],
   "source": []
  },
  {
   "cell_type": "code",
   "execution_count": null,
   "id": "b48325ec",
   "metadata": {},
   "outputs": [],
   "source": []
  },
  {
   "cell_type": "code",
   "execution_count": null,
   "id": "c0bd64e5",
   "metadata": {},
   "outputs": [],
   "source": []
  },
  {
   "cell_type": "code",
   "execution_count": null,
   "id": "31e5cc25",
   "metadata": {},
   "outputs": [],
   "source": []
  },
  {
   "cell_type": "code",
   "execution_count": null,
   "id": "524b0a42",
   "metadata": {},
   "outputs": [],
   "source": []
  },
  {
   "cell_type": "code",
   "execution_count": null,
   "id": "4099a885",
   "metadata": {},
   "outputs": [],
   "source": []
  },
  {
   "cell_type": "markdown",
   "id": "22f5717b",
   "metadata": {},
   "source": [
    "## random forest methods"
   ]
  },
  {
   "cell_type": "code",
   "execution_count": 44,
   "id": "b3192c6a",
   "metadata": {},
   "outputs": [
    {
     "data": {
      "text/plain": [
       "(435446,)"
      ]
     },
     "execution_count": 44,
     "metadata": {},
     "output_type": "execute_result"
    }
   ],
   "source": [
    "from sklearn.ensemble import RandomForestClassifier\n",
    "from sklearn.model_selection import train_test_split\n",
    "y = np.asarray(credit_without_outlier['action_taken'])\n",
    "X = x_pca\n",
    "y.shape"
   ]
  },
  {
   "cell_type": "code",
   "execution_count": 45,
   "id": "61afda4e",
   "metadata": {},
   "outputs": [
    {
     "data": {
      "text/plain": [
       "(435446, 10)"
      ]
     },
     "execution_count": 45,
     "metadata": {},
     "output_type": "execute_result"
    }
   ],
   "source": [
    "X.shape"
   ]
  },
  {
   "cell_type": "code",
   "execution_count": 46,
   "id": "dcb6bbc1",
   "metadata": {},
   "outputs": [
    {
     "data": {
      "text/plain": [
       "RandomForestClassifier(n_jobs=-1, random_state=0)"
      ]
     },
     "execution_count": 46,
     "metadata": {},
     "output_type": "execute_result"
    }
   ],
   "source": [
    "X_train, X_test, y_train, y_test = train_test_split(X, y, test_size=0.3)\n",
    "rfc3 = RandomForestClassifier(random_state=0, n_estimators=100, n_jobs=-1)\n",
    "rfc3.fit(X_train, y_train)"
   ]
  },
  {
   "cell_type": "code",
   "execution_count": 47,
   "id": "1ee7508c",
   "metadata": {},
   "outputs": [
    {
     "data": {
      "text/plain": [
       "array([0., 0., 0., ..., 0., 0., 0.])"
      ]
     },
     "execution_count": 47,
     "metadata": {},
     "output_type": "execute_result"
    }
   ],
   "source": [
    "y_pred3 = rfc3.predict(X_test)\n",
    "y_pred3"
   ]
  },
  {
   "cell_type": "code",
   "execution_count": 48,
   "id": "cb124b36",
   "metadata": {},
   "outputs": [],
   "source": [
    "from sklearn.metrics import accuracy_score, confusion_matrix, precision_score, recall_score, roc_auc_score, roc_curve, f1_score"
   ]
  },
  {
   "cell_type": "code",
   "execution_count": 49,
   "id": "bd1cc79c",
   "metadata": {
    "scrolled": true
   },
   "outputs": [
    {
     "name": "stdout",
     "output_type": "stream",
     "text": [
      "The accuracy of the model is 88.2 %\n"
     ]
    }
   ],
   "source": [
    "accuracy_score(y_test, y_pred3)\n",
    "print(f\"The accuracy of the model is {round(accuracy_score(y_test,y_pred3),3)*100} %\")"
   ]
  },
  {
   "cell_type": "markdown",
   "id": "ec452afa",
   "metadata": {},
   "source": [
    "## logistic regression methods"
   ]
  },
  {
   "cell_type": "code",
   "execution_count": 50,
   "id": "996b1f17",
   "metadata": {},
   "outputs": [],
   "source": [
    "# Necessary imports: \n",
    "from sklearn.model_selection import cross_val_score, cross_val_predict\n",
    "from sklearn import metrics"
   ]
  },
  {
   "cell_type": "code",
   "execution_count": 51,
   "id": "15007ed2",
   "metadata": {},
   "outputs": [
    {
     "name": "stderr",
     "output_type": "stream",
     "text": [
      "/Users/amyliu/opt/anaconda3/lib/python3.8/site-packages/joblib/externals/loky/process_executor.py:688: UserWarning: A worker stopped while some jobs were given to the executor. This can be caused by a too short worker timeout or by a memory leak.\n",
      "  warnings.warn(\n",
      "/Users/amyliu/opt/anaconda3/lib/python3.8/site-packages/joblib/externals/loky/process_executor.py:688: UserWarning: A worker stopped while some jobs were given to the executor. This can be caused by a too short worker timeout or by a memory leak.\n",
      "  warnings.warn(\n",
      "/Users/amyliu/opt/anaconda3/lib/python3.8/site-packages/joblib/externals/loky/process_executor.py:688: UserWarning: A worker stopped while some jobs were given to the executor. This can be caused by a too short worker timeout or by a memory leak.\n",
      "  warnings.warn(\n",
      "/Users/amyliu/opt/anaconda3/lib/python3.8/site-packages/joblib/externals/loky/process_executor.py:688: UserWarning: A worker stopped while some jobs were given to the executor. This can be caused by a too short worker timeout or by a memory leak.\n",
      "  warnings.warn(\n",
      "/Users/amyliu/opt/anaconda3/lib/python3.8/site-packages/joblib/externals/loky/process_executor.py:688: UserWarning: A worker stopped while some jobs were given to the executor. This can be caused by a too short worker timeout or by a memory leak.\n",
      "  warnings.warn(\n"
     ]
    },
    {
     "name": "stdout",
     "output_type": "stream",
     "text": [
      "Cross-validated scores: [0.87359283 0.8982432  0.87702207 0.83878524 0.87718742 0.8846281 ]\n"
     ]
    }
   ],
   "source": [
    "scores = cross_val_score(rfc3, X, y, cv=6)\n",
    "print (\"Cross-validated scores:\", scores)"
   ]
  },
  {
   "cell_type": "markdown",
   "id": "109731d1",
   "metadata": {},
   "source": [
    "## 2. logistic regression with L1 regularization feature selection"
   ]
  },
  {
   "cell_type": "code",
   "execution_count": null,
   "id": "d9a215a0",
   "metadata": {},
   "outputs": [],
   "source": []
  },
  {
   "cell_type": "code",
   "execution_count": 52,
   "id": "a2acefe9",
   "metadata": {},
   "outputs": [],
   "source": [
    "df_numerical = credit_without_outlier[['loan_amount',\n",
    " 'loan_term',\n",
    " 'property_value',\n",
    " 'income',\n",
    " 'tract_population',\n",
    " 'tract_minority_population_percent',\n",
    " 'ffiec_msa_md_median_family_income',\n",
    " 'tract_to_msa_income_percentage',\n",
    " 'tract_owner_occupied_units',\n",
    " 'tract_one_to_four_family_homes',\n",
    " 'tract_median_age_of_housing_units',\n",
    " 'median_housing_price',\n",
    " 'ratio']]\n",
    "df_dummy = pd.get_dummies(df_cate)\n",
    "df_dummy_final = np.asarray(df_dummy)"
   ]
  },
  {
   "cell_type": "code",
   "execution_count": 53,
   "id": "f11d89dd",
   "metadata": {},
   "outputs": [
    {
     "data": {
      "text/plain": [
       "array(['activity_year_2018.0', 'activity_year_2019.0',\n",
       "       'activity_year_2020.0', 'conforming_loan_limit_C',\n",
       "       'conforming_loan_limit_NC',\n",
       "       'derived_loan_product_type_Conventional:First Lien',\n",
       "       'derived_loan_product_type_Conventional:Subordinate Lien',\n",
       "       'derived_loan_product_type_FHA:First Lien',\n",
       "       'derived_loan_product_type_FHA:Subordinate Lien',\n",
       "       'derived_loan_product_type_FSA/RHS:First Lien',\n",
       "       'derived_loan_product_type_VA:First Lien',\n",
       "       'derived_dwelling_category_Single Family (1-4 Units):Manufactured',\n",
       "       'derived_dwelling_category_Single Family (1-4 Units):Site-Built',\n",
       "       'derived_ethnicity_Ethnicity Not Available',\n",
       "       'derived_ethnicity_Hispanic or Latino', 'derived_ethnicity_Joint',\n",
       "       'derived_ethnicity_Not Hispanic or Latino',\n",
       "       'derived_race_2 or more minority races',\n",
       "       'derived_race_American Indian or Alaska Native',\n",
       "       'derived_race_Asian', 'derived_race_Black or African American',\n",
       "       'derived_race_Joint',\n",
       "       'derived_race_Native Hawaiian or Other Pacific Islander',\n",
       "       'derived_race_Race Not Available', 'derived_race_White',\n",
       "       'derived_sex_Female', 'derived_sex_Joint', 'derived_sex_Male',\n",
       "       'derived_sex_Sex Not Available', 'purchaser_type_0.0',\n",
       "       'purchaser_type_1.0', 'purchaser_type_2.0', 'purchaser_type_3.0',\n",
       "       'purchaser_type_5.0', 'purchaser_type_6.0', 'purchaser_type_71.0',\n",
       "       'purchaser_type_72.0', 'purchaser_type_8.0', 'purchaser_type_9.0',\n",
       "       'preapproval_1.0', 'preapproval_2.0', 'loan_type_1.0',\n",
       "       'loan_type_2.0', 'loan_type_3.0', 'loan_type_4.0',\n",
       "       'loan_purpose_1.0', 'loan_purpose_2.0', 'loan_purpose_31.0',\n",
       "       'loan_purpose_32.0', 'loan_purpose_4.0', 'loan_purpose_5.0',\n",
       "       'lien_status_1.0', 'lien_status_2.0', 'reverse_mortgage_2.0',\n",
       "       'open-end_line_of_credit_1.0', 'open-end_line_of_credit_2.0',\n",
       "       'business_or_commercial_purpose_1.0',\n",
       "       'business_or_commercial_purpose_2.0', 'hoepa_status_1.0',\n",
       "       'hoepa_status_2.0', 'hoepa_status_3.0',\n",
       "       'negative_amortization_1.0', 'negative_amortization_2.0',\n",
       "       'interest_only_payment_1.0', 'interest_only_payment_2.0',\n",
       "       'balloon_payment_1.0', 'balloon_payment_2.0',\n",
       "       'other_nonamortizing_features_1.0',\n",
       "       'other_nonamortizing_features_2.0', 'construction_method_1.0',\n",
       "       'construction_method_2.0', 'occupancy_type_1.0',\n",
       "       'occupancy_type_2.0', 'occupancy_type_3.0',\n",
       "       'manufactured_home_secured_property_type_1.0',\n",
       "       'manufactured_home_secured_property_type_2.0',\n",
       "       'manufactured_home_secured_property_type_3.0',\n",
       "       'manufactured_home_land_property_interest_1.0',\n",
       "       'manufactured_home_land_property_interest_2.0',\n",
       "       'manufactured_home_land_property_interest_3.0',\n",
       "       'manufactured_home_land_property_interest_4.0',\n",
       "       'manufactured_home_land_property_interest_5.0', 'total_units_1.0',\n",
       "       'total_units_2.0', 'total_units_3.0', 'total_units_4.0',\n",
       "       'debt_to_income_ratio_-1', 'debt_to_income_ratio_20%-<30%',\n",
       "       'debt_to_income_ratio_30%-<36%', 'debt_to_income_ratio_36',\n",
       "       'debt_to_income_ratio_37', 'debt_to_income_ratio_38',\n",
       "       'debt_to_income_ratio_39', 'debt_to_income_ratio_40',\n",
       "       'debt_to_income_ratio_41', 'debt_to_income_ratio_42',\n",
       "       'debt_to_income_ratio_43', 'debt_to_income_ratio_44',\n",
       "       'debt_to_income_ratio_45', 'debt_to_income_ratio_46',\n",
       "       'debt_to_income_ratio_47', 'debt_to_income_ratio_48',\n",
       "       'debt_to_income_ratio_49', 'debt_to_income_ratio_50%-60%',\n",
       "       'debt_to_income_ratio_<20%', 'debt_to_income_ratio_>60%',\n",
       "       'applicant_credit_score_type_1.0',\n",
       "       'applicant_credit_score_type_2.0',\n",
       "       'applicant_credit_score_type_3.0',\n",
       "       'applicant_credit_score_type_4.0',\n",
       "       'applicant_credit_score_type_5.0',\n",
       "       'applicant_credit_score_type_6.0',\n",
       "       'applicant_credit_score_type_7.0',\n",
       "       'applicant_credit_score_type_8.0',\n",
       "       'applicant_credit_score_type_9.0',\n",
       "       'co-applicant_credit_score_type_1.0',\n",
       "       'co-applicant_credit_score_type_10.0',\n",
       "       'co-applicant_credit_score_type_2.0',\n",
       "       'co-applicant_credit_score_type_3.0',\n",
       "       'co-applicant_credit_score_type_4.0',\n",
       "       'co-applicant_credit_score_type_5.0',\n",
       "       'co-applicant_credit_score_type_6.0',\n",
       "       'co-applicant_credit_score_type_7.0',\n",
       "       'co-applicant_credit_score_type_8.0',\n",
       "       'co-applicant_credit_score_type_9.0', 'applicant_ethnicity-1_1.0',\n",
       "       'applicant_ethnicity-1_11.0', 'applicant_ethnicity-1_12.0',\n",
       "       'applicant_ethnicity-1_13.0', 'applicant_ethnicity-1_14.0',\n",
       "       'applicant_ethnicity-1_2.0', 'applicant_ethnicity-1_3.0',\n",
       "       'applicant_ethnicity-1_4.0', 'applicant_ethnicity-1_5.0',\n",
       "       'co-applicant_ethnicity-1_1.0', 'co-applicant_ethnicity-1_11.0',\n",
       "       'co-applicant_ethnicity-1_12.0', 'co-applicant_ethnicity-1_13.0',\n",
       "       'co-applicant_ethnicity-1_14.0', 'co-applicant_ethnicity-1_2.0',\n",
       "       'co-applicant_ethnicity-1_3.0', 'co-applicant_ethnicity-1_4.0',\n",
       "       'co-applicant_ethnicity-1_5.0', 'applicant_ethnicity_observed_1.0',\n",
       "       'applicant_ethnicity_observed_2.0',\n",
       "       'applicant_ethnicity_observed_3.0',\n",
       "       'co-applicant_ethnicity_observed_1.0',\n",
       "       'co-applicant_ethnicity_observed_2.0',\n",
       "       'co-applicant_ethnicity_observed_3.0',\n",
       "       'co-applicant_ethnicity_observed_4.0', 'applicant_race-1_1.0',\n",
       "       'applicant_race-1_2.0', 'applicant_race-1_21.0',\n",
       "       'applicant_race-1_22.0', 'applicant_race-1_23.0',\n",
       "       'applicant_race-1_24.0', 'applicant_race-1_25.0',\n",
       "       'applicant_race-1_26.0', 'applicant_race-1_27.0',\n",
       "       'applicant_race-1_3.0', 'applicant_race-1_4.0',\n",
       "       'applicant_race-1_41.0', 'applicant_race-1_42.0',\n",
       "       'applicant_race-1_43.0', 'applicant_race-1_44.0',\n",
       "       'applicant_race-1_5.0', 'applicant_race-1_6.0',\n",
       "       'applicant_race-1_7.0', 'co-applicant_race-1_1.0',\n",
       "       'co-applicant_race-1_2.0', 'co-applicant_race-1_21.0',\n",
       "       'co-applicant_race-1_22.0', 'co-applicant_race-1_23.0',\n",
       "       'co-applicant_race-1_24.0', 'co-applicant_race-1_25.0',\n",
       "       'co-applicant_race-1_26.0', 'co-applicant_race-1_27.0',\n",
       "       'co-applicant_race-1_3.0', 'co-applicant_race-1_4.0',\n",
       "       'co-applicant_race-1_41.0', 'co-applicant_race-1_42.0',\n",
       "       'co-applicant_race-1_43.0', 'co-applicant_race-1_44.0',\n",
       "       'co-applicant_race-1_5.0', 'co-applicant_race-1_6.0',\n",
       "       'co-applicant_race-1_7.0', 'co-applicant_race-1_8.0',\n",
       "       'applicant_race_observed_1.0', 'applicant_race_observed_2.0',\n",
       "       'applicant_race_observed_3.0', 'co-applicant_race_observed_1.0',\n",
       "       'co-applicant_race_observed_2.0', 'co-applicant_race_observed_3.0',\n",
       "       'co-applicant_race_observed_4.0', 'applicant_sex_1.0',\n",
       "       'applicant_sex_2.0', 'applicant_sex_3.0', 'applicant_sex_4.0',\n",
       "       'applicant_sex_6.0', 'co-applicant_sex_1.0',\n",
       "       'co-applicant_sex_2.0', 'co-applicant_sex_3.0',\n",
       "       'co-applicant_sex_4.0', 'co-applicant_sex_5.0',\n",
       "       'co-applicant_sex_6.0', 'applicant_sex_observed_1.0',\n",
       "       'applicant_sex_observed_2.0', 'applicant_sex_observed_3.0',\n",
       "       'co-applicant_sex_observed_1.0', 'co-applicant_sex_observed_2.0',\n",
       "       'co-applicant_sex_observed_3.0', 'co-applicant_sex_observed_4.0',\n",
       "       'applicant_age_25-34', 'applicant_age_35-44',\n",
       "       'applicant_age_45-54', 'applicant_age_55-64',\n",
       "       'applicant_age_65-74', 'applicant_age_8888', 'applicant_age_<25',\n",
       "       'applicant_age_>74', 'co-applicant_age_25-34',\n",
       "       'co-applicant_age_35-44', 'co-applicant_age_45-54',\n",
       "       'co-applicant_age_55-64', 'co-applicant_age_65-74',\n",
       "       'co-applicant_age_8888', 'co-applicant_age_9999',\n",
       "       'co-applicant_age_<25', 'co-applicant_age_>74',\n",
       "       'submission_of_application_1.0',\n",
       "       'submission_of_application_1111.0',\n",
       "       'submission_of_application_2.0', 'submission_of_application_3.0',\n",
       "       'initially_payable_to_institution_1.0',\n",
       "       'initially_payable_to_institution_1111.0',\n",
       "       'initially_payable_to_institution_2.0',\n",
       "       'initially_payable_to_institution_3.0', 'aus-1_1.0',\n",
       "       'aus-1_1111.0', 'aus-1_2.0', 'aus-1_3.0', 'aus-1_4.0', 'aus-1_5.0',\n",
       "       'aus-1_6.0', 'denial_reason-1_2018.0', 'denial_reason-1_2019.0',\n",
       "       'denial_reason-1_2020.0', 'denial_reason-1_nan', 'covid_year_0.0',\n",
       "       'covid_year_1.0'], dtype=object)"
      ]
     },
     "execution_count": 53,
     "metadata": {},
     "output_type": "execute_result"
    }
   ],
   "source": [
    "feature_dummy = np.asarray(df_dummy.columns)\n",
    "feature_dummy"
   ]
  },
  {
   "cell_type": "code",
   "execution_count": 54,
   "id": "f2d207f6",
   "metadata": {},
   "outputs": [],
   "source": [
    "y = np.asarray(credit_without_outlier['action_taken'])"
   ]
  },
  {
   "cell_type": "code",
   "execution_count": 55,
   "id": "3045c4bd",
   "metadata": {},
   "outputs": [],
   "source": [
    "X = np.concatenate((df_numerical, df_dummy_final),axis = 1) "
   ]
  },
  {
   "cell_type": "code",
   "execution_count": 56,
   "id": "8b81fb80",
   "metadata": {},
   "outputs": [
    {
     "data": {
      "text/plain": [
       "array([[ 0.1640663 ,  0.51184495,  0.02307466, ...,  0.        ,\n",
       "         1.        ,  0.        ],\n",
       "       [-0.5094778 ,  0.51184495,  0.02307466, ...,  0.        ,\n",
       "         1.        ,  0.        ],\n",
       "       [-0.17270575,  0.51184495,  0.16693801, ...,  0.        ,\n",
       "         1.        ,  0.        ],\n",
       "       ...,\n",
       "       [ 0.02935748,  0.51184495, -0.0297731 , ...,  0.        ,\n",
       "         0.        ,  1.        ],\n",
       "       [ 1.5785089 ,  0.51184495,  0.1463861 , ...,  0.        ,\n",
       "         0.        ,  1.        ],\n",
       "       [-0.20638295,  0.51184495, -0.10904474, ...,  0.        ,\n",
       "         0.        ,  1.        ]])"
      ]
     },
     "execution_count": 56,
     "metadata": {},
     "output_type": "execute_result"
    }
   ],
   "source": [
    "X "
   ]
  },
  {
   "cell_type": "code",
   "execution_count": 57,
   "id": "a7baad0f",
   "metadata": {},
   "outputs": [
    {
     "name": "stderr",
     "output_type": "stream",
     "text": [
      "/Users/amyliu/opt/anaconda3/lib/python3.8/site-packages/sklearn/linear_model/_sag.py:352: ConvergenceWarning: The max_iter was reached which means the coef_ did not converge\n",
      "  warnings.warn(\n"
     ]
    }
   ],
   "source": [
    "from sklearn.linear_model import LogisticRegression\n",
    "\n",
    "model = LogisticRegression(\n",
    "    penalty='l1',\n",
    "    solver='saga')\n",
    "\n",
    "\n",
    "logistic = model.fit(X, y)"
   ]
  },
  {
   "cell_type": "code",
   "execution_count": 58,
   "id": "612b70b9",
   "metadata": {},
   "outputs": [],
   "source": [
    "coef = logistic.coef_"
   ]
  },
  {
   "cell_type": "code",
   "execution_count": 59,
   "id": "c4e0ef23",
   "metadata": {},
   "outputs": [],
   "source": [
    "numerical_original = ['loan_amount',\n",
    " 'loan_term',\n",
    " 'property_value',\n",
    " 'income',\n",
    " 'tract_population',\n",
    " 'tract_minority_population_percent',\n",
    " 'ffiec_msa_md_median_family_income',\n",
    " 'tract_to_msa_income_percentage',\n",
    " 'tract_owner_occupied_units',\n",
    " 'tract_one_to_four_family_homes',\n",
    " 'tract_median_age_of_housing_units',\n",
    " 'median_housing_price',\n",
    " 'ratio']\n"
   ]
  },
  {
   "cell_type": "code",
   "execution_count": 60,
   "id": "63a9e582",
   "metadata": {},
   "outputs": [],
   "source": [
    "feature_numerical = np.asarray(numerical_original)\n"
   ]
  },
  {
   "cell_type": "code",
   "execution_count": 61,
   "id": "90d987fe",
   "metadata": {},
   "outputs": [
    {
     "data": {
      "text/plain": [
       "(250,)"
      ]
     },
     "execution_count": 61,
     "metadata": {},
     "output_type": "execute_result"
    }
   ],
   "source": [
    "feature_dummy.shape"
   ]
  },
  {
   "cell_type": "code",
   "execution_count": 62,
   "id": "81d4601c",
   "metadata": {},
   "outputs": [],
   "source": [
    "variables_array = np.append(feature_numerical,feature_dummy)"
   ]
  },
  {
   "cell_type": "code",
   "execution_count": 63,
   "id": "25fe0378",
   "metadata": {},
   "outputs": [
    {
     "data": {
      "text/plain": [
       "(263,)"
      ]
     },
     "execution_count": 63,
     "metadata": {},
     "output_type": "execute_result"
    }
   ],
   "source": [
    "variables_array.shape"
   ]
  },
  {
   "cell_type": "code",
   "execution_count": 64,
   "id": "836319f5",
   "metadata": {},
   "outputs": [],
   "source": [
    "coef_1 = np.transpose(np.abs(coef))"
   ]
  },
  {
   "cell_type": "code",
   "execution_count": 65,
   "id": "dc11c886",
   "metadata": {},
   "outputs": [],
   "source": [
    "coef1 = coef_1.reshape(-1)"
   ]
  },
  {
   "cell_type": "code",
   "execution_count": 66,
   "id": "4fd42cc0",
   "metadata": {},
   "outputs": [
    {
     "data": {
      "text/plain": [
       "(263,)"
      ]
     },
     "execution_count": 66,
     "metadata": {},
     "output_type": "execute_result"
    }
   ],
   "source": [
    "\n",
    "coef1.shape"
   ]
  },
  {
   "cell_type": "code",
   "execution_count": 67,
   "id": "7e291b9a",
   "metadata": {},
   "outputs": [],
   "source": [
    "total_feature = pd.DataFrame(coef1,variables_array)"
   ]
  },
  {
   "cell_type": "code",
   "execution_count": 68,
   "id": "e3a47a26",
   "metadata": {},
   "outputs": [
    {
     "data": {
      "text/plain": [
       "Index(['n'], dtype='object')"
      ]
     },
     "execution_count": 68,
     "metadata": {},
     "output_type": "execute_result"
    }
   ],
   "source": [
    "total_feature.columns = list('n')\n",
    "total_feature.columns"
   ]
  },
  {
   "cell_type": "code",
   "execution_count": 69,
   "id": "31c001cf",
   "metadata": {},
   "outputs": [],
   "source": [
    "choose = total_feature[total_feature['n']>0.1]"
   ]
  },
  {
   "cell_type": "code",
   "execution_count": 70,
   "id": "8d58eedc",
   "metadata": {},
   "outputs": [],
   "source": [
    "choose = choose.sort_values(by=\"n\",ascending=False)"
   ]
  },
  {
   "cell_type": "code",
   "execution_count": 71,
   "id": "b8b738c5",
   "metadata": {},
   "outputs": [
    {
     "data": {
      "text/html": [
       "<div>\n",
       "<style scoped>\n",
       "    .dataframe tbody tr th:only-of-type {\n",
       "        vertical-align: middle;\n",
       "    }\n",
       "\n",
       "    .dataframe tbody tr th {\n",
       "        vertical-align: top;\n",
       "    }\n",
       "\n",
       "    .dataframe thead th {\n",
       "        text-align: right;\n",
       "    }\n",
       "</style>\n",
       "<table border=\"1\" class=\"dataframe\">\n",
       "  <thead>\n",
       "    <tr style=\"text-align: right;\">\n",
       "      <th></th>\n",
       "      <th>n</th>\n",
       "    </tr>\n",
       "  </thead>\n",
       "  <tbody>\n",
       "    <tr>\n",
       "      <th>debt_to_income_ratio_&gt;60%</th>\n",
       "      <td>1.676539</td>\n",
       "    </tr>\n",
       "    <tr>\n",
       "      <th>submission_of_application_3.0</th>\n",
       "      <td>1.600514</td>\n",
       "    </tr>\n",
       "    <tr>\n",
       "      <th>purchaser_type_0.0</th>\n",
       "      <td>0.987150</td>\n",
       "    </tr>\n",
       "    <tr>\n",
       "      <th>hoepa_status_2.0</th>\n",
       "      <td>0.973571</td>\n",
       "    </tr>\n",
       "    <tr>\n",
       "      <th>hoepa_status_3.0</th>\n",
       "      <td>0.938888</td>\n",
       "    </tr>\n",
       "    <tr>\n",
       "      <th>...</th>\n",
       "      <td>...</td>\n",
       "    </tr>\n",
       "    <tr>\n",
       "      <th>debt_to_income_ratio_36</th>\n",
       "      <td>0.113357</td>\n",
       "    </tr>\n",
       "    <tr>\n",
       "      <th>co-applicant_age_45-54</th>\n",
       "      <td>0.111692</td>\n",
       "    </tr>\n",
       "    <tr>\n",
       "      <th>conforming_loan_limit_NC</th>\n",
       "      <td>0.110790</td>\n",
       "    </tr>\n",
       "    <tr>\n",
       "      <th>derived_ethnicity_Not Hispanic or Latino</th>\n",
       "      <td>0.108450</td>\n",
       "    </tr>\n",
       "    <tr>\n",
       "      <th>applicant_race-1_2.0</th>\n",
       "      <td>0.107081</td>\n",
       "    </tr>\n",
       "  </tbody>\n",
       "</table>\n",
       "<p>62 rows × 1 columns</p>\n",
       "</div>"
      ],
      "text/plain": [
       "                                                 n\n",
       "debt_to_income_ratio_>60%                 1.676539\n",
       "submission_of_application_3.0             1.600514\n",
       "purchaser_type_0.0                        0.987150\n",
       "hoepa_status_2.0                          0.973571\n",
       "hoepa_status_3.0                          0.938888\n",
       "...                                            ...\n",
       "debt_to_income_ratio_36                   0.113357\n",
       "co-applicant_age_45-54                    0.111692\n",
       "conforming_loan_limit_NC                  0.110790\n",
       "derived_ethnicity_Not Hispanic or Latino  0.108450\n",
       "applicant_race-1_2.0                      0.107081\n",
       "\n",
       "[62 rows x 1 columns]"
      ]
     },
     "execution_count": 71,
     "metadata": {},
     "output_type": "execute_result"
    }
   ],
   "source": [
    "choose"
   ]
  },
  {
   "cell_type": "code",
   "execution_count": 72,
   "id": "9b42baac",
   "metadata": {},
   "outputs": [],
   "source": [
    "choose1 = np.asarray(choose)"
   ]
  },
  {
   "cell_type": "code",
   "execution_count": 73,
   "id": "fa1c35d7",
   "metadata": {},
   "outputs": [],
   "source": [
    "choose2 = choose.reset_index()"
   ]
  },
  {
   "cell_type": "code",
   "execution_count": 74,
   "id": "67ea2475",
   "metadata": {},
   "outputs": [],
   "source": [
    "features_choose = choose2['index']"
   ]
  },
  {
   "cell_type": "code",
   "execution_count": 75,
   "id": "c50c863a",
   "metadata": {},
   "outputs": [
    {
     "data": {
      "text/plain": [
       "['debt_to_income_ratio_>60%',\n",
       " 'submission_of_application_3.0',\n",
       " 'purchaser_type_0.0',\n",
       " 'hoepa_status_2.0',\n",
       " 'hoepa_status_3.0',\n",
       " 'submission_of_application_1.0',\n",
       " 'debt_to_income_ratio_50%-60%',\n",
       " 'debt_to_income_ratio_-1',\n",
       " 'aus-1_5.0',\n",
       " 'submission_of_application_2.0',\n",
       " 'aus-1_2.0',\n",
       " 'co-applicant_credit_score_type_10.0',\n",
       " 'loan_purpose_1.0',\n",
       " 'purchaser_type_3.0',\n",
       " 'co-applicant_age_8888',\n",
       " 'initially_payable_to_institution_3.0',\n",
       " 'purchaser_type_1.0',\n",
       " 'debt_to_income_ratio_20%-<30%',\n",
       " 'aus-1_1.0',\n",
       " 'business_or_commercial_purpose_2.0',\n",
       " 'debt_to_income_ratio_30%-<36%',\n",
       " 'loan_purpose_2.0',\n",
       " 'loan_purpose_4.0',\n",
       " 'initially_payable_to_institution_1.0',\n",
       " 'business_or_commercial_purpose_1.0',\n",
       " 'preapproval_1.0',\n",
       " 'co-applicant_race-1_7.0',\n",
       " 'co-applicant_ethnicity-1_4.0',\n",
       " 'co-applicant_sex_4.0',\n",
       " 'open-end_line_of_credit_2.0',\n",
       " 'applicant_credit_score_type_8.0',\n",
       " 'preapproval_2.0',\n",
       " 'other_nonamortizing_features_2.0',\n",
       " 'open-end_line_of_credit_1.0',\n",
       " 'balloon_payment_2.0',\n",
       " 'loan_purpose_5.0',\n",
       " 'applicant_age_8888',\n",
       " 'other_nonamortizing_features_1.0',\n",
       " 'applicant_credit_score_type_6.0',\n",
       " 'income',\n",
       " 'loan_purpose_32.0',\n",
       " 'balloon_payment_1.0',\n",
       " 'initially_payable_to_institution_2.0',\n",
       " 'debt_to_income_ratio_42',\n",
       " 'co-applicant_credit_score_type_2.0',\n",
       " 'co-applicant_credit_score_type_3.0',\n",
       " 'debt_to_income_ratio_41',\n",
       " 'aus-1_3.0',\n",
       " 'conforming_loan_limit_C',\n",
       " 'debt_to_income_ratio_39',\n",
       " 'debt_to_income_ratio_38',\n",
       " 'loan_purpose_31.0',\n",
       " 'co-applicant_sex_1.0',\n",
       " 'debt_to_income_ratio_37',\n",
       " 'co-applicant_credit_score_type_1.0',\n",
       " 'debt_to_income_ratio_40',\n",
       " 'derived_race_White',\n",
       " 'debt_to_income_ratio_36',\n",
       " 'co-applicant_age_45-54',\n",
       " 'conforming_loan_limit_NC',\n",
       " 'derived_ethnicity_Not Hispanic or Latino',\n",
       " 'applicant_race-1_2.0']"
      ]
     },
     "execution_count": 75,
     "metadata": {},
     "output_type": "execute_result"
    }
   ],
   "source": [
    "features_choose = np.asarray(features_choose)\n",
    "features_choose = list(features_choose)\n",
    "features_choose"
   ]
  },
  {
   "cell_type": "code",
   "execution_count": 76,
   "id": "d07ea093",
   "metadata": {},
   "outputs": [
    {
     "data": {
      "text/plain": [
       "(435446, 250)"
      ]
     },
     "execution_count": 76,
     "metadata": {},
     "output_type": "execute_result"
    }
   ],
   "source": [
    "df_dummy.shape"
   ]
  },
  {
   "cell_type": "code",
   "execution_count": 77,
   "id": "74a3042d",
   "metadata": {},
   "outputs": [],
   "source": [
    "df_numerical = credit_without_outlier[['loan_amount',\n",
    " 'loan_term',\n",
    " 'property_value',\n",
    " 'income',\n",
    " 'tract_population',\n",
    " 'tract_minority_population_percent',\n",
    " 'ffiec_msa_md_median_family_income',\n",
    " 'tract_to_msa_income_percentage',\n",
    " 'tract_owner_occupied_units',\n",
    " 'tract_one_to_four_family_homes',\n",
    " 'tract_median_age_of_housing_units',\n",
    " 'median_housing_price',\n",
    " 'ratio']]"
   ]
  },
  {
   "cell_type": "code",
   "execution_count": 78,
   "id": "50bd76b3",
   "metadata": {},
   "outputs": [],
   "source": [
    "df_total = pd.concat([df_numerical,df_dummy],axis=1)"
   ]
  },
  {
   "cell_type": "code",
   "execution_count": 79,
   "id": "6bb3c881",
   "metadata": {},
   "outputs": [
    {
     "data": {
      "text/plain": [
       "(435446, 263)"
      ]
     },
     "execution_count": 79,
     "metadata": {},
     "output_type": "execute_result"
    }
   ],
   "source": [
    "df_total.shape"
   ]
  },
  {
   "cell_type": "code",
   "execution_count": 80,
   "id": "0dd77601",
   "metadata": {},
   "outputs": [],
   "source": [
    "dummy_final_df = df_total[features_choose]"
   ]
  },
  {
   "cell_type": "code",
   "execution_count": 81,
   "id": "c7f97c1b",
   "metadata": {},
   "outputs": [],
   "source": [
    "X1 = np.asarray(dummy_final_df)"
   ]
  },
  {
   "cell_type": "markdown",
   "id": "1841972e",
   "metadata": {},
   "source": [
    "## random forest methods"
   ]
  },
  {
   "cell_type": "code",
   "execution_count": 82,
   "id": "7d744377",
   "metadata": {},
   "outputs": [
    {
     "data": {
      "text/plain": [
       "RandomForestClassifier(n_jobs=-1, random_state=0)"
      ]
     },
     "execution_count": 82,
     "metadata": {},
     "output_type": "execute_result"
    }
   ],
   "source": [
    "from sklearn.ensemble import RandomForestClassifier\n",
    "from sklearn.model_selection import train_test_split\n",
    "y1 = np.asarray(credit_without_outlier['action_taken'])\n",
    "X1 = np.asarray(dummy_final_df)\n",
    "X1_train, X1_test, y1_train, y1_test = train_test_split(X1, y1, test_size=0.3)\n",
    "rfc2 = RandomForestClassifier(random_state=0, n_estimators=100, n_jobs=-1)\n",
    "rfc2.fit(X1_train, y1_train)"
   ]
  },
  {
   "cell_type": "code",
   "execution_count": 83,
   "id": "87c3f89c",
   "metadata": {},
   "outputs": [
    {
     "data": {
      "text/plain": [
       "array([0., 1., 0., ..., 0., 0., 1.])"
      ]
     },
     "execution_count": 83,
     "metadata": {},
     "output_type": "execute_result"
    }
   ],
   "source": [
    "\n",
    "y1_pred1 = rfc2.predict(X1_test)\n",
    "y1_pred1"
   ]
  },
  {
   "cell_type": "code",
   "execution_count": 84,
   "id": "c5214314",
   "metadata": {},
   "outputs": [],
   "source": [
    "from sklearn.metrics import accuracy_score, confusion_matrix, precision_score, recall_score, roc_auc_score, roc_curve, f1_score"
   ]
  },
  {
   "cell_type": "code",
   "execution_count": null,
   "id": "c52b8511",
   "metadata": {},
   "outputs": [],
   "source": []
  },
  {
   "cell_type": "code",
   "execution_count": 85,
   "id": "4bb8a2b4",
   "metadata": {},
   "outputs": [
    {
     "name": "stdout",
     "output_type": "stream",
     "text": [
      "The accuracy of the model is 89.3 %\n"
     ]
    }
   ],
   "source": [
    "accuracy_score(y1_test, y1_pred1)\n",
    "print(f\"The accuracy of the model is {round(accuracy_score(y1_test,y1_pred1),3)*100} %\")"
   ]
  },
  {
   "cell_type": "code",
   "execution_count": null,
   "id": "8add6ec5",
   "metadata": {},
   "outputs": [],
   "source": []
  },
  {
   "cell_type": "code",
   "execution_count": 86,
   "id": "cf7b8b1d",
   "metadata": {},
   "outputs": [],
   "source": [
    "# Necessary imports: \n",
    "from sklearn.model_selection import cross_val_score, cross_val_predict\n",
    "from sklearn import metrics"
   ]
  },
  {
   "cell_type": "code",
   "execution_count": 87,
   "id": "6fcb55b4",
   "metadata": {},
   "outputs": [
    {
     "name": "stderr",
     "output_type": "stream",
     "text": [
      "/Users/amyliu/opt/anaconda3/lib/python3.8/site-packages/joblib/externals/loky/process_executor.py:688: UserWarning: A worker stopped while some jobs were given to the executor. This can be caused by a too short worker timeout or by a memory leak.\n",
      "  warnings.warn(\n",
      "/Users/amyliu/opt/anaconda3/lib/python3.8/site-packages/joblib/externals/loky/process_executor.py:688: UserWarning: A worker stopped while some jobs were given to the executor. This can be caused by a too short worker timeout or by a memory leak.\n",
      "  warnings.warn(\n",
      "/Users/amyliu/opt/anaconda3/lib/python3.8/site-packages/joblib/externals/loky/process_executor.py:688: UserWarning: A worker stopped while some jobs were given to the executor. This can be caused by a too short worker timeout or by a memory leak.\n",
      "  warnings.warn(\n",
      "/Users/amyliu/opt/anaconda3/lib/python3.8/site-packages/joblib/externals/loky/process_executor.py:688: UserWarning: A worker stopped while some jobs were given to the executor. This can be caused by a too short worker timeout or by a memory leak.\n",
      "  warnings.warn(\n",
      "/Users/amyliu/opt/anaconda3/lib/python3.8/site-packages/joblib/externals/loky/process_executor.py:688: UserWarning: A worker stopped while some jobs were given to the executor. This can be caused by a too short worker timeout or by a memory leak.\n",
      "  warnings.warn(\n"
     ]
    },
    {
     "name": "stdout",
     "output_type": "stream",
     "text": [
      "Cross-validated scores: [0.88777127 0.90604203 0.89552732 0.85166864 0.8838427  0.88972635]\n"
     ]
    }
   ],
   "source": [
    "scores2 = cross_val_score(rfc2, X1, y1, cv=6)\n",
    "print (\"Cross-validated scores:\", scores2)"
   ]
  },
  {
   "cell_type": "markdown",
   "id": "ce9efb47",
   "metadata": {},
   "source": [
    "## logistic regression method"
   ]
  },
  {
   "cell_type": "code",
   "execution_count": 88,
   "id": "bb9d41fd",
   "metadata": {},
   "outputs": [
    {
     "name": "stderr",
     "output_type": "stream",
     "text": [
      "/Users/amyliu/opt/anaconda3/lib/python3.8/site-packages/sklearn/linear_model/_sag.py:352: ConvergenceWarning: The max_iter was reached which means the coef_ did not converge\n",
      "  warnings.warn(\n",
      "/Users/amyliu/opt/anaconda3/lib/python3.8/site-packages/sklearn/linear_model/_sag.py:352: ConvergenceWarning: The max_iter was reached which means the coef_ did not converge\n",
      "  warnings.warn(\n"
     ]
    },
    {
     "ename": "KeyboardInterrupt",
     "evalue": "",
     "output_type": "error",
     "traceback": [
      "\u001b[0;31m---------------------------------------------------------------------------\u001b[0m",
      "\u001b[0;31mKeyboardInterrupt\u001b[0m                         Traceback (most recent call last)",
      "\u001b[0;32m<ipython-input-88-f38f1822694a>\u001b[0m in \u001b[0;36m<module>\u001b[0;34m\u001b[0m\n\u001b[1;32m      1\u001b[0m \u001b[0;32mfrom\u001b[0m \u001b[0msklearn\u001b[0m\u001b[0;34m.\u001b[0m\u001b[0mmodel_selection\u001b[0m \u001b[0;32mimport\u001b[0m \u001b[0mcross_val_score\u001b[0m\u001b[0;34m,\u001b[0m \u001b[0mcross_val_predict\u001b[0m\u001b[0;34m\u001b[0m\u001b[0;34m\u001b[0m\u001b[0m\n\u001b[1;32m      2\u001b[0m \u001b[0;32mfrom\u001b[0m \u001b[0msklearn\u001b[0m \u001b[0;32mimport\u001b[0m \u001b[0mmetrics\u001b[0m\u001b[0;34m\u001b[0m\u001b[0;34m\u001b[0m\u001b[0m\n\u001b[0;32m----> 3\u001b[0;31m \u001b[0mscores3\u001b[0m \u001b[0;34m=\u001b[0m \u001b[0mcross_val_score\u001b[0m\u001b[0;34m(\u001b[0m\u001b[0mlogistic\u001b[0m\u001b[0;34m,\u001b[0m \u001b[0mX\u001b[0m\u001b[0;34m,\u001b[0m \u001b[0my\u001b[0m\u001b[0;34m,\u001b[0m \u001b[0mcv\u001b[0m\u001b[0;34m=\u001b[0m\u001b[0;36m6\u001b[0m\u001b[0;34m)\u001b[0m\u001b[0;34m\u001b[0m\u001b[0;34m\u001b[0m\u001b[0m\n\u001b[0m\u001b[1;32m      4\u001b[0m \u001b[0mprint\u001b[0m \u001b[0;34m(\u001b[0m\u001b[0;34m\"Cross-validated scores:\"\u001b[0m\u001b[0;34m,\u001b[0m \u001b[0mscores3\u001b[0m\u001b[0;34m)\u001b[0m\u001b[0;34m\u001b[0m\u001b[0;34m\u001b[0m\u001b[0m\n",
      "\u001b[0;32m~/opt/anaconda3/lib/python3.8/site-packages/sklearn/model_selection/_validation.py\u001b[0m in \u001b[0;36mcross_val_score\u001b[0;34m(estimator, X, y, groups, scoring, cv, n_jobs, verbose, fit_params, pre_dispatch, error_score)\u001b[0m\n\u001b[1;32m    508\u001b[0m     \u001b[0mscorer\u001b[0m \u001b[0;34m=\u001b[0m \u001b[0mcheck_scoring\u001b[0m\u001b[0;34m(\u001b[0m\u001b[0mestimator\u001b[0m\u001b[0;34m,\u001b[0m \u001b[0mscoring\u001b[0m\u001b[0;34m=\u001b[0m\u001b[0mscoring\u001b[0m\u001b[0;34m)\u001b[0m\u001b[0;34m\u001b[0m\u001b[0;34m\u001b[0m\u001b[0m\n\u001b[1;32m    509\u001b[0m \u001b[0;34m\u001b[0m\u001b[0m\n\u001b[0;32m--> 510\u001b[0;31m     cv_results = cross_validate(\n\u001b[0m\u001b[1;32m    511\u001b[0m         \u001b[0mestimator\u001b[0m\u001b[0;34m=\u001b[0m\u001b[0mestimator\u001b[0m\u001b[0;34m,\u001b[0m\u001b[0;34m\u001b[0m\u001b[0;34m\u001b[0m\u001b[0m\n\u001b[1;32m    512\u001b[0m         \u001b[0mX\u001b[0m\u001b[0;34m=\u001b[0m\u001b[0mX\u001b[0m\u001b[0;34m,\u001b[0m\u001b[0;34m\u001b[0m\u001b[0;34m\u001b[0m\u001b[0m\n",
      "\u001b[0;32m~/opt/anaconda3/lib/python3.8/site-packages/sklearn/model_selection/_validation.py\u001b[0m in \u001b[0;36mcross_validate\u001b[0;34m(estimator, X, y, groups, scoring, cv, n_jobs, verbose, fit_params, pre_dispatch, return_train_score, return_estimator, error_score)\u001b[0m\n\u001b[1;32m    265\u001b[0m     \u001b[0;31m# independent, and that it is pickle-able.\u001b[0m\u001b[0;34m\u001b[0m\u001b[0;34m\u001b[0m\u001b[0;34m\u001b[0m\u001b[0m\n\u001b[1;32m    266\u001b[0m     \u001b[0mparallel\u001b[0m \u001b[0;34m=\u001b[0m \u001b[0mParallel\u001b[0m\u001b[0;34m(\u001b[0m\u001b[0mn_jobs\u001b[0m\u001b[0;34m=\u001b[0m\u001b[0mn_jobs\u001b[0m\u001b[0;34m,\u001b[0m \u001b[0mverbose\u001b[0m\u001b[0;34m=\u001b[0m\u001b[0mverbose\u001b[0m\u001b[0;34m,\u001b[0m \u001b[0mpre_dispatch\u001b[0m\u001b[0;34m=\u001b[0m\u001b[0mpre_dispatch\u001b[0m\u001b[0;34m)\u001b[0m\u001b[0;34m\u001b[0m\u001b[0;34m\u001b[0m\u001b[0m\n\u001b[0;32m--> 267\u001b[0;31m     results = parallel(\n\u001b[0m\u001b[1;32m    268\u001b[0m         delayed(_fit_and_score)(\n\u001b[1;32m    269\u001b[0m             \u001b[0mclone\u001b[0m\u001b[0;34m(\u001b[0m\u001b[0mestimator\u001b[0m\u001b[0;34m)\u001b[0m\u001b[0;34m,\u001b[0m\u001b[0;34m\u001b[0m\u001b[0;34m\u001b[0m\u001b[0m\n",
      "\u001b[0;32m~/opt/anaconda3/lib/python3.8/site-packages/joblib/parallel.py\u001b[0m in \u001b[0;36m__call__\u001b[0;34m(self, iterable)\u001b[0m\n\u001b[1;32m   1042\u001b[0m                 \u001b[0mself\u001b[0m\u001b[0;34m.\u001b[0m\u001b[0m_iterating\u001b[0m \u001b[0;34m=\u001b[0m \u001b[0mself\u001b[0m\u001b[0;34m.\u001b[0m\u001b[0m_original_iterator\u001b[0m \u001b[0;32mis\u001b[0m \u001b[0;32mnot\u001b[0m \u001b[0;32mNone\u001b[0m\u001b[0;34m\u001b[0m\u001b[0;34m\u001b[0m\u001b[0m\n\u001b[1;32m   1043\u001b[0m \u001b[0;34m\u001b[0m\u001b[0m\n\u001b[0;32m-> 1044\u001b[0;31m             \u001b[0;32mwhile\u001b[0m \u001b[0mself\u001b[0m\u001b[0;34m.\u001b[0m\u001b[0mdispatch_one_batch\u001b[0m\u001b[0;34m(\u001b[0m\u001b[0miterator\u001b[0m\u001b[0;34m)\u001b[0m\u001b[0;34m:\u001b[0m\u001b[0;34m\u001b[0m\u001b[0;34m\u001b[0m\u001b[0m\n\u001b[0m\u001b[1;32m   1045\u001b[0m                 \u001b[0;32mpass\u001b[0m\u001b[0;34m\u001b[0m\u001b[0;34m\u001b[0m\u001b[0m\n\u001b[1;32m   1046\u001b[0m \u001b[0;34m\u001b[0m\u001b[0m\n",
      "\u001b[0;32m~/opt/anaconda3/lib/python3.8/site-packages/joblib/parallel.py\u001b[0m in \u001b[0;36mdispatch_one_batch\u001b[0;34m(self, iterator)\u001b[0m\n\u001b[1;32m    857\u001b[0m                 \u001b[0;32mreturn\u001b[0m \u001b[0;32mFalse\u001b[0m\u001b[0;34m\u001b[0m\u001b[0;34m\u001b[0m\u001b[0m\n\u001b[1;32m    858\u001b[0m             \u001b[0;32melse\u001b[0m\u001b[0;34m:\u001b[0m\u001b[0;34m\u001b[0m\u001b[0;34m\u001b[0m\u001b[0m\n\u001b[0;32m--> 859\u001b[0;31m                 \u001b[0mself\u001b[0m\u001b[0;34m.\u001b[0m\u001b[0m_dispatch\u001b[0m\u001b[0;34m(\u001b[0m\u001b[0mtasks\u001b[0m\u001b[0;34m)\u001b[0m\u001b[0;34m\u001b[0m\u001b[0;34m\u001b[0m\u001b[0m\n\u001b[0m\u001b[1;32m    860\u001b[0m                 \u001b[0;32mreturn\u001b[0m \u001b[0;32mTrue\u001b[0m\u001b[0;34m\u001b[0m\u001b[0;34m\u001b[0m\u001b[0m\n\u001b[1;32m    861\u001b[0m \u001b[0;34m\u001b[0m\u001b[0m\n",
      "\u001b[0;32m~/opt/anaconda3/lib/python3.8/site-packages/joblib/parallel.py\u001b[0m in \u001b[0;36m_dispatch\u001b[0;34m(self, batch)\u001b[0m\n\u001b[1;32m    775\u001b[0m         \u001b[0;32mwith\u001b[0m \u001b[0mself\u001b[0m\u001b[0;34m.\u001b[0m\u001b[0m_lock\u001b[0m\u001b[0;34m:\u001b[0m\u001b[0;34m\u001b[0m\u001b[0;34m\u001b[0m\u001b[0m\n\u001b[1;32m    776\u001b[0m             \u001b[0mjob_idx\u001b[0m \u001b[0;34m=\u001b[0m \u001b[0mlen\u001b[0m\u001b[0;34m(\u001b[0m\u001b[0mself\u001b[0m\u001b[0;34m.\u001b[0m\u001b[0m_jobs\u001b[0m\u001b[0;34m)\u001b[0m\u001b[0;34m\u001b[0m\u001b[0;34m\u001b[0m\u001b[0m\n\u001b[0;32m--> 777\u001b[0;31m             \u001b[0mjob\u001b[0m \u001b[0;34m=\u001b[0m \u001b[0mself\u001b[0m\u001b[0;34m.\u001b[0m\u001b[0m_backend\u001b[0m\u001b[0;34m.\u001b[0m\u001b[0mapply_async\u001b[0m\u001b[0;34m(\u001b[0m\u001b[0mbatch\u001b[0m\u001b[0;34m,\u001b[0m \u001b[0mcallback\u001b[0m\u001b[0;34m=\u001b[0m\u001b[0mcb\u001b[0m\u001b[0;34m)\u001b[0m\u001b[0;34m\u001b[0m\u001b[0;34m\u001b[0m\u001b[0m\n\u001b[0m\u001b[1;32m    778\u001b[0m             \u001b[0;31m# A job can complete so quickly than its callback is\u001b[0m\u001b[0;34m\u001b[0m\u001b[0;34m\u001b[0m\u001b[0;34m\u001b[0m\u001b[0m\n\u001b[1;32m    779\u001b[0m             \u001b[0;31m# called before we get here, causing self._jobs to\u001b[0m\u001b[0;34m\u001b[0m\u001b[0;34m\u001b[0m\u001b[0;34m\u001b[0m\u001b[0m\n",
      "\u001b[0;32m~/opt/anaconda3/lib/python3.8/site-packages/joblib/_parallel_backends.py\u001b[0m in \u001b[0;36mapply_async\u001b[0;34m(self, func, callback)\u001b[0m\n\u001b[1;32m    206\u001b[0m     \u001b[0;32mdef\u001b[0m \u001b[0mapply_async\u001b[0m\u001b[0;34m(\u001b[0m\u001b[0mself\u001b[0m\u001b[0;34m,\u001b[0m \u001b[0mfunc\u001b[0m\u001b[0;34m,\u001b[0m \u001b[0mcallback\u001b[0m\u001b[0;34m=\u001b[0m\u001b[0;32mNone\u001b[0m\u001b[0;34m)\u001b[0m\u001b[0;34m:\u001b[0m\u001b[0;34m\u001b[0m\u001b[0;34m\u001b[0m\u001b[0m\n\u001b[1;32m    207\u001b[0m         \u001b[0;34m\"\"\"Schedule a func to be run\"\"\"\u001b[0m\u001b[0;34m\u001b[0m\u001b[0;34m\u001b[0m\u001b[0m\n\u001b[0;32m--> 208\u001b[0;31m         \u001b[0mresult\u001b[0m \u001b[0;34m=\u001b[0m \u001b[0mImmediateResult\u001b[0m\u001b[0;34m(\u001b[0m\u001b[0mfunc\u001b[0m\u001b[0;34m)\u001b[0m\u001b[0;34m\u001b[0m\u001b[0;34m\u001b[0m\u001b[0m\n\u001b[0m\u001b[1;32m    209\u001b[0m         \u001b[0;32mif\u001b[0m \u001b[0mcallback\u001b[0m\u001b[0;34m:\u001b[0m\u001b[0;34m\u001b[0m\u001b[0;34m\u001b[0m\u001b[0m\n\u001b[1;32m    210\u001b[0m             \u001b[0mcallback\u001b[0m\u001b[0;34m(\u001b[0m\u001b[0mresult\u001b[0m\u001b[0;34m)\u001b[0m\u001b[0;34m\u001b[0m\u001b[0;34m\u001b[0m\u001b[0m\n",
      "\u001b[0;32m~/opt/anaconda3/lib/python3.8/site-packages/joblib/_parallel_backends.py\u001b[0m in \u001b[0;36m__init__\u001b[0;34m(self, batch)\u001b[0m\n\u001b[1;32m    570\u001b[0m         \u001b[0;31m# Don't delay the application, to avoid keeping the input\u001b[0m\u001b[0;34m\u001b[0m\u001b[0;34m\u001b[0m\u001b[0;34m\u001b[0m\u001b[0m\n\u001b[1;32m    571\u001b[0m         \u001b[0;31m# arguments in memory\u001b[0m\u001b[0;34m\u001b[0m\u001b[0;34m\u001b[0m\u001b[0;34m\u001b[0m\u001b[0m\n\u001b[0;32m--> 572\u001b[0;31m         \u001b[0mself\u001b[0m\u001b[0;34m.\u001b[0m\u001b[0mresults\u001b[0m \u001b[0;34m=\u001b[0m \u001b[0mbatch\u001b[0m\u001b[0;34m(\u001b[0m\u001b[0;34m)\u001b[0m\u001b[0;34m\u001b[0m\u001b[0;34m\u001b[0m\u001b[0m\n\u001b[0m\u001b[1;32m    573\u001b[0m \u001b[0;34m\u001b[0m\u001b[0m\n\u001b[1;32m    574\u001b[0m     \u001b[0;32mdef\u001b[0m \u001b[0mget\u001b[0m\u001b[0;34m(\u001b[0m\u001b[0mself\u001b[0m\u001b[0;34m)\u001b[0m\u001b[0;34m:\u001b[0m\u001b[0;34m\u001b[0m\u001b[0;34m\u001b[0m\u001b[0m\n",
      "\u001b[0;32m~/opt/anaconda3/lib/python3.8/site-packages/joblib/parallel.py\u001b[0m in \u001b[0;36m__call__\u001b[0;34m(self)\u001b[0m\n\u001b[1;32m    260\u001b[0m         \u001b[0;31m# change the default number of processes to -1\u001b[0m\u001b[0;34m\u001b[0m\u001b[0;34m\u001b[0m\u001b[0;34m\u001b[0m\u001b[0m\n\u001b[1;32m    261\u001b[0m         \u001b[0;32mwith\u001b[0m \u001b[0mparallel_backend\u001b[0m\u001b[0;34m(\u001b[0m\u001b[0mself\u001b[0m\u001b[0;34m.\u001b[0m\u001b[0m_backend\u001b[0m\u001b[0;34m,\u001b[0m \u001b[0mn_jobs\u001b[0m\u001b[0;34m=\u001b[0m\u001b[0mself\u001b[0m\u001b[0;34m.\u001b[0m\u001b[0m_n_jobs\u001b[0m\u001b[0;34m)\u001b[0m\u001b[0;34m:\u001b[0m\u001b[0;34m\u001b[0m\u001b[0;34m\u001b[0m\u001b[0m\n\u001b[0;32m--> 262\u001b[0;31m             return [func(*args, **kwargs)\n\u001b[0m\u001b[1;32m    263\u001b[0m                     for func, args, kwargs in self.items]\n\u001b[1;32m    264\u001b[0m \u001b[0;34m\u001b[0m\u001b[0m\n",
      "\u001b[0;32m~/opt/anaconda3/lib/python3.8/site-packages/joblib/parallel.py\u001b[0m in \u001b[0;36m<listcomp>\u001b[0;34m(.0)\u001b[0m\n\u001b[1;32m    260\u001b[0m         \u001b[0;31m# change the default number of processes to -1\u001b[0m\u001b[0;34m\u001b[0m\u001b[0;34m\u001b[0m\u001b[0;34m\u001b[0m\u001b[0m\n\u001b[1;32m    261\u001b[0m         \u001b[0;32mwith\u001b[0m \u001b[0mparallel_backend\u001b[0m\u001b[0;34m(\u001b[0m\u001b[0mself\u001b[0m\u001b[0;34m.\u001b[0m\u001b[0m_backend\u001b[0m\u001b[0;34m,\u001b[0m \u001b[0mn_jobs\u001b[0m\u001b[0;34m=\u001b[0m\u001b[0mself\u001b[0m\u001b[0;34m.\u001b[0m\u001b[0m_n_jobs\u001b[0m\u001b[0;34m)\u001b[0m\u001b[0;34m:\u001b[0m\u001b[0;34m\u001b[0m\u001b[0;34m\u001b[0m\u001b[0m\n\u001b[0;32m--> 262\u001b[0;31m             return [func(*args, **kwargs)\n\u001b[0m\u001b[1;32m    263\u001b[0m                     for func, args, kwargs in self.items]\n\u001b[1;32m    264\u001b[0m \u001b[0;34m\u001b[0m\u001b[0m\n",
      "\u001b[0;32m~/opt/anaconda3/lib/python3.8/site-packages/sklearn/utils/fixes.py\u001b[0m in \u001b[0;36m__call__\u001b[0;34m(self, *args, **kwargs)\u001b[0m\n\u001b[1;32m    209\u001b[0m     \u001b[0;32mdef\u001b[0m \u001b[0m__call__\u001b[0m\u001b[0;34m(\u001b[0m\u001b[0mself\u001b[0m\u001b[0;34m,\u001b[0m \u001b[0;34m*\u001b[0m\u001b[0margs\u001b[0m\u001b[0;34m,\u001b[0m \u001b[0;34m**\u001b[0m\u001b[0mkwargs\u001b[0m\u001b[0;34m)\u001b[0m\u001b[0;34m:\u001b[0m\u001b[0;34m\u001b[0m\u001b[0;34m\u001b[0m\u001b[0m\n\u001b[1;32m    210\u001b[0m         \u001b[0;32mwith\u001b[0m \u001b[0mconfig_context\u001b[0m\u001b[0;34m(\u001b[0m\u001b[0;34m**\u001b[0m\u001b[0mself\u001b[0m\u001b[0;34m.\u001b[0m\u001b[0mconfig\u001b[0m\u001b[0;34m)\u001b[0m\u001b[0;34m:\u001b[0m\u001b[0;34m\u001b[0m\u001b[0;34m\u001b[0m\u001b[0m\n\u001b[0;32m--> 211\u001b[0;31m             \u001b[0;32mreturn\u001b[0m \u001b[0mself\u001b[0m\u001b[0;34m.\u001b[0m\u001b[0mfunction\u001b[0m\u001b[0;34m(\u001b[0m\u001b[0;34m*\u001b[0m\u001b[0margs\u001b[0m\u001b[0;34m,\u001b[0m \u001b[0;34m**\u001b[0m\u001b[0mkwargs\u001b[0m\u001b[0;34m)\u001b[0m\u001b[0;34m\u001b[0m\u001b[0;34m\u001b[0m\u001b[0m\n\u001b[0m\u001b[1;32m    212\u001b[0m \u001b[0;34m\u001b[0m\u001b[0m\n\u001b[1;32m    213\u001b[0m \u001b[0;34m\u001b[0m\u001b[0m\n",
      "\u001b[0;32m~/opt/anaconda3/lib/python3.8/site-packages/sklearn/model_selection/_validation.py\u001b[0m in \u001b[0;36m_fit_and_score\u001b[0;34m(estimator, X, y, scorer, train, test, verbose, parameters, fit_params, return_train_score, return_parameters, return_n_test_samples, return_times, return_estimator, split_progress, candidate_progress, error_score)\u001b[0m\n\u001b[1;32m    679\u001b[0m             \u001b[0mestimator\u001b[0m\u001b[0;34m.\u001b[0m\u001b[0mfit\u001b[0m\u001b[0;34m(\u001b[0m\u001b[0mX_train\u001b[0m\u001b[0;34m,\u001b[0m \u001b[0;34m**\u001b[0m\u001b[0mfit_params\u001b[0m\u001b[0;34m)\u001b[0m\u001b[0;34m\u001b[0m\u001b[0;34m\u001b[0m\u001b[0m\n\u001b[1;32m    680\u001b[0m         \u001b[0;32melse\u001b[0m\u001b[0;34m:\u001b[0m\u001b[0;34m\u001b[0m\u001b[0;34m\u001b[0m\u001b[0m\n\u001b[0;32m--> 681\u001b[0;31m             \u001b[0mestimator\u001b[0m\u001b[0;34m.\u001b[0m\u001b[0mfit\u001b[0m\u001b[0;34m(\u001b[0m\u001b[0mX_train\u001b[0m\u001b[0;34m,\u001b[0m \u001b[0my_train\u001b[0m\u001b[0;34m,\u001b[0m \u001b[0;34m**\u001b[0m\u001b[0mfit_params\u001b[0m\u001b[0;34m)\u001b[0m\u001b[0;34m\u001b[0m\u001b[0;34m\u001b[0m\u001b[0m\n\u001b[0m\u001b[1;32m    682\u001b[0m \u001b[0;34m\u001b[0m\u001b[0m\n\u001b[1;32m    683\u001b[0m     \u001b[0;32mexcept\u001b[0m \u001b[0mException\u001b[0m\u001b[0;34m:\u001b[0m\u001b[0;34m\u001b[0m\u001b[0;34m\u001b[0m\u001b[0m\n",
      "\u001b[0;32m~/opt/anaconda3/lib/python3.8/site-packages/sklearn/linear_model/_logistic.py\u001b[0m in \u001b[0;36mfit\u001b[0;34m(self, X, y, sample_weight)\u001b[0m\n\u001b[1;32m   1587\u001b[0m         \u001b[0;32melse\u001b[0m\u001b[0;34m:\u001b[0m\u001b[0;34m\u001b[0m\u001b[0;34m\u001b[0m\u001b[0m\n\u001b[1;32m   1588\u001b[0m             \u001b[0mprefer\u001b[0m \u001b[0;34m=\u001b[0m \u001b[0;34m\"processes\"\u001b[0m\u001b[0;34m\u001b[0m\u001b[0;34m\u001b[0m\u001b[0m\n\u001b[0;32m-> 1589\u001b[0;31m         fold_coefs_ = Parallel(\n\u001b[0m\u001b[1;32m   1590\u001b[0m             \u001b[0mn_jobs\u001b[0m\u001b[0;34m=\u001b[0m\u001b[0mself\u001b[0m\u001b[0;34m.\u001b[0m\u001b[0mn_jobs\u001b[0m\u001b[0;34m,\u001b[0m\u001b[0;34m\u001b[0m\u001b[0;34m\u001b[0m\u001b[0m\n\u001b[1;32m   1591\u001b[0m             \u001b[0mverbose\u001b[0m\u001b[0;34m=\u001b[0m\u001b[0mself\u001b[0m\u001b[0;34m.\u001b[0m\u001b[0mverbose\u001b[0m\u001b[0;34m,\u001b[0m\u001b[0;34m\u001b[0m\u001b[0;34m\u001b[0m\u001b[0m\n",
      "\u001b[0;32m~/opt/anaconda3/lib/python3.8/site-packages/joblib/parallel.py\u001b[0m in \u001b[0;36m__call__\u001b[0;34m(self, iterable)\u001b[0m\n\u001b[1;32m   1039\u001b[0m             \u001b[0;31m# remaining jobs.\u001b[0m\u001b[0;34m\u001b[0m\u001b[0;34m\u001b[0m\u001b[0;34m\u001b[0m\u001b[0m\n\u001b[1;32m   1040\u001b[0m             \u001b[0mself\u001b[0m\u001b[0;34m.\u001b[0m\u001b[0m_iterating\u001b[0m \u001b[0;34m=\u001b[0m \u001b[0;32mFalse\u001b[0m\u001b[0;34m\u001b[0m\u001b[0;34m\u001b[0m\u001b[0m\n\u001b[0;32m-> 1041\u001b[0;31m             \u001b[0;32mif\u001b[0m \u001b[0mself\u001b[0m\u001b[0;34m.\u001b[0m\u001b[0mdispatch_one_batch\u001b[0m\u001b[0;34m(\u001b[0m\u001b[0miterator\u001b[0m\u001b[0;34m)\u001b[0m\u001b[0;34m:\u001b[0m\u001b[0;34m\u001b[0m\u001b[0;34m\u001b[0m\u001b[0m\n\u001b[0m\u001b[1;32m   1042\u001b[0m                 \u001b[0mself\u001b[0m\u001b[0;34m.\u001b[0m\u001b[0m_iterating\u001b[0m \u001b[0;34m=\u001b[0m \u001b[0mself\u001b[0m\u001b[0;34m.\u001b[0m\u001b[0m_original_iterator\u001b[0m \u001b[0;32mis\u001b[0m \u001b[0;32mnot\u001b[0m \u001b[0;32mNone\u001b[0m\u001b[0;34m\u001b[0m\u001b[0;34m\u001b[0m\u001b[0m\n\u001b[1;32m   1043\u001b[0m \u001b[0;34m\u001b[0m\u001b[0m\n",
      "\u001b[0;32m~/opt/anaconda3/lib/python3.8/site-packages/joblib/parallel.py\u001b[0m in \u001b[0;36mdispatch_one_batch\u001b[0;34m(self, iterator)\u001b[0m\n\u001b[1;32m    857\u001b[0m                 \u001b[0;32mreturn\u001b[0m \u001b[0;32mFalse\u001b[0m\u001b[0;34m\u001b[0m\u001b[0;34m\u001b[0m\u001b[0m\n\u001b[1;32m    858\u001b[0m             \u001b[0;32melse\u001b[0m\u001b[0;34m:\u001b[0m\u001b[0;34m\u001b[0m\u001b[0;34m\u001b[0m\u001b[0m\n\u001b[0;32m--> 859\u001b[0;31m                 \u001b[0mself\u001b[0m\u001b[0;34m.\u001b[0m\u001b[0m_dispatch\u001b[0m\u001b[0;34m(\u001b[0m\u001b[0mtasks\u001b[0m\u001b[0;34m)\u001b[0m\u001b[0;34m\u001b[0m\u001b[0;34m\u001b[0m\u001b[0m\n\u001b[0m\u001b[1;32m    860\u001b[0m                 \u001b[0;32mreturn\u001b[0m \u001b[0;32mTrue\u001b[0m\u001b[0;34m\u001b[0m\u001b[0;34m\u001b[0m\u001b[0m\n\u001b[1;32m    861\u001b[0m \u001b[0;34m\u001b[0m\u001b[0m\n",
      "\u001b[0;32m~/opt/anaconda3/lib/python3.8/site-packages/joblib/parallel.py\u001b[0m in \u001b[0;36m_dispatch\u001b[0;34m(self, batch)\u001b[0m\n\u001b[1;32m    775\u001b[0m         \u001b[0;32mwith\u001b[0m \u001b[0mself\u001b[0m\u001b[0;34m.\u001b[0m\u001b[0m_lock\u001b[0m\u001b[0;34m:\u001b[0m\u001b[0;34m\u001b[0m\u001b[0;34m\u001b[0m\u001b[0m\n\u001b[1;32m    776\u001b[0m             \u001b[0mjob_idx\u001b[0m \u001b[0;34m=\u001b[0m \u001b[0mlen\u001b[0m\u001b[0;34m(\u001b[0m\u001b[0mself\u001b[0m\u001b[0;34m.\u001b[0m\u001b[0m_jobs\u001b[0m\u001b[0;34m)\u001b[0m\u001b[0;34m\u001b[0m\u001b[0;34m\u001b[0m\u001b[0m\n\u001b[0;32m--> 777\u001b[0;31m             \u001b[0mjob\u001b[0m \u001b[0;34m=\u001b[0m \u001b[0mself\u001b[0m\u001b[0;34m.\u001b[0m\u001b[0m_backend\u001b[0m\u001b[0;34m.\u001b[0m\u001b[0mapply_async\u001b[0m\u001b[0;34m(\u001b[0m\u001b[0mbatch\u001b[0m\u001b[0;34m,\u001b[0m \u001b[0mcallback\u001b[0m\u001b[0;34m=\u001b[0m\u001b[0mcb\u001b[0m\u001b[0;34m)\u001b[0m\u001b[0;34m\u001b[0m\u001b[0;34m\u001b[0m\u001b[0m\n\u001b[0m\u001b[1;32m    778\u001b[0m             \u001b[0;31m# A job can complete so quickly than its callback is\u001b[0m\u001b[0;34m\u001b[0m\u001b[0;34m\u001b[0m\u001b[0;34m\u001b[0m\u001b[0m\n\u001b[1;32m    779\u001b[0m             \u001b[0;31m# called before we get here, causing self._jobs to\u001b[0m\u001b[0;34m\u001b[0m\u001b[0;34m\u001b[0m\u001b[0;34m\u001b[0m\u001b[0m\n",
      "\u001b[0;32m~/opt/anaconda3/lib/python3.8/site-packages/joblib/_parallel_backends.py\u001b[0m in \u001b[0;36mapply_async\u001b[0;34m(self, func, callback)\u001b[0m\n\u001b[1;32m    206\u001b[0m     \u001b[0;32mdef\u001b[0m \u001b[0mapply_async\u001b[0m\u001b[0;34m(\u001b[0m\u001b[0mself\u001b[0m\u001b[0;34m,\u001b[0m \u001b[0mfunc\u001b[0m\u001b[0;34m,\u001b[0m \u001b[0mcallback\u001b[0m\u001b[0;34m=\u001b[0m\u001b[0;32mNone\u001b[0m\u001b[0;34m)\u001b[0m\u001b[0;34m:\u001b[0m\u001b[0;34m\u001b[0m\u001b[0;34m\u001b[0m\u001b[0m\n\u001b[1;32m    207\u001b[0m         \u001b[0;34m\"\"\"Schedule a func to be run\"\"\"\u001b[0m\u001b[0;34m\u001b[0m\u001b[0;34m\u001b[0m\u001b[0m\n\u001b[0;32m--> 208\u001b[0;31m         \u001b[0mresult\u001b[0m \u001b[0;34m=\u001b[0m \u001b[0mImmediateResult\u001b[0m\u001b[0;34m(\u001b[0m\u001b[0mfunc\u001b[0m\u001b[0;34m)\u001b[0m\u001b[0;34m\u001b[0m\u001b[0;34m\u001b[0m\u001b[0m\n\u001b[0m\u001b[1;32m    209\u001b[0m         \u001b[0;32mif\u001b[0m \u001b[0mcallback\u001b[0m\u001b[0;34m:\u001b[0m\u001b[0;34m\u001b[0m\u001b[0;34m\u001b[0m\u001b[0m\n\u001b[1;32m    210\u001b[0m             \u001b[0mcallback\u001b[0m\u001b[0;34m(\u001b[0m\u001b[0mresult\u001b[0m\u001b[0;34m)\u001b[0m\u001b[0;34m\u001b[0m\u001b[0;34m\u001b[0m\u001b[0m\n",
      "\u001b[0;32m~/opt/anaconda3/lib/python3.8/site-packages/joblib/_parallel_backends.py\u001b[0m in \u001b[0;36m__init__\u001b[0;34m(self, batch)\u001b[0m\n\u001b[1;32m    570\u001b[0m         \u001b[0;31m# Don't delay the application, to avoid keeping the input\u001b[0m\u001b[0;34m\u001b[0m\u001b[0;34m\u001b[0m\u001b[0;34m\u001b[0m\u001b[0m\n\u001b[1;32m    571\u001b[0m         \u001b[0;31m# arguments in memory\u001b[0m\u001b[0;34m\u001b[0m\u001b[0;34m\u001b[0m\u001b[0;34m\u001b[0m\u001b[0m\n\u001b[0;32m--> 572\u001b[0;31m         \u001b[0mself\u001b[0m\u001b[0;34m.\u001b[0m\u001b[0mresults\u001b[0m \u001b[0;34m=\u001b[0m \u001b[0mbatch\u001b[0m\u001b[0;34m(\u001b[0m\u001b[0;34m)\u001b[0m\u001b[0;34m\u001b[0m\u001b[0;34m\u001b[0m\u001b[0m\n\u001b[0m\u001b[1;32m    573\u001b[0m \u001b[0;34m\u001b[0m\u001b[0m\n\u001b[1;32m    574\u001b[0m     \u001b[0;32mdef\u001b[0m \u001b[0mget\u001b[0m\u001b[0;34m(\u001b[0m\u001b[0mself\u001b[0m\u001b[0;34m)\u001b[0m\u001b[0;34m:\u001b[0m\u001b[0;34m\u001b[0m\u001b[0;34m\u001b[0m\u001b[0m\n",
      "\u001b[0;32m~/opt/anaconda3/lib/python3.8/site-packages/joblib/parallel.py\u001b[0m in \u001b[0;36m__call__\u001b[0;34m(self)\u001b[0m\n\u001b[1;32m    260\u001b[0m         \u001b[0;31m# change the default number of processes to -1\u001b[0m\u001b[0;34m\u001b[0m\u001b[0;34m\u001b[0m\u001b[0;34m\u001b[0m\u001b[0m\n\u001b[1;32m    261\u001b[0m         \u001b[0;32mwith\u001b[0m \u001b[0mparallel_backend\u001b[0m\u001b[0;34m(\u001b[0m\u001b[0mself\u001b[0m\u001b[0;34m.\u001b[0m\u001b[0m_backend\u001b[0m\u001b[0;34m,\u001b[0m \u001b[0mn_jobs\u001b[0m\u001b[0;34m=\u001b[0m\u001b[0mself\u001b[0m\u001b[0;34m.\u001b[0m\u001b[0m_n_jobs\u001b[0m\u001b[0;34m)\u001b[0m\u001b[0;34m:\u001b[0m\u001b[0;34m\u001b[0m\u001b[0;34m\u001b[0m\u001b[0m\n\u001b[0;32m--> 262\u001b[0;31m             return [func(*args, **kwargs)\n\u001b[0m\u001b[1;32m    263\u001b[0m                     for func, args, kwargs in self.items]\n\u001b[1;32m    264\u001b[0m \u001b[0;34m\u001b[0m\u001b[0m\n",
      "\u001b[0;32m~/opt/anaconda3/lib/python3.8/site-packages/joblib/parallel.py\u001b[0m in \u001b[0;36m<listcomp>\u001b[0;34m(.0)\u001b[0m\n\u001b[1;32m    260\u001b[0m         \u001b[0;31m# change the default number of processes to -1\u001b[0m\u001b[0;34m\u001b[0m\u001b[0;34m\u001b[0m\u001b[0;34m\u001b[0m\u001b[0m\n\u001b[1;32m    261\u001b[0m         \u001b[0;32mwith\u001b[0m \u001b[0mparallel_backend\u001b[0m\u001b[0;34m(\u001b[0m\u001b[0mself\u001b[0m\u001b[0;34m.\u001b[0m\u001b[0m_backend\u001b[0m\u001b[0;34m,\u001b[0m \u001b[0mn_jobs\u001b[0m\u001b[0;34m=\u001b[0m\u001b[0mself\u001b[0m\u001b[0;34m.\u001b[0m\u001b[0m_n_jobs\u001b[0m\u001b[0;34m)\u001b[0m\u001b[0;34m:\u001b[0m\u001b[0;34m\u001b[0m\u001b[0;34m\u001b[0m\u001b[0m\n\u001b[0;32m--> 262\u001b[0;31m             return [func(*args, **kwargs)\n\u001b[0m\u001b[1;32m    263\u001b[0m                     for func, args, kwargs in self.items]\n\u001b[1;32m    264\u001b[0m \u001b[0;34m\u001b[0m\u001b[0m\n",
      "\u001b[0;32m~/opt/anaconda3/lib/python3.8/site-packages/sklearn/utils/fixes.py\u001b[0m in \u001b[0;36m__call__\u001b[0;34m(self, *args, **kwargs)\u001b[0m\n\u001b[1;32m    209\u001b[0m     \u001b[0;32mdef\u001b[0m \u001b[0m__call__\u001b[0m\u001b[0;34m(\u001b[0m\u001b[0mself\u001b[0m\u001b[0;34m,\u001b[0m \u001b[0;34m*\u001b[0m\u001b[0margs\u001b[0m\u001b[0;34m,\u001b[0m \u001b[0;34m**\u001b[0m\u001b[0mkwargs\u001b[0m\u001b[0;34m)\u001b[0m\u001b[0;34m:\u001b[0m\u001b[0;34m\u001b[0m\u001b[0;34m\u001b[0m\u001b[0m\n\u001b[1;32m    210\u001b[0m         \u001b[0;32mwith\u001b[0m \u001b[0mconfig_context\u001b[0m\u001b[0;34m(\u001b[0m\u001b[0;34m**\u001b[0m\u001b[0mself\u001b[0m\u001b[0;34m.\u001b[0m\u001b[0mconfig\u001b[0m\u001b[0;34m)\u001b[0m\u001b[0;34m:\u001b[0m\u001b[0;34m\u001b[0m\u001b[0;34m\u001b[0m\u001b[0m\n\u001b[0;32m--> 211\u001b[0;31m             \u001b[0;32mreturn\u001b[0m \u001b[0mself\u001b[0m\u001b[0;34m.\u001b[0m\u001b[0mfunction\u001b[0m\u001b[0;34m(\u001b[0m\u001b[0;34m*\u001b[0m\u001b[0margs\u001b[0m\u001b[0;34m,\u001b[0m \u001b[0;34m**\u001b[0m\u001b[0mkwargs\u001b[0m\u001b[0;34m)\u001b[0m\u001b[0;34m\u001b[0m\u001b[0;34m\u001b[0m\u001b[0m\n\u001b[0m\u001b[1;32m    212\u001b[0m \u001b[0;34m\u001b[0m\u001b[0m\n\u001b[1;32m    213\u001b[0m \u001b[0;34m\u001b[0m\u001b[0m\n",
      "\u001b[0;32m~/opt/anaconda3/lib/python3.8/site-packages/sklearn/linear_model/_logistic.py\u001b[0m in \u001b[0;36m_logistic_regression_path\u001b[0;34m(X, y, pos_class, Cs, fit_intercept, max_iter, tol, verbose, solver, coef, class_weight, dual, penalty, intercept_scaling, multi_class, random_state, check_input, max_squared_sum, sample_weight, l1_ratio)\u001b[0m\n\u001b[1;32m    862\u001b[0m                 \u001b[0mbeta\u001b[0m \u001b[0;34m=\u001b[0m \u001b[0;34m(\u001b[0m\u001b[0;36m1.0\u001b[0m \u001b[0;34m/\u001b[0m \u001b[0mC\u001b[0m\u001b[0;34m)\u001b[0m \u001b[0;34m*\u001b[0m \u001b[0ml1_ratio\u001b[0m\u001b[0;34m\u001b[0m\u001b[0;34m\u001b[0m\u001b[0m\n\u001b[1;32m    863\u001b[0m \u001b[0;34m\u001b[0m\u001b[0m\n\u001b[0;32m--> 864\u001b[0;31m             w0, n_iter_i, warm_start_sag = sag_solver(\n\u001b[0m\u001b[1;32m    865\u001b[0m                 \u001b[0mX\u001b[0m\u001b[0;34m,\u001b[0m\u001b[0;34m\u001b[0m\u001b[0;34m\u001b[0m\u001b[0m\n\u001b[1;32m    866\u001b[0m                 \u001b[0mtarget\u001b[0m\u001b[0;34m,\u001b[0m\u001b[0;34m\u001b[0m\u001b[0;34m\u001b[0m\u001b[0m\n",
      "\u001b[0;32m~/opt/anaconda3/lib/python3.8/site-packages/sklearn/linear_model/_sag.py\u001b[0m in \u001b[0;36msag_solver\u001b[0;34m(X, y, sample_weight, loss, alpha, beta, max_iter, tol, verbose, random_state, check_input, max_squared_sum, warm_start_mem, is_saga)\u001b[0m\n\u001b[1;32m    325\u001b[0m \u001b[0;34m\u001b[0m\u001b[0m\n\u001b[1;32m    326\u001b[0m     \u001b[0msag\u001b[0m \u001b[0;34m=\u001b[0m \u001b[0msag64\u001b[0m \u001b[0;32mif\u001b[0m \u001b[0mX\u001b[0m\u001b[0;34m.\u001b[0m\u001b[0mdtype\u001b[0m \u001b[0;34m==\u001b[0m \u001b[0mnp\u001b[0m\u001b[0;34m.\u001b[0m\u001b[0mfloat64\u001b[0m \u001b[0;32melse\u001b[0m \u001b[0msag32\u001b[0m\u001b[0;34m\u001b[0m\u001b[0;34m\u001b[0m\u001b[0m\n\u001b[0;32m--> 327\u001b[0;31m     num_seen, n_iter_ = sag(\n\u001b[0m\u001b[1;32m    328\u001b[0m         \u001b[0mdataset\u001b[0m\u001b[0;34m,\u001b[0m\u001b[0;34m\u001b[0m\u001b[0;34m\u001b[0m\u001b[0m\n\u001b[1;32m    329\u001b[0m         \u001b[0mcoef_init\u001b[0m\u001b[0;34m,\u001b[0m\u001b[0;34m\u001b[0m\u001b[0;34m\u001b[0m\u001b[0m\n",
      "\u001b[0;31mKeyboardInterrupt\u001b[0m: "
     ]
    }
   ],
   "source": [
    "from sklearn.model_selection import cross_val_score, cross_val_predict\n",
    "from sklearn import metrics\n",
    "scores3 = cross_val_score(logistic, X, y, cv=6)\n",
    "print (\"Cross-validated scores:\", scores3)"
   ]
  },
  {
   "cell_type": "code",
   "execution_count": null,
   "id": "baa7a831",
   "metadata": {},
   "outputs": [],
   "source": []
  },
  {
   "cell_type": "code",
   "execution_count": null,
   "id": "8f7125ca",
   "metadata": {},
   "outputs": [],
   "source": []
  },
  {
   "cell_type": "code",
   "execution_count": null,
   "id": "f9646178",
   "metadata": {},
   "outputs": [],
   "source": []
  },
  {
   "cell_type": "code",
   "execution_count": null,
   "id": "38f6d30b",
   "metadata": {},
   "outputs": [],
   "source": []
  },
  {
   "cell_type": "code",
   "execution_count": null,
   "id": "74681d14",
   "metadata": {},
   "outputs": [],
   "source": []
  },
  {
   "cell_type": "code",
   "execution_count": null,
   "id": "5088167f",
   "metadata": {},
   "outputs": [],
   "source": []
  },
  {
   "cell_type": "code",
   "execution_count": null,
   "id": "4cc4cbcd",
   "metadata": {},
   "outputs": [],
   "source": []
  },
  {
   "cell_type": "code",
   "execution_count": null,
   "id": "8920cbeb",
   "metadata": {},
   "outputs": [],
   "source": []
  },
  {
   "cell_type": "code",
   "execution_count": null,
   "id": "2463ee31",
   "metadata": {},
   "outputs": [],
   "source": []
  },
  {
   "cell_type": "code",
   "execution_count": null,
   "id": "13c8af18",
   "metadata": {},
   "outputs": [],
   "source": []
  },
  {
   "cell_type": "markdown",
   "id": "147d927a",
   "metadata": {},
   "source": [
    "## Here we show the feature importance in each pricipal components"
   ]
  },
  {
   "cell_type": "code",
   "execution_count": null,
   "id": "ceb3d253",
   "metadata": {},
   "outputs": [],
   "source": [
    "# 10 samples with 5 features\n",
    "train_features = np.random.rand(10,5)\n",
    "\n",
    "# number of components\n",
    "n_pcs= pca_m.components_.shape[0]#10\n",
    "\n",
    "# get the index of the most important feature on EACH component\n",
    "most_important = [np.abs(pca_m.components_[i]).argmax() for i in range(n_pcs)]\n",
    "\n"
   ]
  },
  {
   "cell_type": "code",
   "execution_count": null,
   "id": "bb55d943",
   "metadata": {},
   "outputs": [],
   "source": [
    "n_pcs"
   ]
  },
  {
   "cell_type": "code",
   "execution_count": null,
   "id": "790a9f09",
   "metadata": {},
   "outputs": [],
   "source": [
    "most_important"
   ]
  },
  {
   "cell_type": "code",
   "execution_count": null,
   "id": "c174cb7f",
   "metadata": {},
   "outputs": [],
   "source": [
    "initial_feature_names = df_num_x.columns.tolist()+ df_dummies_x.columns.tolist()"
   ]
  },
  {
   "cell_type": "code",
   "execution_count": null,
   "id": "00b43c84",
   "metadata": {},
   "outputs": [],
   "source": [
    "\n",
    "most_important_names = [initial_feature_names[most_important[i]] for i in range(n_pcs)]\n",
    "\n",
    "# LIST COMPREHENSION HERE AGAIN\n",
    "dic = {'PC{}'.format(i): (most_important_names[i],pca_m.explained_variance_ratio_[i]) for i in range(n_pcs)}\n",
    "\n",
    "# build the dataframe\n",
    "df = pd.DataFrame(dic.items())"
   ]
  },
  {
   "cell_type": "code",
   "execution_count": null,
   "id": "4ce2e865",
   "metadata": {},
   "outputs": [],
   "source": [
    "df"
   ]
  },
  {
   "cell_type": "markdown",
   "id": "2047eda4",
   "metadata": {},
   "source": [
    "B. We put the selected features with high correlations "
   ]
  },
  {
   "cell_type": "code",
   "execution_count": null,
   "id": "ce84a8fe",
   "metadata": {},
   "outputs": [],
   "source": [
    "numerical_corr = df_num.corr()"
   ]
  },
  {
   "cell_type": "code",
   "execution_count": null,
   "id": "6725ec03",
   "metadata": {},
   "outputs": [],
   "source": [
    "\n",
    "pos_d = dummyval_corr.loc[dummyval_corr['action_taken']>0.15].index[:-1]\n",
    "neg_d = dummyval_corr.loc[dummyval_corr['action_taken']<-0.15].index\n",
    "total_d = neg_d.tolist()+ pos_d.tolist()#selected dummy features\n",
    "dummy_features = df_dummies[total_d].columns\n",
    "\n",
    "neg_n = numerical_corr.loc[numerical_corr['action_taken']<-0.03].index\n",
    "pos_n = numerical_corr.loc[numerical_corr['action_taken']>0.03].index[:-1]\n",
    "total_n = neg_n.tolist()+ pos_n.tolist()#selected numerical features\n",
    "numerical_features = df_num[total_n].columns\n"
   ]
  },
  {
   "cell_type": "code",
   "execution_count": null,
   "id": "fa5600f3",
   "metadata": {},
   "outputs": [],
   "source": [
    "len(dummy_features)"
   ]
  },
  {
   "cell_type": "code",
   "execution_count": null,
   "id": "a2c6b214",
   "metadata": {},
   "outputs": [],
   "source": [
    "len(numerical_features)"
   ]
  },
  {
   "cell_type": "code",
   "execution_count": null,
   "id": "dbad1d1b",
   "metadata": {},
   "outputs": [],
   "source": [
    "array_x = np.concatenate((np.asarray(df_dummies[total_d]),np.asarray(df_num[total_n])),axis = 1)\n",
    "array_x.shape"
   ]
  },
  {
   "cell_type": "code",
   "execution_count": null,
   "id": "3b53344b",
   "metadata": {},
   "outputs": [],
   "source": [
    "y = np.asarray(credit_without_outlier['action_taken'])\n",
    "X = array_x\n",
    "X_train, X_test, y_train, y_test = train_test_split(X, y, test_size=0.3)\n",
    "rfc_selected = RandomForestClassifier(random_state=0, n_estimators=100, n_jobs=-1)\n",
    "rfc_selected.fit(X_train, y_train)\n",
    "\n",
    "y_pred = rfc_selected.predict(X_test)\n",
    "y_pred"
   ]
  },
  {
   "cell_type": "code",
   "execution_count": null,
   "id": "8f462f0a",
   "metadata": {},
   "outputs": [],
   "source": [
    "\n",
    "from sklearn.metrics import accuracy_score, confusion_matrix, precision_score, recall_score, roc_auc_score, roc_curve, f1_score\n",
    "\n",
    "accuracy_score(y_test, y_pred)\n",
    "print(f\"The accuracy of the model is {round(accuracy_score(y_test,y_pred),3)*100} %\")\n"
   ]
  },
  {
   "cell_type": "code",
   "execution_count": null,
   "id": "d7837bf9",
   "metadata": {},
   "outputs": [],
   "source": [
    "\n",
    "# Necessary imports: \n",
    "from sklearn.model_selection import cross_val_score, cross_val_predict\n",
    "from sklearn import metrics\n",
    "\n",
    "scores = cross_val_score(rfc3, X, y, cv=3)\n",
    "print (\"Cross-validated scores:\", scores)\n",
    "#[0.9151217  0.88537985 0.89495549]"
   ]
  },
  {
   "cell_type": "code",
   "execution_count": null,
   "id": "5133f3a7",
   "metadata": {},
   "outputs": [],
   "source": []
  },
  {
   "cell_type": "code",
   "execution_count": null,
   "id": "bd19ac37",
   "metadata": {},
   "outputs": [],
   "source": []
  },
  {
   "cell_type": "code",
   "execution_count": null,
   "id": "7d59551e",
   "metadata": {},
   "outputs": [],
   "source": []
  },
  {
   "cell_type": "code",
   "execution_count": null,
   "id": "933ed1f1",
   "metadata": {},
   "outputs": [],
   "source": []
  },
  {
   "cell_type": "code",
   "execution_count": null,
   "id": "f0bdcc35",
   "metadata": {},
   "outputs": [],
   "source": [
    "pip install plotly==5.3.1"
   ]
  },
  {
   "cell_type": "code",
   "execution_count": null,
   "id": "6321dff9",
   "metadata": {},
   "outputs": [],
   "source": [
    "import plotly.figure_factory as ff\n"
   ]
  },
  {
   "cell_type": "code",
   "execution_count": null,
   "id": "754543ac",
   "metadata": {},
   "outputs": [],
   "source": [
    "credit.columns"
   ]
  },
  {
   "cell_type": "code",
   "execution_count": null,
   "id": "b869032a",
   "metadata": {},
   "outputs": [],
   "source": [
    "df_value = credit[['county code','action_taken']]\n",
    "df_value = df_value.groupby('county code').aggregate({'action_taken':'sum'})\n",
    "df_value = df_value.reset_index()"
   ]
  },
  {
   "cell_type": "code",
   "execution_count": null,
   "id": "87ebe3fe",
   "metadata": {},
   "outputs": [],
   "source": []
  },
  {
   "cell_type": "code",
   "execution_count": null,
   "id": "3eea657a",
   "metadata": {},
   "outputs": [],
   "source": [
    "pip install plotly-geo"
   ]
  },
  {
   "cell_type": "code",
   "execution_count": null,
   "id": "eed1700c",
   "metadata": {},
   "outputs": [],
   "source": [
    "dfNY = pd.read_csv('https://raw.githubusercontent.com/plotly/datasets/master/minoritymajority.csv')\n",
    "dfNY = dfNY[dfNY['STNAME'] == 'New York']"
   ]
  },
  {
   "cell_type": "code",
   "execution_count": null,
   "id": "ff1ef387",
   "metadata": {},
   "outputs": [],
   "source": [
    "values = df_value['action_taken'].tolist()\n",
    "fips = df_value['county code'].tolist()"
   ]
  },
  {
   "cell_type": "code",
   "execution_count": null,
   "id": "1c7627c7",
   "metadata": {},
   "outputs": [],
   "source": [
    "!pip install geopandas==0.3.0\n",
    "!pip install pyshp==1.2.10\n"
   ]
  },
  {
   "cell_type": "code",
   "execution_count": null,
   "id": "af3ef729",
   "metadata": {},
   "outputs": [],
   "source": [
    "!pip install shapely"
   ]
  },
  {
   "cell_type": "code",
   "execution_count": null,
   "id": "20cc1473",
   "metadata": {},
   "outputs": [],
   "source": [
    "endpts = list(np.mgrid[min(values):max(values):4j])\n",
    "\n",
    "colorscale = [\"#030512\",\"#1d1d3b\",\"#323268\",\"#3d4b94\",\"#3e6ab0\",\n",
    "              \"#4989bc\",\"#60a7c7\",\"#85c5d3\",\"#b7e0e4\",\"#eafcfd\"]\n",
    "\n",
    "fig = ff.create_choropleth(\n",
    "    fips=fips, values=values, scope=['New York'], show_state_data=True,\n",
    "    colorscale=colorscale, binning_endpoints=endpts, round_legend_values=True,\n",
    "    plot_bgcolor='rgb(229,229,229)',\n",
    "    paper_bgcolor='rgb(229,229,229)',\n",
    "    legend_title=' by County',\n",
    "    county_outline={'color': 'rgb(255,255,255)', 'width': 0.5},\n",
    "    exponent_format=True,\n",
    ")\n",
    "fig.layout.template = None\n",
    "fig.show()"
   ]
  },
  {
   "cell_type": "code",
   "execution_count": null,
   "id": "dba0ab9c",
   "metadata": {},
   "outputs": [],
   "source": [
    "credit['applicant_age'].value_counts()"
   ]
  },
  {
   "cell_type": "code",
   "execution_count": null,
   "id": "a987cb44",
   "metadata": {},
   "outputs": [],
   "source": [
    "credit.shape"
   ]
  },
  {
   "cell_type": "code",
   "execution_count": null,
   "id": "d2cca9cc",
   "metadata": {},
   "outputs": [],
   "source": [
    "credit.to_csv('1026.csv')"
   ]
  },
  {
   "cell_type": "code",
   "execution_count": null,
   "id": "21ac3ee2",
   "metadata": {},
   "outputs": [],
   "source": [
    "credit['applicant_race-1'].value_counts().sort_values(ascending = True)\n",
    "#['applicant_race-5','applicant_race-4','applicant_race-3','applicant_race-2','applicant_race-1']]"
   ]
  },
  {
   "cell_type": "code",
   "execution_count": null,
   "id": "630453fe",
   "metadata": {},
   "outputs": [],
   "source": [
    "credit['derived_race']"
   ]
  },
  {
   "cell_type": "code",
   "execution_count": null,
   "id": "6d704433",
   "metadata": {},
   "outputs": [],
   "source": [
    "data1['applicant_race-5','applicant_race-4','applicant_race-3','applicant_race-2','applicant_race-1']"
   ]
  },
  {
   "cell_type": "code",
   "execution_count": null,
   "id": "c9021c77",
   "metadata": {},
   "outputs": [],
   "source": []
  },
  {
   "cell_type": "code",
   "execution_count": null,
   "id": "20c5e54b",
   "metadata": {},
   "outputs": [],
   "source": []
  },
  {
   "cell_type": "code",
   "execution_count": null,
   "id": "435cba55",
   "metadata": {},
   "outputs": [],
   "source": []
  },
  {
   "cell_type": "code",
   "execution_count": null,
   "id": "09e7fcad",
   "metadata": {},
   "outputs": [],
   "source": []
  },
  {
   "cell_type": "code",
   "execution_count": null,
   "id": "90017453",
   "metadata": {},
   "outputs": [],
   "source": []
  },
  {
   "cell_type": "code",
   "execution_count": null,
   "id": "b51ca997",
   "metadata": {},
   "outputs": [],
   "source": []
  },
  {
   "cell_type": "code",
   "execution_count": null,
   "id": "d52529ad",
   "metadata": {},
   "outputs": [],
   "source": []
  },
  {
   "cell_type": "code",
   "execution_count": null,
   "id": "a3564b77",
   "metadata": {},
   "outputs": [],
   "source": [
    "\n",
    "\n",
    "\n",
    "\n",
    "\n",
    "\n",
    "（2）再加上二维的interaction，run一下models\n",
    "\n"
   ]
  }
 ],
 "metadata": {
  "kernelspec": {
   "display_name": "Python 3 (ipykernel)",
   "language": "python",
   "name": "python3"
  },
  "language_info": {
   "codemirror_mode": {
    "name": "ipython",
    "version": 3
   },
   "file_extension": ".py",
   "mimetype": "text/x-python",
   "name": "python",
   "nbconvert_exporter": "python",
   "pygments_lexer": "ipython3",
   "version": "3.9.6"
  }
 },
 "nbformat": 4,
 "nbformat_minor": 5
}
